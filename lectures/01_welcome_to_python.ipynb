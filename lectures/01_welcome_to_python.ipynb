{
 "cells": [
  {
   "cell_type": "markdown",
   "metadata": {
    "slideshow": {
     "slide_type": "slide"
    }
   },
   "source": [
    "# Unit 01: Welcome to Python\n",
    "\n",
    "<center><img src=\"figs/01_python_logos.png\" width=1200px alt=\"default\"/></center>"
   ]
  },
  {
   "cell_type": "markdown",
   "metadata": {
    "cell_style": "center",
    "slideshow": {
     "slide_type": "slide"
    }
   },
   "source": [
    "# Outline of ECE 3\n",
    "\n",
    "- **Unit 01: Welcome to Python**\n",
    "- Unit 02: Computing with Data in Python\n",
    "- Unit 03: Summarizing Data in Python\n",
    "- Unit 04: Predicting from Data with Machine Learning in Python\n"
   ]
  },
  {
   "cell_type": "markdown",
   "metadata": {
    "cell_style": "center"
   },
   "source": [
    "<center><img src=\"figs/01_python_logos.png\" width=600px alt=\"default\"/></center>"
   ]
  },
  {
   "cell_type": "markdown",
   "metadata": {
    "slideshow": {
     "slide_type": "slide"
    }
   },
   "source": [
    "# Outline of Unit 01\n",
    "\n",
    "- **01: Welcome to Python**\n",
    "  - Variables\n",
    "  - Data types\n",
    "  - Operators\n",
    "  - Conditional Statements\n",
    "  - For loops\n",
    "  - Functions"
   ]
  },
  {
   "cell_type": "markdown",
   "metadata": {
    "slideshow": {
     "slide_type": "slide"
    }
   },
   "source": [
    "# Outline of Unit 01\n",
    "\n",
    "- **01: Welcome to Python**\n",
    "  - **Variables**\n",
    "  - Data types\n",
    "  - Operators\n",
    "  - Conditional Statements\n",
    "  - For loops\n",
    "  - Functions"
   ]
  },
  {
   "cell_type": "markdown",
   "metadata": {
    "slideshow": {
     "slide_type": "slide"
    }
   },
   "source": [
    "### From Elementary Operations\n",
    "\n",
    "Python allows us to perform calculus using operations \\, *, +, -."
   ]
  },
  {
   "cell_type": "code",
   "execution_count": 9,
   "metadata": {},
   "outputs": [
    {
     "data": {
      "text/plain": [
       "1234567510261"
      ]
     },
     "execution_count": 9,
     "metadata": {},
     "output_type": "execute_result"
    }
   ],
   "source": [
    "1234567521682 - 11421"
   ]
  },
  {
   "cell_type": "markdown",
   "metadata": {},
   "source": [
    "Python also allows us to perform more complicated operations.\n",
    "\n",
    "$\\rightarrow$ For this, we use variables to store intermediate results."
   ]
  },
  {
   "cell_type": "markdown",
   "metadata": {
    "slideshow": {
     "slide_type": "slide"
    }
   },
   "source": [
    "### To Variables\n",
    "\n",
    "$\\color{#EF5645}{\\text{Definition}}$: In Python, a _variable_ is an entity that stores a value, and may change during the program.\n",
    "\n",
    "We check the value stored in a variable with `print`."
   ]
  },
  {
   "cell_type": "code",
   "execution_count": 13,
   "metadata": {},
   "outputs": [
    {
     "name": "stdout",
     "output_type": "stream",
     "text": [
      "42\n"
     ]
    }
   ],
   "source": [
    "a = 42\n",
    "print(a)"
   ]
  },
  {
   "cell_type": "markdown",
   "metadata": {},
   "source": [
    "$\\color{#EF5645}{\\text{Definition}}$: The _assignment operator_  `=` is used to assign values to variables."
   ]
  },
  {
   "cell_type": "markdown",
   "metadata": {
    "slideshow": {
     "slide_type": "slide"
    }
   },
   "source": [
    "$\\color{#047C91}{\\text{Exercise}}$:\n",
    "- Store the value 1.2 in a variable named `my_var`.\n",
    "- Add 1 to the variable `my_var`.\n",
    "- Print `my_var`."
   ]
  },
  {
   "cell_type": "code",
   "execution_count": 15,
   "metadata": {},
   "outputs": [
    {
     "name": "stdout",
     "output_type": "stream",
     "text": [
      "2.2\n"
     ]
    }
   ],
   "source": [
    "my_var = 1.2\n",
    "my_var = my_var + 1\n",
    "print(my_var)"
   ]
  },
  {
   "cell_type": "markdown",
   "metadata": {
    "slideshow": {
     "slide_type": "slide"
    }
   },
   "source": [
    "# Outline of Unit 01\n",
    "\n",
    "- **01: Welcome to Python**\n",
    "  - Variables\n",
    "  - **Data types**\n",
    "  - Operators\n",
    "  - Conditional Statements\n",
    "  - For loops\n",
    "  - Functions"
   ]
  },
  {
   "cell_type": "markdown",
   "metadata": {
    "slideshow": {
     "slide_type": "slide"
    }
   },
   "source": [
    "### Data Types\n",
    "\n",
    "$\\color{#EF5645}{\\text{Definition}}$: The _data type_ is the kind of value stored in a variable. \n",
    "\n",
    "<center><img src=\"figs/01_data_types.png\" width=650px alt=\"default\"/></center>\n",
    "\n",
    "We use `type` to know the type of a variable."
   ]
  },
  {
   "cell_type": "code",
   "execution_count": 18,
   "metadata": {},
   "outputs": [
    {
     "name": "stdout",
     "output_type": "stream",
     "text": [
      "42\n",
      "<class 'int'>\n"
     ]
    }
   ],
   "source": [
    "print(a)\n",
    "print(type(a))"
   ]
  },
  {
   "cell_type": "markdown",
   "metadata": {
    "slideshow": {
     "slide_type": "slide"
    }
   },
   "source": [
    "### Data Type: Int\n",
    "\n",
    "$\\color{#EF5645}{\\text{Definition}}$: An _integer_ is a whole number (not a decimal number) that can be positive, negative or zero."
   ]
  },
  {
   "cell_type": "code",
   "execution_count": 32,
   "metadata": {},
   "outputs": [
    {
     "name": "stdout",
     "output_type": "stream",
     "text": [
      "1 -2 12\n"
     ]
    },
    {
     "data": {
      "text/plain": [
       "int"
      ]
     },
     "execution_count": 32,
     "metadata": {},
     "output_type": "execute_result"
    }
   ],
   "source": [
    "int_1 = 1\n",
    "int_2 = -2\n",
    "var_3 = 10 + 2\n",
    "\n",
    "print(int_1, int_2, var_3)\n",
    "type(var_3)"
   ]
  },
  {
   "cell_type": "markdown",
   "metadata": {
    "slideshow": {
     "slide_type": "slide"
    }
   },
   "source": [
    "### Data Type: Float\n",
    "\n",
    "$\\color{#EF5645}{\\text{Definition}}$: A _float_ is a number that contains a decimal point. \n",
    "\n",
    "Compared to integers, floats require more space in memory as you have two integers separated by a decimal point.\n",
    "\n",
    "Floats are useful for numbers that require more precision, such as calculations in engineering or microchip manufacturing."
   ]
  },
  {
   "cell_type": "code",
   "execution_count": 42,
   "metadata": {
    "slideshow": {
     "slide_type": "-"
    }
   },
   "outputs": [
    {
     "name": "stdout",
     "output_type": "stream",
     "text": [
      "1.7 3.0\n"
     ]
    },
    {
     "data": {
      "text/plain": [
       "float"
      ]
     },
     "execution_count": 42,
     "metadata": {},
     "output_type": "execute_result"
    }
   ],
   "source": [
    "float_1 = 1.7\n",
    "float_2 = 3 / 1\n",
    "print(float_1, float_2)\n",
    "type(float_1)"
   ]
  },
  {
   "cell_type": "markdown",
   "metadata": {
    "slideshow": {
     "slide_type": "slide"
    }
   },
   "source": [
    "### Data Type: Boolean\n",
    "\n",
    "$\\color{#EF5645}{\\text{Definition}}$: A _boolean_ represents one of the two values i.e. True or False.\n",
    "\n",
    "Generally, it is used to represent the truth values of the expressions. For example, 1==1 is True whereas 2<1 is False."
   ]
  },
  {
   "cell_type": "code",
   "execution_count": 54,
   "metadata": {},
   "outputs": [
    {
     "name": "stdout",
     "output_type": "stream",
     "text": [
      "False\n"
     ]
    }
   ],
   "source": [
    "expression = 1 == 3\n",
    "print(expression)"
   ]
  },
  {
   "cell_type": "markdown",
   "metadata": {
    "slideshow": {
     "slide_type": "slide"
    }
   },
   "source": [
    "### Data Type: String\n",
    "\n",
    "$\\color{#EF5645}{\\text{Definition}}$: \n",
    "A _string_ is a data type that is used to represent text rather than numbers and is composed of a set of characters. It can also contain spaces and numbers.\n",
    "\n",
    "Strings are assigned to variables using double quotes `\" \"` or single quotes `' '`."
   ]
  },
  {
   "cell_type": "code",
   "execution_count": 77,
   "metadata": {},
   "outputs": [
    {
     "name": "stdout",
     "output_type": "stream",
     "text": [
      "3459\n",
      "<class 'int'>\n"
     ]
    }
   ],
   "source": [
    "string_1 = 'This is my number 1 string'\n",
    "string_2 = \"this is another string\"\n",
    "string_3 = str(3)\n",
    "var_4 = int(\"3455\") + 4\n",
    "\n",
    "print(var_4)\n",
    "print(type(var_4))"
   ]
  },
  {
   "cell_type": "markdown",
   "metadata": {
    "slideshow": {
     "slide_type": "slide"
    }
   },
   "source": [
    "#### Extracting Characters from a String\n",
    "\n",
    "It is possible to extract parts of a string by:\n",
    "- referencing the position (or index) of a single character, or \n",
    "- by referencing a range with a start and end position. \n",
    "\n",
    "Note: 😱 indexes run from 0 to n-1 for a string with n characters."
   ]
  },
  {
   "cell_type": "code",
   "execution_count": 94,
   "metadata": {},
   "outputs": [
    {
     "name": "stdout",
     "output_type": "stream",
     "text": [
      "This is my number 1 string\n",
      "is\n",
      "This \n",
      "s is my number 1 string\n",
      "s is my number 1 strin\n",
      "h\n"
     ]
    }
   ],
   "source": [
    "print(string_1)\n",
    "print(string_1[2:4])\n",
    "print(string_1[:5])\n",
    "print(string_1[3:])\n",
    "print(string_1[3:-1])\n",
    "print(string_1[-25])"
   ]
  },
  {
   "cell_type": "markdown",
   "metadata": {
    "slideshow": {
     "slide_type": "slide"
    }
   },
   "source": [
    "#### Adding characters to a String"
   ]
  },
  {
   "cell_type": "code",
   "execution_count": 106,
   "metadata": {},
   "outputs": [
    {
     "name": "stdout",
     "output_type": "stream",
     "text": [
      "Hello World\n",
      "Hello World 4\n"
     ]
    },
    {
     "ename": "TypeError",
     "evalue": "unsupported operand type(s) for -: 'str' and 'str'",
     "output_type": "error",
     "traceback": [
      "\u001b[0;31m---------------------------------------------------------------------------\u001b[0m",
      "\u001b[0;31mTypeError\u001b[0m                                 Traceback (most recent call last)",
      "\u001b[0;32m/var/folders/dz/k1hb2xr94k558sjs416njdp40000gn/T/ipykernel_5219/362091241.py\u001b[0m in \u001b[0;36m<module>\u001b[0;34m\u001b[0m\n\u001b[1;32m      3\u001b[0m \u001b[0mprint\u001b[0m\u001b[0;34m(\u001b[0m\u001b[0msentence2\u001b[0m\u001b[0;34m)\u001b[0m\u001b[0;34m\u001b[0m\u001b[0;34m\u001b[0m\u001b[0m\n\u001b[1;32m      4\u001b[0m \u001b[0mprint\u001b[0m\u001b[0;34m(\u001b[0m\u001b[0msentence2\u001b[0m\u001b[0;34m,\u001b[0m \u001b[0;36m4\u001b[0m\u001b[0;34m)\u001b[0m\u001b[0;34m\u001b[0m\u001b[0;34m\u001b[0m\u001b[0m\n\u001b[0;32m----> 5\u001b[0;31m \u001b[0msentence3\u001b[0m \u001b[0;34m=\u001b[0m \u001b[0msentence\u001b[0m \u001b[0;34m-\u001b[0m \u001b[0;34m' World'\u001b[0m\u001b[0;34m\u001b[0m\u001b[0;34m\u001b[0m\u001b[0m\n\u001b[0m",
      "\u001b[0;31mTypeError\u001b[0m: unsupported operand type(s) for -: 'str' and 'str'"
     ]
    }
   ],
   "source": [
    "sentence = 'Hello'\n",
    "sentence2 = sentence + ' World'\n",
    "print(sentence2)\n",
    "print(sentence2, 4)\n",
    "sentence3 = sentence - ' World'"
   ]
  },
  {
   "cell_type": "markdown",
   "metadata": {
    "slideshow": {
     "slide_type": "slide"
    }
   },
   "source": [
    "### Data Type: List\n",
    "\n",
    "$\\color{#EF5645}{\\text{Definition}}$: A _list_ is a data type that contains an ordered collection of elements. These elements are generally of the same type and can contain either simple data types (e.g., integers) or more complex ones (e.g., other lists!).\n",
    "\n",
    "Lists are commonly used in programming to store and organize data so it can be easily sorted, indexed or searched."
   ]
  },
  {
   "cell_type": "markdown",
   "metadata": {
    "slideshow": {
     "slide_type": "slide"
    }
   },
   "source": [
    "#### Creating a List\n",
    "\n",
    "There are 1 main way of creating a list:\n",
    "- Use square brackets: `list_1 = [1, 2]` with commas to separate elements."
   ]
  },
  {
   "cell_type": "code",
   "execution_count": 18,
   "metadata": {
    "slideshow": {
     "slide_type": "-"
    }
   },
   "outputs": [
    {
     "name": "stdout",
     "output_type": "stream",
     "text": [
      "['string item', 2, 100]\n",
      "<class 'list'>\n",
      "[]\n",
      "[[], [], []]\n"
     ]
    }
   ],
   "source": [
    "list_1 = ['string item', 2, 100]\n",
    "print(list_1)\n",
    "print(type(list_1))\n",
    "\n",
    "empty_list = []\n",
    "print(empty_list)\n",
    "\n",
    "empty_list_of_empty_lists = [[], [], []]\n",
    "print(empty_list_of_empty_lists)"
   ]
  },
  {
   "cell_type": "markdown",
   "metadata": {
    "slideshow": {
     "slide_type": "slide"
    }
   },
   "source": [
    "#### Adding an item in a List\n",
    "\n",
    "You can add an element at the end of the list with `.append()`."
   ]
  },
  {
   "cell_type": "code",
   "execution_count": 20,
   "metadata": {},
   "outputs": [
    {
     "name": "stdout",
     "output_type": "stream",
     "text": [
      "['string item', 2, 100, 'new element']\n"
     ]
    }
   ],
   "source": [
    "list_1 = ['string item', 2, 100]\n",
    "list_1.append('new element')\n",
    "print(list_1)"
   ]
  },
  {
   "cell_type": "markdown",
   "metadata": {
    "slideshow": {
     "slide_type": "slide"
    }
   },
   "source": [
    "You can insert an element at a given index with `.insert(index, element)`"
   ]
  },
  {
   "cell_type": "code",
   "execution_count": 21,
   "metadata": {},
   "outputs": [
    {
     "name": "stdout",
     "output_type": "stream",
     "text": [
      "[1, 2, 3, 4, 'new element']\n"
     ]
    }
   ],
   "source": [
    "list_2 = [1, 2, 3, 4]\n",
    "\n",
    "element = \"new element\"\n",
    "list_2.insert(4, element)\n",
    "print(list_2)"
   ]
  },
  {
   "cell_type": "markdown",
   "metadata": {
    "slideshow": {
     "slide_type": "slide"
    }
   },
   "source": [
    "#### Changing an item in a List\n",
    "When changing an item in a list, you need to know the position of the item denoted by the index."
   ]
  },
  {
   "cell_type": "code",
   "execution_count": 22,
   "metadata": {},
   "outputs": [
    {
     "name": "stdout",
     "output_type": "stream",
     "text": [
      "['string item', 'Changed Item', 100]\n"
     ]
    }
   ],
   "source": [
    "list_1 = ['string item', 2, 100]\n",
    "list_1[1] = 'Changed Item'\n",
    "print(list_1)"
   ]
  },
  {
   "cell_type": "markdown",
   "metadata": {
    "slideshow": {
     "slide_type": "slide"
    }
   },
   "source": [
    "#### Removing an item from a List ###\n",
    "To remove an item from a list, use the `.pop()` method."
   ]
  },
  {
   "cell_type": "code",
   "execution_count": 23,
   "metadata": {},
   "outputs": [
    {
     "name": "stdout",
     "output_type": "stream",
     "text": [
      "['string item', 'Changed Item', 100]\n",
      "['Changed Item', 100]\n"
     ]
    }
   ],
   "source": [
    "print(list_1)\n",
    "list_1.pop(0)\n",
    "print(list_1)"
   ]
  },
  {
   "cell_type": "markdown",
   "metadata": {
    "slideshow": {
     "slide_type": "slide"
    }
   },
   "source": [
    "#### Merging two Lists\n",
    "\n",
    "You can merge two lists using `.extend(my_list)`.\n",
    "\n",
    "Note: 😱 this is different from using `.append(my_list)` or `.insert(index, my_list)`."
   ]
  },
  {
   "cell_type": "code",
   "execution_count": 2,
   "metadata": {},
   "outputs": [
    {
     "name": "stdout",
     "output_type": "stream",
     "text": [
      "['this', 'is', 'a', 'list']\n",
      "['this', 'is', 'a', 'list']\n",
      "[1, 2, 3, 'this', 'is', 'a', 'list']\n"
     ]
    }
   ],
   "source": [
    "list_1 = [1, 2, 3]\n",
    "list_2 = ['this', 'is', 'a', 'list']\n",
    "print(list_2)\n",
    "#list_2.extend(list_1)\n",
    "#list_2.append(list_1)\n",
    "#print(list_2)\n",
    "list_3 = list_1 + list_2\n",
    "print(list_2)\n",
    "print(list_3)"
   ]
  },
  {
   "cell_type": "markdown",
   "metadata": {
    "slideshow": {
     "slide_type": "slide"
    }
   },
   "source": [
    "#### Accessing items in a List\n",
    "You can access list items by referring to the index number of the item. \n",
    "\n",
    "Note: 😱 Lists start with an index of 0. \n",
    "\n",
    "You can also use negative indexing to access items from back to front:\n",
    "- -1 is the last item in the list,\n",
    "- -2 is second last."
   ]
  },
  {
   "cell_type": "code",
   "execution_count": 3,
   "metadata": {},
   "outputs": [
    {
     "name": "stdout",
     "output_type": "stream",
     "text": [
      "[1, 2, 3]\n",
      "1\n",
      "3\n"
     ]
    }
   ],
   "source": [
    "print(list_1)\n",
    "print(list_1[0])\n",
    "print(list_1[-1])"
   ]
  },
  {
   "cell_type": "markdown",
   "metadata": {
    "slideshow": {
     "slide_type": "slide"
    }
   },
   "source": [
    "### Data Type: Tuple\n",
    "\n",
    "$\\color{#EF5645}{\\text{Definition}}$: \n",
    "A _tuple_ is a data type that contains an ordered collection of elements that are immutable (unchangeable). These elements are generally of the same type and can contain elements such as simple data types (integers) or more complex ones such as other lists or tuples.\n",
    "\n",
    "Tuples are commonly used in programming to store and organize data so it can be easily sorted, indexed or searched. Since tuples are immutable, we cannot add, change or remove elements."
   ]
  },
  {
   "cell_type": "markdown",
   "metadata": {
    "slideshow": {
     "slide_type": "slide"
    }
   },
   "source": [
    "#### Creating a Tuple\n",
    "\n",
    "Tuples are created with round brackets and a comma to separate elements `(a, b, c)`."
   ]
  },
  {
   "cell_type": "code",
   "execution_count": 7,
   "metadata": {
    "slideshow": {
     "slide_type": "-"
    }
   },
   "outputs": [
    {
     "name": "stdout",
     "output_type": "stream",
     "text": [
      "(1, 2, 3, 4)\n"
     ]
    },
    {
     "data": {
      "text/plain": [
       "tuple"
      ]
     },
     "execution_count": 7,
     "metadata": {},
     "output_type": "execute_result"
    }
   ],
   "source": [
    "tuple_1 = (1, 2, 3, 4)\n",
    "print(tuple_1)\n",
    "type(tuple_1)"
   ]
  },
  {
   "cell_type": "markdown",
   "metadata": {
    "slideshow": {
     "slide_type": "slide"
    }
   },
   "source": [
    "#### Adding an Item To a Tuple / Merging two Tuples"
   ]
  },
  {
   "cell_type": "code",
   "execution_count": 7,
   "metadata": {},
   "outputs": [
    {
     "name": "stdout",
     "output_type": "stream",
     "text": [
      "(1, 4, 5, 6)\n",
      "(1, 4, 5, 6, 8)\n"
     ]
    }
   ],
   "source": [
    "tuple_2 = (1, 4, 5)\n",
    "tuple_3 = tuple_2 + (6,)\n",
    "tuple_4 = tuple_2 + (6, 8)\n",
    "\n",
    "print(tuple_3)\n",
    "print(tuple_4)"
   ]
  },
  {
   "cell_type": "markdown",
   "metadata": {
    "slideshow": {
     "slide_type": "slide"
    }
   },
   "source": [
    "#### Changing an item in a tuple"
   ]
  },
  {
   "cell_type": "code",
   "execution_count": 10,
   "metadata": {},
   "outputs": [
    {
     "ename": "TypeError",
     "evalue": "'tuple' object does not support item assignment",
     "output_type": "error",
     "traceback": [
      "\u001b[0;31m---------------------------------------------------------------------------\u001b[0m",
      "\u001b[0;31mTypeError\u001b[0m                                 Traceback (most recent call last)",
      "\u001b[0;32m/var/folders/dz/k1hb2xr94k558sjs416njdp40000gn/T/ipykernel_2981/2673687259.py\u001b[0m in \u001b[0;36m<module>\u001b[0;34m\u001b[0m\n\u001b[1;32m      1\u001b[0m \u001b[0mtuple_2\u001b[0m\u001b[0;34m\u001b[0m\u001b[0;34m\u001b[0m\u001b[0m\n\u001b[0;32m----> 2\u001b[0;31m \u001b[0mtuple_2\u001b[0m\u001b[0;34m[\u001b[0m\u001b[0;36m2\u001b[0m\u001b[0;34m]\u001b[0m \u001b[0;34m=\u001b[0m \u001b[0;36m1\u001b[0m\u001b[0;34m\u001b[0m\u001b[0;34m\u001b[0m\u001b[0m\n\u001b[0m",
      "\u001b[0;31mTypeError\u001b[0m: 'tuple' object does not support item assignment"
     ]
    }
   ],
   "source": [
    "tuple_2\n",
    "tuple_2[2] = 1"
   ]
  },
  {
   "cell_type": "markdown",
   "metadata": {
    "slideshow": {
     "slide_type": "slide"
    }
   },
   "source": [
    "#### Accessing items in a Tuple\n",
    "\n",
    "You can access tuple items by referring to the index number of the item. \n",
    "\n",
    "Note: 😱 Tuples start with an index of 0. \n",
    "\n",
    "You can also use negative indexing to access items from back to front:\n",
    "- -1 is the last item in the list,\n",
    "- -2 is second last."
   ]
  },
  {
   "cell_type": "code",
   "execution_count": 12,
   "metadata": {},
   "outputs": [
    {
     "name": "stdout",
     "output_type": "stream",
     "text": [
      "(1, 4, 5)\n"
     ]
    },
    {
     "data": {
      "text/plain": [
       "4"
      ]
     },
     "execution_count": 12,
     "metadata": {},
     "output_type": "execute_result"
    }
   ],
   "source": [
    "print(tuple_2)\n",
    "tuple_2[-2]"
   ]
  },
  {
   "cell_type": "markdown",
   "metadata": {
    "slideshow": {
     "slide_type": "slide"
    }
   },
   "source": [
    "### Data Type: Dictionary\n",
    "\n",
    "$\\color{#EF5645}{\\text{Definition}}$: \n",
    "A _dictionary_ is a data type that contain a collection of \"key\" and \"value\" pairs where each key needs to be a unique string and the value can range be a simple data type (an integer) or a more complex one such as a list, a tuple or another dictionary.\n",
    "\n",
    "Dictionaries are commonly used in programming to store and organize data so it can be easily sorted, indexed or searched."
   ]
  },
  {
   "cell_type": "markdown",
   "metadata": {
    "slideshow": {
     "slide_type": "slide"
    }
   },
   "source": [
    "#### Creating a Dictionary\n",
    "\n",
    "There are two ways to create an dictionary:\n",
    "-  `my_dict = {key1: value1, key2: value2}`\n",
    "- `my_dict = dict(key1=value1, key2=value2)` "
   ]
  },
  {
   "cell_type": "code",
   "execution_count": 18,
   "metadata": {
    "slideshow": {
     "slide_type": "-"
    }
   },
   "outputs": [
    {
     "name": "stdout",
     "output_type": "stream",
     "text": [
      "{'my_key_1': 100, 'key_2': 300.45}\n",
      "{'my_key_100': 'item_100', 'key_101': 'item_101'}\n",
      "<class 'dict'>\n"
     ]
    }
   ],
   "source": [
    "dict_1 = {'my_key_1': 100, 'key_2': 300.45}\n",
    "\n",
    "dict_2 = dict(my_key_100='item_100', key_101='item_101')\n",
    "print(dict_1)\n",
    "print(dict_2)\n",
    "print(type(dict_1))"
   ]
  },
  {
   "cell_type": "markdown",
   "metadata": {
    "slideshow": {
     "slide_type": "slide"
    }
   },
   "source": [
    "#### Adding items to a Dictionary\n",
    "\n",
    "You can add a new key, value pair where the value is a list from the above example."
   ]
  },
  {
   "cell_type": "code",
   "execution_count": 19,
   "metadata": {},
   "outputs": [
    {
     "name": "stdout",
     "output_type": "stream",
     "text": [
      "{'my_key_1': 100, 'key_2': 300.45}\n",
      "{'my_key_1': 100, 'key_2': 300.45, 'key_3': 'value_3'}\n"
     ]
    }
   ],
   "source": [
    "print(dict_1)\n",
    "dict_1['key_3'] = 'value_3'\n",
    "print(dict_1)"
   ]
  },
  {
   "cell_type": "markdown",
   "metadata": {
    "slideshow": {
     "slide_type": "slide"
    }
   },
   "source": [
    "#### Accessing items in a Dictionary\n",
    "\n",
    "To access a value in a dictionary you can use the name of the key."
   ]
  },
  {
   "cell_type": "code",
   "execution_count": 24,
   "metadata": {},
   "outputs": [
    {
     "name": "stdout",
     "output_type": "stream",
     "text": [
      "{'my_key_1': 100, 'key_2': 300.45, 'key_3': 'value_3'}\n",
      "value_3\n",
      "300.45\n"
     ]
    },
    {
     "ename": "KeyError",
     "evalue": "'key_10'",
     "output_type": "error",
     "traceback": [
      "\u001b[0;31m---------------------------------------------------------------------------\u001b[0m",
      "\u001b[0;31mKeyError\u001b[0m                                  Traceback (most recent call last)",
      "\u001b[0;32m/var/folders/dz/k1hb2xr94k558sjs416njdp40000gn/T/ipykernel_2981/4160817320.py\u001b[0m in \u001b[0;36m<module>\u001b[0;34m\u001b[0m\n\u001b[1;32m      2\u001b[0m \u001b[0mprint\u001b[0m\u001b[0;34m(\u001b[0m\u001b[0mdict_1\u001b[0m\u001b[0;34m[\u001b[0m\u001b[0;34m\"key_3\"\u001b[0m\u001b[0;34m]\u001b[0m\u001b[0;34m)\u001b[0m\u001b[0;34m\u001b[0m\u001b[0;34m\u001b[0m\u001b[0m\n\u001b[1;32m      3\u001b[0m \u001b[0mprint\u001b[0m\u001b[0;34m(\u001b[0m\u001b[0mdict_1\u001b[0m\u001b[0;34m[\u001b[0m\u001b[0;34m'key_2'\u001b[0m\u001b[0;34m]\u001b[0m\u001b[0;34m)\u001b[0m\u001b[0;34m\u001b[0m\u001b[0;34m\u001b[0m\u001b[0m\n\u001b[0;32m----> 4\u001b[0;31m \u001b[0mprint\u001b[0m\u001b[0;34m(\u001b[0m\u001b[0mdict_1\u001b[0m\u001b[0;34m[\u001b[0m\u001b[0;34m'key_10'\u001b[0m\u001b[0;34m]\u001b[0m\u001b[0;34m)\u001b[0m\u001b[0;34m\u001b[0m\u001b[0;34m\u001b[0m\u001b[0m\n\u001b[0m",
      "\u001b[0;31mKeyError\u001b[0m: 'key_10'"
     ]
    }
   ],
   "source": [
    "print(dict_1)\n",
    "print(dict_1[\"key_3\"])\n",
    "print(dict_1['key_2'])\n",
    "print(dict_1['key_10'])"
   ]
  },
  {
   "cell_type": "markdown",
   "metadata": {
    "slideshow": {
     "slide_type": "slide"
    }
   },
   "source": [
    "# Outline of Unit 01\n",
    "\n",
    "- **01: Welcome to Python**\n",
    "  - Variables\n",
    "  - Data types\n",
    "  - **Operators**\n",
    "  - Conditional Statements\n",
    "  - For loops\n",
    "  - Functions"
   ]
  },
  {
   "cell_type": "markdown",
   "metadata": {
    "slideshow": {
     "slide_type": "slide"
    }
   },
   "source": [
    "# Operators"
   ]
  },
  {
   "cell_type": "markdown",
   "metadata": {},
   "source": [
    "\n",
    "$\\color{#EF5645}{\\text{Definition}}$: _Operators_ are symbols that perform an operation on one or more operands. An _operand_ is a variable or a value on which we perform the operation.\n",
    "\n",
    "There are three types of operators: Mathematical operators, Comparison operators and Membership operators."
   ]
  },
  {
   "cell_type": "markdown",
   "metadata": {
    "slideshow": {
     "slide_type": "slide"
    }
   },
   "source": [
    "#### Mathematical Operators\n",
    "\n",
    "$\\color{#EF5645}{\\text{Definition}}$: _Mathematical operators_ are basic arithmetic symbols used to perform addition, subtraction, multiplication, and more. \n",
    "\n",
    "|Operator                  |Description                                                                        |Example |\n",
    "|-------------------------|-------------------------------------------------------------------------------|-------------|\n",
    "|Assignment (=)        |Assigns a variable a value. |(x = 5)       |\n",
    "|+       | Addition.                   |(1 + 2) |\n",
    "|-         | Subtraction. | (2 - 1)\n",
    "|* | Multiplication. |(1 * 2) |\n",
    "|/             |Division. |(10 / 5)|\n",
    "\n",
    "\n"
   ]
  },
  {
   "cell_type": "code",
   "execution_count": 25,
   "metadata": {
    "slideshow": {
     "slide_type": "slide"
    }
   },
   "outputs": [
    {
     "data": {
      "text/plain": [
       "1.5"
      ]
     },
     "execution_count": 25,
     "metadata": {},
     "output_type": "execute_result"
    }
   ],
   "source": [
    "y = 15 / 10\n",
    "y"
   ]
  },
  {
   "cell_type": "markdown",
   "metadata": {
    "slideshow": {
     "slide_type": "slide"
    }
   },
   "source": [
    "#### Comparison Operators\n",
    "\n",
    "$\\color{#EF5645}{\\text{Definition}}$: _Comparison operators_ are used to compare values, they either return True or False (a boolean).\n",
    "\n",
    "|Operator                  |Description                                                                        |Example |\n",
    "|-------------------------|-------------------------------------------------------------------------------|-------------|\n",
    "|Equal to (==)        |If the values of the two operands are equal, then the condition becomes true. |(a == a) is True.       |\n",
    "|Not Equal to (!=)       |If the values of the two operands are not equal, then the condition becomes true.                    |(a != b) is True.|\n",
    "|Greater Than, Greater than or Equal to (>, >=)          |If the value of the left operand is greater than the value of the right operand then the condition becomes true. | (2>1) is True.\n",
    "|Less Than, Less than or Equal to (<, <=) |If the value of the left operand is less than the value of the right operand then the condition becomes true. |(1<2) is True.|\n",
    "|and              |Returns True if all statements are True. |(1<2 and 2>1) is True.|\n",
    "|or | Returns True if one of the statements is True. |(1<2 or 2<4) is True.\n",
    "|not | Reverse the result, returns False if the statement is True.| not(1<5 and 5>3) is not True."
   ]
  },
  {
   "cell_type": "code",
   "execution_count": 28,
   "metadata": {
    "slideshow": {
     "slide_type": "slide"
    }
   },
   "outputs": [
    {
     "data": {
      "text/plain": [
       "True"
      ]
     },
     "execution_count": 28,
     "metadata": {},
     "output_type": "execute_result"
    }
   ],
   "source": [
    "y = 3\n",
    "x = 2\n",
    "x != y and y == 3"
   ]
  },
  {
   "cell_type": "code",
   "execution_count": 31,
   "metadata": {},
   "outputs": [
    {
     "name": "stdout",
     "output_type": "stream",
     "text": [
      "True\n",
      "True\n"
     ]
    }
   ],
   "source": [
    "j = 7\n",
    "print(j < 7 or j == 7)\n",
    "\n",
    "print(j <= 7)"
   ]
  },
  {
   "cell_type": "code",
   "execution_count": 32,
   "metadata": {},
   "outputs": [
    {
     "data": {
      "text/plain": [
       "False"
      ]
     },
     "execution_count": 32,
     "metadata": {},
     "output_type": "execute_result"
    }
   ],
   "source": [
    "x > y and j < 5"
   ]
  },
  {
   "cell_type": "markdown",
   "metadata": {
    "slideshow": {
     "slide_type": "slide"
    }
   },
   "source": [
    "#### Membership Operators\n",
    "\n",
    "$\\color{#EF5645}{\\text{Definition}}$: _Membership operators_ are used to test whether a value or a variable is found in a sequence (string, tuple, list, or dictionary).\n",
    "\n",
    "|Operator                  |Description                                                                        |Example |\n",
    "|-------------------------|-------------------------------------------------------------------------------|-------------|\n",
    "|in| Returns True if a sequence with the specified value is present in the object. | 3 in [1,2,3] is True.\n",
    "|not in| Returns True if a sequence with the specified value is not present in the object. | 4 not in [1,2,3] is True."
   ]
  },
  {
   "cell_type": "code",
   "execution_count": 36,
   "metadata": {
    "slideshow": {
     "slide_type": "slide"
    }
   },
   "outputs": [
    {
     "name": "stdout",
     "output_type": "stream",
     "text": [
      "False\n",
      "True\n",
      "False\n"
     ]
    }
   ],
   "source": [
    "boolean5 = 'my_car' in ['boat','truck','car','house','garage']\n",
    "\n",
    "print(boolean5)\n",
    "\n",
    "boolean5 = 'car' in ['boat','truck','car','house','garage']\n",
    "\n",
    "print(boolean5)\n",
    "\n",
    "boolean5 = 'car' not in ['boat','truck','car','house','garage']\n",
    "\n",
    "print(boolean5)"
   ]
  },
  {
   "cell_type": "markdown",
   "metadata": {
    "slideshow": {
     "slide_type": "slide"
    }
   },
   "source": [
    "# Outline of Unit 01\n",
    "\n",
    "- **01: Welcome to Python**\n",
    "  - Variables\n",
    "  - Data types\n",
    "  - Operators\n",
    "  - **Conditional Statements**\n",
    "  - For loops\n",
    "  - Functions"
   ]
  },
  {
   "cell_type": "markdown",
   "metadata": {
    "slideshow": {
     "slide_type": "slide"
    }
   },
   "source": [
    "### Conditional Statements\n",
    "\n",
    "When you write code, you are giving instructions to the computer. Depending on what else is going on in the code, you may want the computer to adapt its actions. \n",
    "\n",
    "$\\color{#EF5645}{\\text{Definition}}$: _Conditional statements_ allow you to encode instructions so that the computer adapts to the conditions around it.\n",
    "\n",
    "Conditional statements rely on three Python keywords: `if`, `else` and `elif`."
   ]
  },
  {
   "cell_type": "markdown",
   "metadata": {
    "slideshow": {
     "slide_type": "slide"
    }
   },
   "source": [
    "### Write an If Statement\n",
    "\n",
    "The `if` conditional statement only executes code if a condition is true."
   ]
  },
  {
   "cell_type": "code",
   "execution_count": 48,
   "metadata": {},
   "outputs": [
    {
     "name": "stdout",
     "output_type": "stream",
     "text": [
      "It is a nice day outside\n",
      "I skipped it\n"
     ]
    }
   ],
   "source": [
    "temp = 67\n",
    "\n",
    "if temp > 68 and temp < 82 or temp < 83: \n",
    "    print('It is a nice day outside')\n",
    "print(\"I skipped it\")"
   ]
  },
  {
   "cell_type": "markdown",
   "metadata": {
    "slideshow": {
     "slide_type": "slide"
    }
   },
   "source": [
    "### Write an If-Else Statement\n",
    "\n",
    "The `if-else` conditional statement executes one block of code if a condition is true, another block otherwise."
   ]
  },
  {
   "cell_type": "code",
   "execution_count": 52,
   "metadata": {},
   "outputs": [
    {
     "name": "stdout",
     "output_type": "stream",
     "text": [
      "It is not nice outside\n"
     ]
    }
   ],
   "source": [
    "temp = 102\n",
    "\n",
    "if temp > 68 and temp < 82:\n",
    "    print('It is a nice day outside')\n",
    "else:\n",
    "    print('It is not nice outside')"
   ]
  },
  {
   "cell_type": "markdown",
   "metadata": {
    "slideshow": {
     "slide_type": "slide"
    }
   },
   "source": [
    "### Write Elif Statements\n",
    "\n",
    "A conditional statement use `elif` to chain together multiple conditionals. "
   ]
  },
  {
   "cell_type": "code",
   "execution_count": 55,
   "metadata": {},
   "outputs": [
    {
     "name": "stdout",
     "output_type": "stream",
     "text": [
      "The special of the day is Tacos\n"
     ]
    }
   ],
   "source": [
    "day_of_week = 'Tuesday'\n",
    "\n",
    "if day_of_week == 'Monday':\n",
    "    special = 'Meat Loaf'\n",
    "elif day_of_week == 'Tuesday':\n",
    "    special = 'Tacos'\n",
    "elif day_of_week == 'Wednesday' or day_of_week == 'Thursday':\n",
    "    special = 'Chili'\n",
    "else:\n",
    "    special = 'Fish Sticks'\n",
    "    \n",
    "print(\"The special of the day is\", special)"
   ]
  },
  {
   "cell_type": "markdown",
   "metadata": {
    "slideshow": {
     "slide_type": "slide"
    }
   },
   "source": [
    "# Outline of Unit 01\n",
    "\n",
    "- **01: Welcome to Python**\n",
    "  - Variables\n",
    "  - Data types\n",
    "  - Operators\n",
    "  - Conditional Statements\n",
    "  - **For loops**\n",
    "  - Functions"
   ]
  },
  {
   "cell_type": "markdown",
   "metadata": {
    "slideshow": {
     "slide_type": "slide"
    }
   },
   "source": [
    "### For loops\n",
    "\n",
    "When you write code, you often need to repeat something over and over. For example, imagine printing each element of a (very long) list."
   ]
  },
  {
   "cell_type": "code",
   "execution_count": 1,
   "metadata": {},
   "outputs": [
    {
     "name": "stdout",
     "output_type": "stream",
     "text": [
      "1\n",
      "34\n"
     ]
    }
   ],
   "source": [
    "my_list = [1, 34, 555, 6]\n",
    "print(my_list[0])\n",
    "print(my_list[1])"
   ]
  },
  {
   "cell_type": "markdown",
   "metadata": {},
   "source": [
    "$\\color{#EF5645}{\\text{Definition}}$: For loops allow you to iterate over a sequence, whether that's a list, tuple, string, or dictionary."
   ]
  },
  {
   "cell_type": "markdown",
   "metadata": {
    "slideshow": {
     "slide_type": "slide"
    }
   },
   "source": [
    "### Write a For Loop\n",
    "\n",
    "The for loop:\n",
    "- goes through each element in a sequence, e.g. in `my_list`, \n",
    "- assigns the element to a local variable, e.g. `x`, \n",
    "- and performs from operation with it, e.g. print it."
   ]
  },
  {
   "cell_type": "code",
   "execution_count": 4,
   "metadata": {
    "slideshow": {
     "slide_type": "-"
    }
   },
   "outputs": [
    {
     "name": "stdout",
     "output_type": "stream",
     "text": [
      "2\n",
      "3\n",
      "10\n",
      "20\n",
      "30\n",
      "40\n",
      "50\n",
      "66\n"
     ]
    }
   ],
   "source": [
    "my_list = [10, 20, 30, 40, 50, 66]\n",
    "print(2); print(3)\n",
    "for x in my_list:\n",
    "    print(x)"
   ]
  },
  {
   "cell_type": "markdown",
   "metadata": {
    "slideshow": {
     "slide_type": "slide"
    }
   },
   "source": [
    "$\\color{#047C91}{\\text{Exercise}}$: Write a for-loop that prints the characters of a given string."
   ]
  },
  {
   "cell_type": "code",
   "execution_count": 5,
   "metadata": {},
   "outputs": [
    {
     "name": "stdout",
     "output_type": "stream",
     "text": [
      "p\n",
      "y\n",
      "t\n",
      "h\n",
      "o\n",
      "n\n"
     ]
    }
   ],
   "source": [
    "my_string = \"python\"\n",
    "for x in my_string:\n",
    "    print(x)"
   ]
  },
  {
   "cell_type": "markdown",
   "metadata": {
    "slideshow": {
     "slide_type": "slide"
    }
   },
   "source": [
    "$\\color{#047C91}{\\text{Exercise}}$: You are given a string. Write a for loop that outputs the same string with \"-\" inserted after each character."
   ]
  },
  {
   "cell_type": "code",
   "execution_count": 24,
   "metadata": {},
   "outputs": [
    {
     "name": "stdout",
     "output_type": "stream",
     "text": [
      "b-\n",
      "b-o-\n",
      "b-o-n-\n",
      "b-o-n-j-\n",
      "b-o-n-j-o-\n",
      "b-o-n-j-o-u-\n",
      "b-o-n-j-o-u-r-\n",
      "after the for loop:\n",
      "b-o-n-j-o-u-r-\n"
     ]
    }
   ],
   "source": [
    "my_string = \"bonjour\"\n",
    "new_string = \"\"\n",
    "for my_character in my_string:\n",
    "    new_string = new_string + my_character + \"-\"\n",
    "    print(new_string)\n",
    "print(\"after the for loop:\")\n",
    "print(new_string)"
   ]
  },
  {
   "cell_type": "markdown",
   "metadata": {
    "slideshow": {
     "slide_type": "slide"
    }
   },
   "source": [
    "### The range() function\n",
    "\n",
    "We can loop through the first integers with the `range()` function."
   ]
  },
  {
   "cell_type": "code",
   "execution_count": 11,
   "metadata": {},
   "outputs": [
    {
     "data": {
      "text/plain": [
       "range"
      ]
     },
     "execution_count": 11,
     "metadata": {},
     "output_type": "execute_result"
    }
   ],
   "source": [
    "type(range(8))"
   ]
  },
  {
   "cell_type": "code",
   "execution_count": 13,
   "metadata": {},
   "outputs": [
    {
     "name": "stdout",
     "output_type": "stream",
     "text": [
      "0\n",
      "1\n",
      "2\n",
      "3\n",
      "4\n",
      "5\n",
      "6\n",
      "7\n"
     ]
    }
   ],
   "source": [
    "for i in range(8):\n",
    "    print(i)"
   ]
  },
  {
   "cell_type": "markdown",
   "metadata": {
    "slideshow": {
     "slide_type": "slide"
    }
   },
   "source": [
    "$\\color{#047C91}{\\text{Exercise}}$: Write a for-loop to compute the sum of the squares of the first 100 integers."
   ]
  },
  {
   "cell_type": "code",
   "execution_count": 14,
   "metadata": {},
   "outputs": [
    {
     "name": "stdout",
     "output_type": "stream",
     "text": [
      "328350\n"
     ]
    }
   ],
   "source": [
    "my_sum = 0\n",
    "for x in range(100):\n",
    "    my_sum = my_sum + x ** 2\n",
    "print(my_sum)"
   ]
  },
  {
   "cell_type": "markdown",
   "metadata": {
    "slideshow": {
     "slide_type": "slide"
    }
   },
   "source": [
    "### Enumerate()\n",
    "\n",
    "The `enumerate()` function returns two values each time the loop statement is run:\n",
    "- \"index\" will be the current index of the element, and \n",
    "- \"val\" will be the current element of my_list"
   ]
  },
  {
   "cell_type": "code",
   "execution_count": 15,
   "metadata": {},
   "outputs": [
    {
     "name": "stdout",
     "output_type": "stream",
     "text": [
      "0 100\n",
      "1 234\n",
      "2 567\n",
      "3 -10\n"
     ]
    }
   ],
   "source": [
    "my_list = [100, 234, 567, -10]\n",
    "for index, val in enumerate(my_list):\n",
    "    print(index, val)"
   ]
  },
  {
   "cell_type": "markdown",
   "metadata": {
    "slideshow": {
     "slide_type": "slide"
    }
   },
   "source": [
    "$\\color{#047C91}{\\text{Exercise}}$: Given a string, write a for-loop that returns the list of indices of occurences of the letter \"e\"."
   ]
  },
  {
   "cell_type": "code",
   "execution_count": 21,
   "metadata": {},
   "outputs": [
    {
     "name": "stdout",
     "output_type": "stream",
     "text": [
      "my_key1\n",
      "my_key2\n"
     ]
    }
   ],
   "source": [
    "my_dict = {\"my_key1\": 1536, \"my_key2\": -39}\n",
    "for x in my_dict:\n",
    "    print(x)"
   ]
  },
  {
   "cell_type": "code",
   "execution_count": 25,
   "metadata": {},
   "outputs": [
    {
     "data": {
      "text/plain": [
       "[11, 19]"
      ]
     },
     "execution_count": 25,
     "metadata": {},
     "output_type": "execute_result"
    }
   ],
   "source": [
    "my_string = \"a complicated document\"\n",
    "my_list = []\n",
    "for my_funky_index, letter in enumerate(my_string):\n",
    "    if letter == \"e\":\n",
    "        my_list.append(my_funky_index)\n",
    "my_list"
   ]
  },
  {
   "cell_type": "markdown",
   "metadata": {
    "slideshow": {
     "slide_type": "slide"
    }
   },
   "source": [
    "### An alternative: the while loop\n",
    "\n",
    "$\\color{#EF5645}{\\text{Definition}}$: The while loop allows you to execute a block of code until a certain condition is met."
   ]
  },
  {
   "cell_type": "code",
   "execution_count": 27,
   "metadata": {},
   "outputs": [
    {
     "name": "stdout",
     "output_type": "stream",
     "text": [
      "0\n",
      "1\n",
      "2\n",
      "3\n",
      "4\n"
     ]
    }
   ],
   "source": [
    "a = 0\n",
    "while a < 5:\n",
    "    print(a)\n",
    "    a = a + 1"
   ]
  },
  {
   "cell_type": "markdown",
   "metadata": {
    "slideshow": {
     "slide_type": "slide"
    }
   },
   "source": [
    "$\\color{#047C91}{\\text{Exercise}}$: Write a while loop that prints the elements of a tuple, until the sum of these elements reaches 3. We need the final sum (less than 3) and the index at which it has stopped."
   ]
  },
  {
   "cell_type": "code",
   "execution_count": 53,
   "metadata": {},
   "outputs": [
    {
     "name": "stdout",
     "output_type": "stream",
     "text": [
      "0.1\n",
      "1.1\n",
      "1.9000000000000001\n",
      "5.9\n",
      "5.9\n",
      "3\n"
     ]
    }
   ],
   "source": [
    "my_tuple = (0.1, 1, 0.8, 4, 6)\n",
    "my_sum = 0\n",
    "index = 0\n",
    "while my_sum < 3:\n",
    "    my_sum = my_sum + my_tuple[index]\n",
    "    index = index + 1\n",
    "    print(my_sum)\n",
    "print(my_sum)\n",
    "index_stopped = index - 1\n",
    "print(index_stopped)"
   ]
  },
  {
   "cell_type": "markdown",
   "metadata": {
    "slideshow": {
     "slide_type": "slide"
    }
   },
   "source": [
    "# Outline of Unit 01\n",
    "\n",
    "- **01: Welcome to Python**\n",
    "  - Variables\n",
    "  - Data types\n",
    "  - Operators\n",
    "  - Conditional Statements\n",
    "  - For loops\n",
    "  - **Functions**"
   ]
  },
  {
   "cell_type": "markdown",
   "metadata": {
    "slideshow": {
     "slide_type": "slide"
    }
   },
   "source": [
    "### Functions\n",
    "\n",
    "$\\color{#EF5645}{\\text{Definition}}$: A _function_ is a block of organized, reusable code that performs one action. "
   ]
  },
  {
   "cell_type": "code",
   "execution_count": 2,
   "metadata": {},
   "outputs": [
    {
     "name": "stdout",
     "output_type": "stream",
     "text": [
      "1\n"
     ]
    }
   ],
   "source": [
    "a = 1\n",
    "print(a)"
   ]
  },
  {
   "cell_type": "markdown",
   "metadata": {},
   "source": [
    "$\\color{#EF5645}{\\text{Definition}}$: Python gives you many _built-in functions_ like **print()**, etc. "
   ]
  },
  {
   "cell_type": "markdown",
   "metadata": {
    "slideshow": {
     "slide_type": "slide"
    }
   },
   "source": [
    "### Write a Function\n",
    "\n",
    "$\\color{#EF5645}{\\text{Definition}}$: You can also write your own functions. These functions are called _user-defined functions_.\n",
    "\n",
    "- A function begins with the keyword **def** followed by the function name and parentheses  ( ) .\n",
    "- Any input parameters should be placed within these parentheses.\n",
    "- The code block within every function starts after a colon **(:)** and is indented.\n",
    "- The first statement of a function can be its documentation string: the docstring.\n",
    "- The statement **return** exits a function, optionally passing back an expression."
   ]
  },
  {
   "cell_type": "code",
   "execution_count": 40,
   "metadata": {},
   "outputs": [
    {
     "name": "stdout",
     "output_type": "stream",
     "text": [
      "0.14285714285714285\n"
     ]
    }
   ],
   "source": [
    "def my_function_in_ece3(my_input_parameter_in_ece3, another_parameter):\n",
    "    \"\"\"Return some computation on my inputs.\"\"\"\n",
    "    aux = 1 / (my_input_parameter_in_ece3 + another_parameter)\n",
    "    return aux\n",
    "\n",
    "my_result = my_function_in_ece3(3, 4)\n",
    "print(my_result)"
   ]
  },
  {
   "cell_type": "markdown",
   "metadata": {
    "slideshow": {
     "slide_type": "slide"
    }
   },
   "source": [
    "### Call your Function\n",
    "\n",
    "You can call your function using its name and passing it input parameters, just as when you call Python built-in functions."
   ]
  },
  {
   "cell_type": "code",
   "execution_count": 43,
   "metadata": {},
   "outputs": [
    {
     "name": "stdout",
     "output_type": "stream",
     "text": [
      "0.058823529411764705\n",
      "5.722558899437472e-06\n"
     ]
    }
   ],
   "source": [
    "print(my_function_in_ece3(3, 14))\n",
    "print(my_function_in_ece3(3, 174744))"
   ]
  },
  {
   "cell_type": "markdown",
   "metadata": {
    "slideshow": {
     "slide_type": "slide"
    }
   },
   "source": [
    "$\\color{#047C91}{\\text{Exercise}}$: Write a function that takes a list as input, print the inverse of each of its elements and returns the last element of the list only."
   ]
  },
  {
   "cell_type": "code",
   "execution_count": 47,
   "metadata": {},
   "outputs": [
    {
     "name": "stdout",
     "output_type": "stream",
     "text": [
      "1.0\n",
      "0.5\n",
      "0.3333333333333333\n",
      "0.25\n"
     ]
    },
    {
     "data": {
      "text/plain": [
       "4"
      ]
     },
     "execution_count": 47,
     "metadata": {},
     "output_type": "execute_result"
    }
   ],
   "source": [
    "def inverse_elements_of_list(my_list):\n",
    "    \"\"\"Print the inverse of each of elements and return the last element.\"\"\"\n",
    "    for x in my_list:\n",
    "        print(1 / x)\n",
    "    return my_list[-1]\n",
    "\n",
    "my_list_1 = [1, 2, 3, 4]\n",
    "my_result = inverse_elements_of_list(my_list_1)\n",
    "my_result"
   ]
  },
  {
   "cell_type": "markdown",
   "metadata": {
    "slideshow": {
     "slide_type": "slide"
    }
   },
   "source": [
    "$\\color{#047C91}{\\text{Exercise}}$: Write a function that takes a list as input, and return the inverted list. You can use the built-in function `len()` that gives the length of a list."
   ]
  },
  {
   "cell_type": "code",
   "execution_count": 56,
   "metadata": {},
   "outputs": [],
   "source": [
    "my_list = [1, 6, 2, 7, 3]"
   ]
  },
  {
   "cell_type": "code",
   "execution_count": 58,
   "metadata": {},
   "outputs": [
    {
     "data": {
      "text/plain": [
       "[3, 7, 2, 6, 1]"
      ]
     },
     "execution_count": 58,
     "metadata": {},
     "output_type": "execute_result"
    }
   ],
   "source": [
    "def invert_list(my_list):\n",
    "    length = len(my_list)\n",
    "    inverted_list = []\n",
    "    for i in range(length):\n",
    "        inverted_list.append(my_list[-(i+1)])\n",
    "    return inverted_list\n",
    "\n",
    "invert_list(my_list)"
   ]
  },
  {
   "cell_type": "markdown",
   "metadata": {
    "slideshow": {
     "slide_type": "slide"
    }
   },
   "source": [
    "### Use Function from a module"
   ]
  },
  {
   "cell_type": "markdown",
   "metadata": {},
   "source": [
    "$\\color{#EF5645}{\\text{Definition}}$: A _Python module_ is a file containing Python definitions and statements. A module can define functions, and variables. A _Python package_ is a set of Python modules.\n",
    "\n",
    "- You can import a module with the keyword `import`.\n",
    "- You can use the functions from a module by calling them with the syntax `[module-name].[function-name]`."
   ]
  },
  {
   "cell_type": "code",
   "execution_count": 50,
   "metadata": {},
   "outputs": [
    {
     "name": "stdout",
     "output_type": "stream",
     "text": [
      "2.0\n",
      "1.3862943611198906\n"
     ]
    }
   ],
   "source": [
    "import math\n",
    "\n",
    "print(math.sqrt(4))\n",
    "print(math.log(4))"
   ]
  },
  {
   "cell_type": "markdown",
   "metadata": {
    "slideshow": {
     "slide_type": "slide"
    }
   },
   "source": [
    "# Questions on Unit 01?\n",
    "\n",
    "- **01: Welcome to Python**\n",
    "  - Variables\n",
    "  - Data types\n",
    "  - Operators\n",
    "  - Conditional Statements\n",
    "  - For loops\n",
    "  - Functions"
   ]
  }
 ],
 "metadata": {
  "celltoolbar": "Slideshow",
  "kernelspec": {
   "display_name": "Python 3 (ipykernel)",
   "language": "python",
   "name": "python3"
  },
  "language_info": {
   "codemirror_mode": {
    "name": "ipython",
    "version": 3
   },
   "file_extension": ".py",
   "mimetype": "text/x-python",
   "name": "python",
   "nbconvert_exporter": "python",
   "pygments_lexer": "ipython3",
   "version": "3.12.11"
  }
 },
 "nbformat": 4,
 "nbformat_minor": 4
}
