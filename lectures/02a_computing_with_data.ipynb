{
 "cells": [
  {
   "cell_type": "markdown",
   "metadata": {
    "slideshow": {
     "slide_type": "slide"
    }
   },
   "source": [
    "# Unit 02: Computing with Data in Python"
   ]
  },
  {
   "cell_type": "markdown",
   "metadata": {
    "slideshow": {
     "slide_type": "slide"
    }
   },
   "source": [
    "# Outline of ECE 3\n",
    "\n",
    "The course ECE 3 is organized into 4 units.\n",
    "\n",
    "- Unit 01: Welcome to Python\n",
    "- **Unit 02: Computing with Data in Python**\n",
    "- Unit 03: Summarizing Data in Python\n",
    "- Unit 04: Predicting from Data with Machine Learning in Python"
   ]
  },
  {
   "cell_type": "markdown",
   "metadata": {
    "slideshow": {
     "slide_type": "slide"
    }
   },
   "source": [
    "# Outline of Unit 02\n",
    "\n",
    "- **02: Computing with Data in Python**\n",
    "  - Vector\n",
    "      - Vectors: assigning, accessing, visualizing\n",
    "      - Vector addition, subtraction, scaling, linear combination\n",
    "      - Inner products, affine function, norm, distance, angle\n",
    "  - Matrix\n",
    "      - Matrices, special matrices\n",
    "      - Matrix transpose, addition, subtraction, scaling\n",
    "      - Matrix-vector multiplication, Matrix-matrix multiplication"
   ]
  },
  {
   "cell_type": "markdown",
   "metadata": {
    "slideshow": {
     "slide_type": "slide"
    }
   },
   "source": [
    "# 1. What is a Vector"
   ]
  },
  {
   "cell_type": "markdown",
   "metadata": {
    "slideshow": {
     "slide_type": "slide"
    }
   },
   "source": [
    "\n",
    "A vector is roughly \"a list of numbers\": \n",
    "\n",
    "$\\rightarrow$ a point in a high-dimensional space\n",
    "\n",
    "$\\rightarrow$ everywhere in modern data and computer programs\n",
    "\n",
    "$\\rightarrow$ the mathematical object which describes how we represent data in a computer"
   ]
  },
  {
   "cell_type": "markdown",
   "metadata": {
    "slideshow": {
     "slide_type": "fragment"
    }
   },
   "source": [
    "\n",
    "## Lets go through some examples:"
   ]
  },
  {
   "cell_type": "markdown",
   "metadata": {
    "cell_style": "split",
    "slideshow": {
     "slide_type": "slide"
    }
   },
   "source": [
    "### Tabular\n",
    "\n",
    "Tabular data is structured information organized in rows (observations) and columns (features). We can consider each row as a vector of features or each column as a vector of observations.\n",
    "\n",
    "<center><img src=\"figs/01_tabular.jpg\" alt=\"default\" width=800px/></center>"
   ]
  },
  {
   "cell_type": "markdown",
   "metadata": {
    "slideshow": {
     "slide_type": "slide"
    }
   },
   "source": [
    "**Example:** The *Iris dataset*, collected by botanist Edgar Anderson in the 1930s, is a famous dataset in machine learning and statistics. It contains measurements of sepal and petal dimensions of three iris flower species"
   ]
  },
  {
   "cell_type": "code",
   "execution_count": 3,
   "metadata": {
    "cell_style": "split",
    "slideshow": {
     "slide_type": "-"
    }
   },
   "outputs": [
    {
     "name": "stdout",
     "output_type": "stream",
     "text": [
      "+----------------+---------------+----------------+---------------+--------------+\n",
      "| \"sepal.length\" | \"sepal.width\" | \"petal.length\" | \"petal.width\" |  \"variety\"   |\n",
      "+----------------+---------------+----------------+---------------+--------------+\n",
      "|      5.1       |      3.5      |      1.4       |      .2       |   \"Setosa\"   |\n",
      "|      4.9       |       3       |      1.4       |      .2       |   \"Setosa\"   |\n",
      "|      4.7       |      3.2      |      1.3       |      .2       |   \"Setosa\"   |\n",
      "|      4.6       |      3.1      |      1.5       |      .2       |   \"Setosa\"   |\n",
      "|       5        |      3.6      |      1.4       |      .2       |   \"Setosa\"   |\n",
      "|      5.4       |      3.9      |      1.7       |      .4       |   \"Setosa\"   |\n",
      "|      4.6       |      3.4      |      1.4       |      .3       |   \"Setosa\"   |\n",
      "|       5        |      3.4      |      1.5       |      .2       |   \"Setosa\"   |\n",
      "|      4.4       |      2.9      |      1.4       |      .2       |   \"Setosa\"   |\n",
      "|      4.9       |      3.1      |      1.5       |      .1       |   \"Setosa\"   |\n",
      "|      5.4       |      3.7      |      1.5       |      .2       |   \"Setosa\"   |\n",
      "|      4.8       |      3.4      |      1.6       |      .2       |   \"Setosa\"   |\n",
      "|      4.8       |       3       |      1.4       |      .1       |   \"Setosa\"   |\n",
      "|      4.3       |       3       |      1.1       |      .1       |   \"Setosa\"   |\n",
      "|      5.8       |       4       |      1.2       |      .2       |   \"Setosa\"   |\n",
      "|      5.7       |      4.4      |      1.5       |      .4       |   \"Setosa\"   |\n",
      "|      5.4       |      3.9      |      1.3       |      .4       |   \"Setosa\"   |\n",
      "|      5.1       |      3.5      |      1.4       |      .3       |   \"Setosa\"   |\n",
      "|      5.7       |      3.8      |      1.7       |      .3       |   \"Setosa\"   |\n",
      "|      5.1       |      3.8      |      1.5       |      .3       |   \"Setosa\"   |\n",
      "|      5.4       |      3.4      |      1.7       |      .2       |   \"Setosa\"   |\n",
      "|      5.1       |      3.7      |      1.5       |      .4       |   \"Setosa\"   |\n",
      "|      4.6       |      3.6      |       1        |      .2       |   \"Setosa\"   |\n",
      "|      5.1       |      3.3      |      1.7       |      .5       |   \"Setosa\"   |\n",
      "|      4.8       |      3.4      |      1.9       |      .2       |   \"Setosa\"   |\n",
      "|       5        |       3       |      1.6       |      .2       |   \"Setosa\"   |\n",
      "|       5        |      3.4      |      1.6       |      .4       |   \"Setosa\"   |\n",
      "|      5.2       |      3.5      |      1.5       |      .2       |   \"Setosa\"   |\n",
      "|      5.2       |      3.4      |      1.4       |      .2       |   \"Setosa\"   |\n",
      "|      4.7       |      3.2      |      1.6       |      .2       |   \"Setosa\"   |\n",
      "|      4.8       |      3.1      |      1.6       |      .2       |   \"Setosa\"   |\n",
      "|      5.4       |      3.4      |      1.5       |      .4       |   \"Setosa\"   |\n",
      "|      5.2       |      4.1      |      1.5       |      .1       |   \"Setosa\"   |\n",
      "|      5.5       |      4.2      |      1.4       |      .2       |   \"Setosa\"   |\n",
      "|      4.9       |      3.1      |      1.5       |      .2       |   \"Setosa\"   |\n",
      "|       5        |      3.2      |      1.2       |      .2       |   \"Setosa\"   |\n",
      "|      5.5       |      3.5      |      1.3       |      .2       |   \"Setosa\"   |\n",
      "|      4.9       |      3.6      |      1.4       |      .1       |   \"Setosa\"   |\n",
      "|      4.4       |       3       |      1.3       |      .2       |   \"Setosa\"   |\n",
      "|      5.1       |      3.4      |      1.5       |      .2       |   \"Setosa\"   |\n",
      "|       5        |      3.5      |      1.3       |      .3       |   \"Setosa\"   |\n",
      "|      4.5       |      2.3      |      1.3       |      .3       |   \"Setosa\"   |\n",
      "|      4.4       |      3.2      |      1.3       |      .2       |   \"Setosa\"   |\n",
      "|       5        |      3.5      |      1.6       |      .6       |   \"Setosa\"   |\n",
      "|      5.1       |      3.8      |      1.9       |      .4       |   \"Setosa\"   |\n",
      "|      4.8       |       3       |      1.4       |      .3       |   \"Setosa\"   |\n",
      "|      5.1       |      3.8      |      1.6       |      .2       |   \"Setosa\"   |\n",
      "|      4.6       |      3.2      |      1.4       |      .2       |   \"Setosa\"   |\n",
      "|      5.3       |      3.7      |      1.5       |      .2       |   \"Setosa\"   |\n",
      "|       5        |      3.3      |      1.4       |      .2       |   \"Setosa\"   |\n",
      "|       7        |      3.2      |      4.7       |      1.4      | \"Versicolor\" |\n",
      "|      6.4       |      3.2      |      4.5       |      1.5      | \"Versicolor\" |\n",
      "|      6.9       |      3.1      |      4.9       |      1.5      | \"Versicolor\" |\n",
      "|      5.5       |      2.3      |       4        |      1.3      | \"Versicolor\" |\n",
      "|      6.5       |      2.8      |      4.6       |      1.5      | \"Versicolor\" |\n",
      "|      5.7       |      2.8      |      4.5       |      1.3      | \"Versicolor\" |\n",
      "|      6.3       |      3.3      |      4.7       |      1.6      | \"Versicolor\" |\n",
      "|      4.9       |      2.4      |      3.3       |       1       | \"Versicolor\" |\n",
      "|      6.6       |      2.9      |      4.6       |      1.3      | \"Versicolor\" |\n",
      "|      5.2       |      2.7      |      3.9       |      1.4      | \"Versicolor\" |\n",
      "|       5        |       2       |      3.5       |       1       | \"Versicolor\" |\n",
      "|      5.9       |       3       |      4.2       |      1.5      | \"Versicolor\" |\n",
      "|       6        |      2.2      |       4        |       1       | \"Versicolor\" |\n",
      "|      6.1       |      2.9      |      4.7       |      1.4      | \"Versicolor\" |\n",
      "|      5.6       |      2.9      |      3.6       |      1.3      | \"Versicolor\" |\n",
      "|      6.7       |      3.1      |      4.4       |      1.4      | \"Versicolor\" |\n",
      "|      5.6       |       3       |      4.5       |      1.5      | \"Versicolor\" |\n",
      "|      5.8       |      2.7      |      4.1       |       1       | \"Versicolor\" |\n",
      "|      6.2       |      2.2      |      4.5       |      1.5      | \"Versicolor\" |\n",
      "|      5.6       |      2.5      |      3.9       |      1.1      | \"Versicolor\" |\n",
      "|      5.9       |      3.2      |      4.8       |      1.8      | \"Versicolor\" |\n",
      "|      6.1       |      2.8      |       4        |      1.3      | \"Versicolor\" |\n",
      "|      6.3       |      2.5      |      4.9       |      1.5      | \"Versicolor\" |\n",
      "|      6.1       |      2.8      |      4.7       |      1.2      | \"Versicolor\" |\n",
      "|      6.4       |      2.9      |      4.3       |      1.3      | \"Versicolor\" |\n",
      "|      6.6       |       3       |      4.4       |      1.4      | \"Versicolor\" |\n",
      "|      6.8       |      2.8      |      4.8       |      1.4      | \"Versicolor\" |\n",
      "|      6.7       |       3       |       5        |      1.7      | \"Versicolor\" |\n",
      "|       6        |      2.9      |      4.5       |      1.5      | \"Versicolor\" |\n",
      "|      5.7       |      2.6      |      3.5       |       1       | \"Versicolor\" |\n",
      "|      5.5       |      2.4      |      3.8       |      1.1      | \"Versicolor\" |\n",
      "|      5.5       |      2.4      |      3.7       |       1       | \"Versicolor\" |\n",
      "|      5.8       |      2.7      |      3.9       |      1.2      | \"Versicolor\" |\n",
      "|       6        |      2.7      |      5.1       |      1.6      | \"Versicolor\" |\n",
      "|      5.4       |       3       |      4.5       |      1.5      | \"Versicolor\" |\n",
      "|       6        |      3.4      |      4.5       |      1.6      | \"Versicolor\" |\n",
      "|      6.7       |      3.1      |      4.7       |      1.5      | \"Versicolor\" |\n",
      "|      6.3       |      2.3      |      4.4       |      1.3      | \"Versicolor\" |\n",
      "|      5.6       |       3       |      4.1       |      1.3      | \"Versicolor\" |\n",
      "|      5.5       |      2.5      |       4        |      1.3      | \"Versicolor\" |\n",
      "|      5.5       |      2.6      |      4.4       |      1.2      | \"Versicolor\" |\n",
      "|      6.1       |       3       |      4.6       |      1.4      | \"Versicolor\" |\n",
      "|      5.8       |      2.6      |       4        |      1.2      | \"Versicolor\" |\n",
      "|       5        |      2.3      |      3.3       |       1       | \"Versicolor\" |\n",
      "|      5.6       |      2.7      |      4.2       |      1.3      | \"Versicolor\" |\n",
      "|      5.7       |       3       |      4.2       |      1.2      | \"Versicolor\" |\n",
      "|      5.7       |      2.9      |      4.2       |      1.3      | \"Versicolor\" |\n",
      "|      6.2       |      2.9      |      4.3       |      1.3      | \"Versicolor\" |\n",
      "|      5.1       |      2.5      |       3        |      1.1      | \"Versicolor\" |\n",
      "|      5.7       |      2.8      |      4.1       |      1.3      | \"Versicolor\" |\n",
      "|      6.3       |      3.3      |       6        |      2.5      | \"Virginica\"  |\n",
      "|      5.8       |      2.7      |      5.1       |      1.9      | \"Virginica\"  |\n",
      "|      7.1       |       3       |      5.9       |      2.1      | \"Virginica\"  |\n",
      "|      6.3       |      2.9      |      5.6       |      1.8      | \"Virginica\"  |\n",
      "|      6.5       |       3       |      5.8       |      2.2      | \"Virginica\"  |\n",
      "|      7.6       |       3       |      6.6       |      2.1      | \"Virginica\"  |\n",
      "|      4.9       |      2.5      |      4.5       |      1.7      | \"Virginica\"  |\n",
      "|      7.3       |      2.9      |      6.3       |      1.8      | \"Virginica\"  |\n",
      "|      6.7       |      2.5      |      5.8       |      1.8      | \"Virginica\"  |\n",
      "|      7.2       |      3.6      |      6.1       |      2.5      | \"Virginica\"  |\n",
      "|      6.5       |      3.2      |      5.1       |       2       | \"Virginica\"  |\n",
      "|      6.4       |      2.7      |      5.3       |      1.9      | \"Virginica\"  |\n",
      "|      6.8       |       3       |      5.5       |      2.1      | \"Virginica\"  |\n",
      "|      5.7       |      2.5      |       5        |       2       | \"Virginica\"  |\n",
      "|      5.8       |      2.8      |      5.1       |      2.4      | \"Virginica\"  |\n",
      "|      6.4       |      3.2      |      5.3       |      2.3      | \"Virginica\"  |\n",
      "|      6.5       |       3       |      5.5       |      1.8      | \"Virginica\"  |\n",
      "|      7.7       |      3.8      |      6.7       |      2.2      | \"Virginica\"  |\n",
      "|      7.7       |      2.6      |      6.9       |      2.3      | \"Virginica\"  |\n",
      "|       6        |      2.2      |       5        |      1.5      | \"Virginica\"  |\n",
      "|      6.9       |      3.2      |      5.7       |      2.3      | \"Virginica\"  |\n",
      "|      5.6       |      2.8      |      4.9       |       2       | \"Virginica\"  |\n",
      "|      7.7       |      2.8      |      6.7       |       2       | \"Virginica\"  |\n",
      "|      6.3       |      2.7      |      4.9       |      1.8      | \"Virginica\"  |\n",
      "|      6.7       |      3.3      |      5.7       |      2.1      | \"Virginica\"  |\n",
      "|      7.2       |      3.2      |       6        |      1.8      | \"Virginica\"  |\n",
      "|      6.2       |      2.8      |      4.8       |      1.8      | \"Virginica\"  |\n",
      "|      6.1       |       3       |      4.9       |      1.8      | \"Virginica\"  |\n",
      "|      6.4       |      2.8      |      5.6       |      2.1      | \"Virginica\"  |\n",
      "|      7.2       |       3       |      5.8       |      1.6      | \"Virginica\"  |\n",
      "|      7.4       |      2.8      |      6.1       |      1.9      | \"Virginica\"  |\n",
      "|      7.9       |      3.8      |      6.4       |       2       | \"Virginica\"  |\n",
      "|      6.4       |      2.8      |      5.6       |      2.2      | \"Virginica\"  |\n",
      "|      6.3       |      2.8      |      5.1       |      1.5      | \"Virginica\"  |\n",
      "|      6.1       |      2.6      |      5.6       |      1.4      | \"Virginica\"  |\n",
      "|      7.7       |       3       |      6.1       |      2.3      | \"Virginica\"  |\n",
      "|      6.3       |      3.4      |      5.6       |      2.4      | \"Virginica\"  |\n",
      "|      6.4       |      3.1      |      5.5       |      1.8      | \"Virginica\"  |\n",
      "|       6        |       3       |      4.8       |      1.8      | \"Virginica\"  |\n",
      "|      6.9       |      3.1      |      5.4       |      2.1      | \"Virginica\"  |\n",
      "|      6.7       |      3.1      |      5.6       |      2.4      | \"Virginica\"  |\n",
      "|      6.9       |      3.1      |      5.1       |      2.3      | \"Virginica\"  |\n",
      "|      5.8       |      2.7      |      5.1       |      1.9      | \"Virginica\"  |\n",
      "|      6.8       |      3.2      |      5.9       |      2.3      | \"Virginica\"  |\n",
      "|      6.7       |      3.3      |      5.7       |      2.5      | \"Virginica\"  |\n",
      "|      6.7       |       3       |      5.2       |      2.3      | \"Virginica\"  |\n",
      "|      6.3       |      2.5      |       5        |      1.9      | \"Virginica\"  |\n",
      "|      6.5       |       3       |      5.2       |       2       | \"Virginica\"  |\n",
      "|      6.2       |      3.4      |      5.4       |      2.3      | \"Virginica\"  |\n",
      "|      5.9       |       3       |      5.1       |      1.8      | \"Virginica\"  |\n",
      "+----------------+---------------+----------------+---------------+--------------+\n"
     ]
    }
   ],
   "source": [
    "import numpy as np\n",
    "from tabulate import tabulate\n",
    "\n",
    "# Load the CSV file using NumPy\n",
    "data = np.genfromtxt('../data/iris.csv', delimiter=',', dtype=str)\n",
    "\n",
    "# Print the data in a nice tabular format\n",
    "headers = data[0]  # Assuming the first row contains headers\n",
    "data = data[1:]     # Exclude the header row from data\n",
    "\n",
    "# Print the table\n",
    "print(tabulate(data, headers, tablefmt=\"pretty\"))"
   ]
  },
  {
   "cell_type": "markdown",
   "metadata": {
    "cell_style": "split",
    "slideshow": {
     "slide_type": "slide"
    }
   },
   "source": [
    "### Images\n",
    "\n",
    "Image data consists of visual information represented as pixels in a grid. By flattening this grid we can consider each image as a vector of zeros and ones.\n",
    "\n",
    "<center><img src=\"figs/00_image_a.jpg\" alt=\"default\" width=1000px/></center>"
   ]
  },
  {
   "cell_type": "markdown",
   "metadata": {
    "slideshow": {
     "slide_type": "slide"
    }
   },
   "source": [
    "**Example:** *MNIST* is a widely-used dataset consisting of 28x28 pixel handwritten digits (0-9) created in the late 1990s by Yann LeCun and his colleagues, serving as a benchmark for evaluating image classification algorithms, particularly in the early days of deep learning."
   ]
  },
  {
   "cell_type": "code",
   "execution_count": 84,
   "metadata": {},
   "outputs": [
    {
     "data": {
      "image/png": "[encoded data removed]",
      "text/plain": [
       "<Figure size 432x288 with 1 Axes>"
      ]
     },
     "metadata": {
      "needs_background": "light"
     },
     "output_type": "display_data"
    },
    {
     "name": "stdout",
     "output_type": "stream",
     "text": [
      "tensor([[[0.0000, 0.0000, 0.0000, 0.0000, 0.0000, 0.0000, 0.0000, 0.0000,\n",
      "          0.0000, 0.0000, 0.0000, 0.0000, 0.0000, 0.0000, 0.0000, 0.0000,\n",
      "          0.0000, 0.0000, 0.0000, 0.0000, 0.0000, 0.0000, 0.0000, 0.0000,\n",
      "          0.0000, 0.0000, 0.0000, 0.0000],\n",
      "         [0.0000, 0.0000, 0.0000, 0.0000, 0.0000, 0.0000, 0.0000, 0.0000,\n",
      "          0.0000, 0.0000, 0.0000, 0.0000, 0.0000, 0.0000, 0.0000, 0.0000,\n",
      "          0.0000, 0.0000, 0.0000, 0.0000, 0.0000, 0.0000, 0.0000, 0.0000,\n",
      "          0.0000, 0.0000, 0.0000, 0.0000],\n",
      "         [0.0000, 0.0000, 0.0000, 0.0000, 0.0000, 0.0000, 0.0000, 0.0000,\n",
      "          0.0000, 0.0000, 0.0000, 0.0000, 0.0000, 0.0000, 0.0000, 0.0000,\n",
      "          0.0000, 0.0000, 0.0000, 0.0000, 0.0000, 0.0000, 0.0000, 0.0000,\n",
      "          0.0000, 0.0000, 0.0000, 0.0000],\n",
      "         [0.0000, 0.0000, 0.0000, 0.0000, 0.0000, 0.0000, 0.0000, 0.0000,\n",
      "          0.0000, 0.0000, 0.0000, 0.0000, 0.0000, 0.0000, 0.0000, 0.0000,\n",
      "          0.0000, 0.0000, 0.0000, 0.0000, 0.0000, 0.0000, 0.0000, 0.0000,\n",
      "          0.0000, 0.0000, 0.0000, 0.0000],\n",
      "         [0.0000, 0.0000, 0.0000, 0.0000, 0.0000, 0.0000, 0.0000, 0.0000,\n",
      "          0.0000, 0.0000, 0.0000, 0.0000, 0.0000, 0.0000, 0.0000, 0.0000,\n",
      "          0.0000, 0.0000, 0.0000, 0.0000, 0.0000, 0.0000, 0.0000, 0.0000,\n",
      "          0.0000, 0.0000, 0.0000, 0.0000],\n",
      "         [0.0000, 0.0000, 0.0000, 0.0000, 0.0000, 0.0000, 0.0000, 0.0000,\n",
      "          0.0000, 0.0000, 0.0000, 0.0000, 0.0000, 0.0000, 0.0000, 0.0000,\n",
      "          0.0000, 0.0000, 0.0000, 0.0000, 0.0000, 0.0000, 0.0000, 0.0000,\n",
      "          0.0000, 0.0000, 0.0000, 0.0000],\n",
      "         [0.0000, 0.0000, 0.0000, 0.0000, 0.0000, 0.0000, 0.0000, 0.0000,\n",
      "          0.0000, 0.0000, 0.0000, 0.0000, 0.0000, 0.0000, 0.0000, 0.0000,\n",
      "          0.0000, 0.0000, 0.0000, 0.0000, 0.0000, 0.0000, 0.0000, 0.0000,\n",
      "          0.0000, 0.0000, 0.0000, 0.0000],\n",
      "         [0.0000, 0.0000, 0.0000, 0.0000, 0.0000, 0.0000, 0.0000, 0.0000,\n",
      "          0.0000, 0.0000, 0.0000, 0.0000, 0.0431, 0.7255, 1.0000, 0.9922,\n",
      "          0.9922, 0.9020, 0.5176, 0.5176, 0.1216, 0.0000, 0.0000, 0.0000,\n",
      "          0.0000, 0.0000, 0.0000, 0.0000],\n",
      "         [0.0000, 0.0000, 0.0000, 0.0000, 0.0000, 0.0000, 0.0000, 0.0000,\n",
      "          0.0000, 0.0000, 0.0353, 0.2784, 0.9490, 0.9882, 0.9882, 0.8941,\n",
      "          0.9059, 0.9882, 0.9882, 0.9882, 0.6549, 0.0000, 0.0000, 0.0000,\n",
      "          0.0000, 0.0000, 0.0000, 0.0000],\n",
      "         [0.0000, 0.0000, 0.0000, 0.0000, 0.0000, 0.0000, 0.0000, 0.0000,\n",
      "          0.0000, 0.1098, 0.6510, 0.9882, 0.9882, 0.9216, 0.3608, 0.0000,\n",
      "          0.0549, 0.5569, 0.9882, 0.9882, 0.5882, 0.0000, 0.0000, 0.0000,\n",
      "          0.0000, 0.0000, 0.0000, 0.0000],\n",
      "         [0.0000, 0.0000, 0.0000, 0.0000, 0.0000, 0.0000, 0.0000, 0.0000,\n",
      "          0.0471, 0.8000, 0.9882, 0.9176, 0.5961, 0.1725, 0.0000, 0.0000,\n",
      "          0.1882, 0.8824, 0.9882, 0.7059, 0.0627, 0.0000, 0.0000, 0.0000,\n",
      "          0.0000, 0.0000, 0.0000, 0.0000],\n",
      "         [0.0000, 0.0000, 0.0000, 0.0000, 0.0000, 0.0000, 0.0000, 0.0471,\n",
      "          0.6431, 0.9882, 0.9098, 0.2392, 0.0000, 0.0000, 0.0000, 0.0235,\n",
      "          0.7020, 0.9882, 0.9882, 0.2353, 0.0000, 0.0000, 0.0000, 0.0000,\n",
      "          0.0000, 0.0000, 0.0000, 0.0000],\n",
      "         [0.0000, 0.0000, 0.0000, 0.0000, 0.0000, 0.0000, 0.0000, 0.1922,\n",
      "          0.9882, 0.9882, 0.2980, 0.0000, 0.0000, 0.0000, 0.1725, 0.7804,\n",
      "          0.9882, 0.9882, 0.9882, 0.2353, 0.0000, 0.0000, 0.0000, 0.0000,\n",
      "          0.0000, 0.0000, 0.0000, 0.0000],\n",
      "         [0.0000, 0.0000, 0.0000, 0.0000, 0.0000, 0.0000, 0.0000, 0.3490,\n",
      "          0.9882, 0.8941, 0.1255, 0.0000, 0.0000, 0.3882, 0.9059, 0.9569,\n",
      "          0.8627, 0.9882, 0.7961, 0.0471, 0.0000, 0.0000, 0.0000, 0.0000,\n",
      "          0.0000, 0.0000, 0.0000, 0.0000],\n",
      "         [0.0000, 0.0000, 0.0000, 0.0000, 0.0000, 0.0000, 0.0000, 0.6627,\n",
      "          0.9882, 0.8118, 0.3804, 0.3804, 0.8078, 0.9176, 0.9529, 0.1255,\n",
      "          0.6157, 0.9882, 0.5686, 0.0000, 0.0000, 0.0000, 0.0000, 0.0000,\n",
      "          0.0000, 0.0000, 0.0000, 0.0000],\n",
      "         [0.0000, 0.0000, 0.0000, 0.0000, 0.0000, 0.0000, 0.0000, 0.2353,\n",
      "          0.9882, 0.9882, 0.9882, 0.9882, 0.9882, 0.7843, 0.0863, 0.0431,\n",
      "          0.7765, 0.9059, 0.1608, 0.0000, 0.0000, 0.0000, 0.0000, 0.0000,\n",
      "          0.0000, 0.0000, 0.0000, 0.0000],\n",
      "         [0.0000, 0.0000, 0.0000, 0.0000, 0.0000, 0.0000, 0.0000, 0.1020,\n",
      "          0.5137, 0.8784, 0.9882, 0.9882, 0.5569, 0.0431, 0.0000, 0.3216,\n",
      "          0.9882, 0.8000, 0.0000, 0.0000, 0.0000, 0.0000, 0.0000, 0.0000,\n",
      "          0.0000, 0.0000, 0.0000, 0.0000],\n",
      "         [0.0000, 0.0000, 0.0000, 0.0000, 0.0000, 0.0000, 0.0000, 0.0000,\n",
      "          0.0000, 0.0000, 0.0000, 0.0000, 0.0000, 0.0000, 0.0510, 0.9922,\n",
      "          0.9922, 0.5529, 0.0000, 0.0000, 0.0000, 0.0000, 0.0000, 0.0000,\n",
      "          0.0000, 0.0000, 0.0000, 0.0000],\n",
      "         [0.0000, 0.0000, 0.0000, 0.0000, 0.0000, 0.0000, 0.0000, 0.0000,\n",
      "          0.0000, 0.0000, 0.0000, 0.0000, 0.0000, 0.0000, 0.3216, 0.9882,\n",
      "          0.8627, 0.1412, 0.0000, 0.0000, 0.0000, 0.0000, 0.0000, 0.0000,\n",
      "          0.0000, 0.0000, 0.0000, 0.0000],\n",
      "         [0.0000, 0.0000, 0.0000, 0.0000, 0.0000, 0.0000, 0.0000, 0.0000,\n",
      "          0.0000, 0.0000, 0.0000, 0.0000, 0.0000, 0.0000, 0.8157, 0.9882,\n",
      "          0.3765, 0.0000, 0.0000, 0.0000, 0.0000, 0.0000, 0.0000, 0.0000,\n",
      "          0.0000, 0.0000, 0.0000, 0.0000],\n",
      "         [0.0000, 0.0000, 0.0000, 0.0000, 0.0000, 0.0000, 0.0000, 0.0000,\n",
      "          0.0000, 0.0000, 0.0000, 0.0000, 0.0000, 0.0941, 0.9922, 0.9686,\n",
      "          0.3059, 0.0000, 0.0000, 0.0000, 0.0000, 0.0000, 0.0000, 0.0000,\n",
      "          0.0000, 0.0000, 0.0000, 0.0000],\n",
      "         [0.0000, 0.0000, 0.0000, 0.0000, 0.0000, 0.0000, 0.0000, 0.0000,\n",
      "          0.0000, 0.0000, 0.0000, 0.0000, 0.0000, 0.4745, 0.9922, 0.7804,\n",
      "          0.0000, 0.0000, 0.0000, 0.0000, 0.0000, 0.0000, 0.0000, 0.0000,\n",
      "          0.0000, 0.0000, 0.0000, 0.0000],\n",
      "         [0.0000, 0.0000, 0.0000, 0.0000, 0.0000, 0.0000, 0.0000, 0.0000,\n",
      "          0.0000, 0.0000, 0.0000, 0.0000, 0.1255, 0.8471, 0.9569, 0.1020,\n",
      "          0.0000, 0.0000, 0.0000, 0.0000, 0.0000, 0.0000, 0.0000, 0.0000,\n",
      "          0.0000, 0.0000, 0.0000, 0.0000],\n",
      "         [0.0000, 0.0000, 0.0000, 0.0000, 0.0000, 0.0000, 0.0000, 0.0000,\n",
      "          0.0000, 0.0000, 0.0000, 0.0000, 0.8118, 0.9882, 0.9451, 0.0000,\n",
      "          0.0000, 0.0000, 0.0000, 0.0000, 0.0000, 0.0000, 0.0000, 0.0000,\n",
      "          0.0000, 0.0000, 0.0000, 0.0000],\n",
      "         [0.0000, 0.0000, 0.0000, 0.0000, 0.0000, 0.0000, 0.0000, 0.0000,\n",
      "          0.0000, 0.0000, 0.1294, 0.7843, 0.9765, 0.9882, 0.3608, 0.0000,\n",
      "          0.0000, 0.0000, 0.0000, 0.0000, 0.0000, 0.0000, 0.0000, 0.0000,\n",
      "          0.0000, 0.0000, 0.0000, 0.0000],\n",
      "         [0.0000, 0.0000, 0.0000, 0.0000, 0.0000, 0.0000, 0.0000, 0.0000,\n",
      "          0.0000, 0.0000, 0.3333, 0.9882, 0.9882, 0.5569, 0.0000, 0.0000,\n",
      "          0.0000, 0.0000, 0.0000, 0.0000, 0.0000, 0.0000, 0.0000, 0.0000,\n",
      "          0.0000, 0.0000, 0.0000, 0.0000],\n",
      "         [0.0000, 0.0000, 0.0000, 0.0000, 0.0000, 0.0000, 0.0000, 0.0000,\n",
      "          0.0000, 0.0000, 0.3333, 0.9882, 0.7843, 0.0431, 0.0000, 0.0000,\n",
      "          0.0000, 0.0000, 0.0000, 0.0000, 0.0000, 0.0000, 0.0000, 0.0000,\n",
      "          0.0000, 0.0000, 0.0000, 0.0000],\n",
      "         [0.0000, 0.0000, 0.0000, 0.0000, 0.0000, 0.0000, 0.0000, 0.0000,\n",
      "          0.0000, 0.0000, 0.0000, 0.0000, 0.0000, 0.0000, 0.0000, 0.0000,\n",
      "          0.0000, 0.0000, 0.0000, 0.0000, 0.0000, 0.0000, 0.0000, 0.0000,\n",
      "          0.0000, 0.0000, 0.0000, 0.0000]]])\n"
     ]
    }
   ],
   "source": [
    "import numpy as np\n",
    "import matplotlib.pyplot as plt\n",
    "import torch\n",
    "from torchvision import datasets, transforms\n",
    "\n",
    "# Load the MNIST dataset\n",
    "transform = transforms.ToTensor()\n",
    "train_dataset = datasets.MNIST('../data/', train=True, transform=transform, download=True)\n",
    "\n",
    "# Get the image data and its label\n",
    "image_index = 45  # Change this to select a different image\n",
    "image, label = train_dataset[image_index]\n",
    "\n",
    "# Display the image\n",
    "plt.figure()\n",
    "plt.imshow(image[0], cmap='gray')  # MNIST images are single-channel (grayscale)\n",
    "plt.title(f\"Label: {label}\")\n",
    "plt.show()\n",
    "print(image)"
   ]
  },
  {
   "cell_type": "markdown",
   "metadata": {
    "cell_style": "split",
    "slideshow": {
     "slide_type": "slide"
    }
   },
   "source": [
    "### Color\n",
    "\n",
    "In a computer color is represented by three numbers, one for red, green and blue. Thus, each color is a vector in RGB space.\n",
    "\n",
    "<center><img src=\"figs/01_rgb_intro.png\" alt=\"default\" width=600px/></center>"
   ]
  },
  {
   "cell_type": "code",
   "execution_count": 86,
   "metadata": {
    "slideshow": {
     "slide_type": "slide"
    }
   },
   "outputs": [
    {
     "data": {
      "image/png": "[encoded data removed]",
      "text/plain": [
       "<Figure size 432x432 with 1 Axes>"
      ]
     },
     "metadata": {
      "needs_background": "light"
     },
     "output_type": "display_data"
    }
   ],
   "source": [
    "import numpy as np\n",
    "import matplotlib.pyplot as plt\n",
    "from mpl_toolkits.mplot3d import Axes3D\n",
    "# Define RGB values for different colors\n",
    "colors = np.array([[255, 0, 0],  # Red\n",
    "                   [0, 255, 0],  # Green\n",
    "                   [0, 0, 255]])  # Blue\n",
    "\n",
    "new_color = np.array([[200, 20, 200]])\n",
    "colors = np.vstack((colors, new_color))\n",
    "\n",
    "# Show the 3D plot\n",
    "fig = plt.figure(figsize=(6, 6))\n",
    "ax = fig.add_subplot(111, projection='3d')\n",
    "ax.scatter(colors[:,0], colors[:,1], colors[:,2], s=200, color=colors/255)\n",
    "ax.quiver(0, 0, 0, colors[:,0], colors[:,1], colors[:,2], color=colors/255, arrow_length_ratio=0)\n",
    "ax.set_xlim(0, 270); ax.set_ylim(0, 270); ax.set_zlim(0, 270)\n",
    "ax.set_xlabel(\"Red-axis\"); ax.set_ylabel(\"Green-axis\"); ax.set_zlabel(\"Blue-axis\")\n",
    "plt.show()"
   ]
  },
  {
   "cell_type": "markdown",
   "metadata": {
    "cell_style": "split",
    "slideshow": {
     "slide_type": "slide"
    }
   },
   "source": [
    "### Other\n",
    "\n",
    "**Temporal:** Temporal data such as stock prices or covid rates can be represented as a vector of values for equally spaced time intervals.\n",
    "<center><img src=\"figs/01_signal_vector.png\" alt=\"default\" width=300px/></center>\n",
    "\n",
    "**Audio:** Audio data repersents sound, typically in the form of a waveform, by various audio properties like amplitude, frequency, and time.\n",
    "<center><img src=\"figs/01_audio.png\" alt=\"default\" width=300px/></center>\n",
    "\n",
    "**Text:** A document can be represented as a vector of unique word frequencies. This is called a bag-of-words representation.\n",
    "<center><img src=\"figs/01_text.png\" alt=\"default\" width=300px/></center>"
   ]
  },
  {
   "cell_type": "markdown",
   "metadata": {
    "slideshow": {
     "slide_type": "slide"
    }
   },
   "source": [
    "## Computer science definition of a vector\n",
    "\n",
    "\n",
    "$\\color{#EF5645}{\\text{Definition}}$ A _vector_ is an ordered list of numbers:\n",
    "\n",
    "\n",
    "<center><img src=\"figs/01_def_vector.png\" alt=\"default\" width=500px/></center>\n",
    "\n",
    "<!-- \n",
    "$$\\begin{bmatrix}\n",
    "    -1.1 \\\\\n",
    "    0.0 \\\\\n",
    "    3.6 \\\\\n",
    "    -7.2\n",
    "\\end{bmatrix} \\text{ or } \\begin{bmatrix}\n",
    "    -1.1 \\\\\n",
    "    0.0 \\\\\n",
    "    3.6 \\\\\n",
    "    -7.2\n",
    "\\end{bmatrix} \\text{ or } (-1.1, 0.0, 3.6, -7.2).$$  -->\n",
    "\n",
    "The numbers in the list are called: _components, elements, entries, or coefficients_ of the vector."
   ]
  },
  {
   "cell_type": "markdown",
   "metadata": {
    "slideshow": {
     "slide_type": "fragment"
    }
   },
   "source": [
    "The number of elements in the list is the _size, dimension, or length_ of the vector. "
   ]
  },
  {
   "cell_type": "markdown",
   "metadata": {
    "slideshow": {
     "slide_type": "fragment"
    }
   },
   "source": [
    "If the a vector has dimension $n$, we call it an _$n$-vector_. If a vector has dimension $1$, we call it a _scalar_."
   ]
  },
  {
   "cell_type": "markdown",
   "metadata": {
    "slideshow": {
     "slide_type": "slide"
    }
   },
   "source": [
    "$\\color{#EF5645}{\\text{Notation}}$: \n",
    "\n",
    "We use symbols to denote vectors: $a, \\vec{a}$.\n",
    "\n",
    "The ith element of vector $a$ is written $a_i$.\n",
    "\n",
    "$\\color{#EF5645}{\\text{Remark}}$: Remeber, for an n-vector:\n",
    "  - 😱 in Math: indexes run from $i = 1$ to $i = n$,\n",
    "  - 😱 in Python: indexes run from $i = 0$ to $i = n - 1$."
   ]
  },
  {
   "cell_type": "markdown",
   "metadata": {
    "slideshow": {
     "slide_type": "slide"
    }
   },
   "source": [
    "## Vectors in Python\n",
    "\n",
    "$\\color{#003660}{\\text{In Python}}$, vectors could be represented as\n",
    "- a \"list\" of numbers, using `[]`,\n",
    "- a \"tuple\" of numbers, using `()`,\n",
    "- an \"array\" of numbers, using `np.array()`."
   ]
  },
  {
   "cell_type": "markdown",
   "metadata": {
    "slideshow": {
     "slide_type": "fragment"
    }
   },
   "source": [
    "We will always use the `numpy` package to represent vectors because it has multiple functions to easily compute with vectors!"
   ]
  },
  {
   "cell_type": "markdown",
   "metadata": {
    "slideshow": {
     "slide_type": "slide"
    }
   },
   "source": [
    "We import a package with `import` functionality.  We rename the package using `as` functionality."
   ]
  },
  {
   "cell_type": "code",
   "execution_count": 88,
   "metadata": {},
   "outputs": [
    {
     "name": "stdout",
     "output_type": "stream",
     "text": [
      "[1 2 3]\n",
      "[4 5 6]\n"
     ]
    }
   ],
   "source": [
    "import numpy as np\n",
    "\n",
    "a = [1, 2, 3]\n",
    "b = (4, 5, 6)\n",
    "\n",
    "c = np.array(a)\n",
    "d = np.array(b)\n",
    "\n",
    "print(c)\n",
    "print(d)"
   ]
  },
  {
   "cell_type": "markdown",
   "metadata": {
    "slideshow": {
     "slide_type": "slide"
    }
   },
   "source": [
    "### Accessing vector components\n",
    "\n",
    "In `numpy`, we \"access\" the components of a vector just as we do with a list or tuple:"
   ]
  },
  {
   "cell_type": "code",
   "execution_count": 45,
   "metadata": {},
   "outputs": [
    {
     "data": {
      "text/plain": [
       "3"
      ]
     },
     "execution_count": 45,
     "metadata": {},
     "output_type": "execute_result"
    }
   ],
   "source": [
    "a = np.array([3, 4, 5])\n",
    "a[0]"
   ]
  },
  {
   "cell_type": "markdown",
   "metadata": {
    "slideshow": {
     "slide_type": "slide"
    }
   },
   "source": [
    "### Assigning vector components\n",
    "\n",
    "In `numpy`, components of a vector can be \"assigned\", as in a list:"
   ]
  },
  {
   "cell_type": "code",
   "execution_count": 54,
   "metadata": {},
   "outputs": [
    {
     "data": {
      "text/plain": [
       "array([ 1.000e+00,  2.200e+00, -3.000e+00, -2.022e+03])"
      ]
     },
     "execution_count": 54,
     "metadata": {},
     "output_type": "execute_result"
    }
   ],
   "source": [
    "a = np.array([1, 2.2, -3., 4.])\n",
    "a[3] = -2022\n",
    "a"
   ]
  },
  {
   "cell_type": "markdown",
   "metadata": {
    "slideshow": {
     "slide_type": "slide"
    }
   },
   "source": [
    "### Computing vector length"
   ]
  },
  {
   "cell_type": "markdown",
   "metadata": {
    "slideshow": {
     "slide_type": "-"
    }
   },
   "source": [
    "The size/length/dimension of a vector is computed with `len` or `np.size`, (for lists, tuples, and np.arrays)"
   ]
  },
  {
   "cell_type": "code",
   "execution_count": 89,
   "metadata": {
    "scrolled": true
   },
   "outputs": [
    {
     "name": "stdout",
     "output_type": "stream",
     "text": [
      "3\n",
      "3\n"
     ]
    }
   ],
   "source": [
    "c = np.array([1, 2, 3])\n",
    "\n",
    "print(len(a))\n",
    "print(np.size(c))"
   ]
  },
  {
   "cell_type": "markdown",
   "metadata": {
    "slideshow": {
     "slide_type": "slide"
    }
   },
   "source": [
    "## Special Vectors"
   ]
  },
  {
   "cell_type": "markdown",
   "metadata": {
    "slideshow": {
     "slide_type": "fragment"
    }
   },
   "source": [
    "### Zero Vector\n",
    "\n",
    "$\\color{#EF5645}{\\text{Definition}}$: The n-vector with all entries 0 is denoted $0_n$ or $\\vec{0}$ or just $0$ and is called a _zero vector_. "
   ]
  },
  {
   "cell_type": "markdown",
   "metadata": {
    "slideshow": {
     "slide_type": "fragment"
    }
   },
   "source": [
    "### Ones Vector\n",
    "\n",
    "$\\color{#EF5645}{\\text{Definition}}$: The n-vector with all entries 1 is denoted $1_n$ or $\\vec{1}$ or just 1 and is called a _ones-vector_."
   ]
  },
  {
   "cell_type": "markdown",
   "metadata": {
    "slideshow": {
     "slide_type": "fragment"
    }
   },
   "source": [
    "### One-Hot Vectors\n",
    "\n",
    "$\\color{#EF5645}{\\text{Definition}}$: A _one-hot vector_ or _standard unit vector_ is a vector which has one entry 1 and all others 0. If $i$ is the index of the non-zero entry, we denote it $e_i$."
   ]
  },
  {
   "cell_type": "markdown",
   "metadata": {
    "slideshow": {
     "slide_type": "slide"
    }
   },
   "source": [
    "$\\color{#003660}{\\text{In Python}}$, we use `zeros` and `ones` (from `numpy`) to build these vectors."
   ]
  },
  {
   "cell_type": "code",
   "execution_count": 91,
   "metadata": {
    "scrolled": false
   },
   "outputs": [
    {
     "name": "stdout",
     "output_type": "stream",
     "text": [
      "[0. 0. 0. 0. 0. 0. 0. 0. 0. 0. 0. 0. 0. 0. 0. 0. 0. 0. 0. 0. 0. 0. 0. 0.\n",
      " 0. 0. 0. 0. 0. 0. 0. 0. 0. 0. 0. 0. 0. 0. 0. 0. 0. 0. 0. 0. 0. 0. 0. 0.\n",
      " 0. 0. 0. 0. 0. 0. 0. 0. 0. 0. 0. 0. 0. 0. 0. 0. 0. 0. 0. 0. 0. 0. 0. 0.\n",
      " 0. 0. 0. 0. 0. 0. 0. 0. 0. 0. 0. 0. 0. 0. 0. 0. 0. 0. 0. 0. 0. 0. 0. 0.\n",
      " 0. 0. 0. 0.]\n",
      "[1. 1. 1. 1. 1. 1. 1. 1. 1. 1. 1. 1. 1. 1. 1. 1. 1. 1. 1. 1.]\n",
      "[1. 0. 0.]\n"
     ]
    }
   ],
   "source": [
    "zero2 = np.zeros(100)\n",
    "print(zero2)\n",
    "\n",
    "ones4 = np.ones(20)\n",
    "print(ones4)\n",
    "\n",
    "e1 = np.zeros(3)\n",
    "e1[0] = 1\n",
    "print(e1)"
   ]
  },
  {
   "cell_type": "markdown",
   "metadata": {
    "slideshow": {
     "slide_type": "slide"
    }
   },
   "source": [
    "$\\color{#047C91}{\\text{Exercise}}$: What are all the one-hot vectors of length 3?"
   ]
  },
  {
   "cell_type": "code",
   "execution_count": 80,
   "metadata": {
    "slideshow": {
     "slide_type": "-"
    }
   },
   "outputs": [],
   "source": [
    "\"\"\"Create all one-hot vector of len 3.\"\"\"\n",
    "\n",
    "e = np.zeros(3)\n",
    "\n"
   ]
  },
  {
   "cell_type": "markdown",
   "metadata": {
    "slideshow": {
     "slide_type": "slide"
    }
   },
   "source": [
    "## Visualization of vectors"
   ]
  },
  {
   "cell_type": "markdown",
   "metadata": {},
   "source": [
    "The `matplotlib.pyplot` package contains tools to visualize vectors."
   ]
  },
  {
   "cell_type": "code",
   "execution_count": 3,
   "metadata": {},
   "outputs": [],
   "source": [
    "import matplotlib.pyplot as plt"
   ]
  },
  {
   "cell_type": "markdown",
   "metadata": {
    "slideshow": {
     "slide_type": "slide"
    }
   },
   "source": [
    "### Visualization: A vector as a point\n",
    "\n",
    "- A 2-vector $(a_1, a_2)$ can represent:\n",
    "  - a point on the 2D plane, coordinates: $(a_1, a_2)$. \n",
    " \n",
    "- An n-vector $(a_1, ..., a_n)$ can represent:\n",
    "  - a point in the n-D space."
   ]
  },
  {
   "cell_type": "markdown",
   "metadata": {
    "slideshow": {
     "slide_type": "slide"
    }
   },
   "source": [
    "$\\color{#003660}{\\text{In Python}}$, we use `scatter` to plot points in 2D, thanks to `matplotlib.pyplot`."
   ]
  },
  {
   "cell_type": "code",
   "execution_count": 92,
   "metadata": {},
   "outputs": [
    {
     "data": {
      "image/png": "[encoded data removed]",
      "text/plain": [
       "<Figure size 432x288 with 1 Axes>"
      ]
     },
     "metadata": {
      "needs_background": "light"
     },
     "output_type": "display_data"
    }
   ],
   "source": [
    "origin = np.zeros(2)\n",
    "vector = np.array([1, 2])\n",
    "plt.scatter(origin[0], origin[1], s=200, color=\"black\");\n",
    "plt.scatter(vector[0], vector[1], s=200, color=\"blue\");"
   ]
  },
  {
   "cell_type": "markdown",
   "metadata": {
    "slideshow": {
     "slide_type": "slide"
    }
   },
   "source": [
    "$\\color{#003660}{\\text{In Python}}$, we use `scatter3D` to plot points in 3D, from `matplotlib.pyplot`.\n",
    "\n",
    "We also need to tell python that we are going to 3D."
   ]
  },
  {
   "cell_type": "code",
   "execution_count": 82,
   "metadata": {
    "scrolled": true
   },
   "outputs": [
    {
     "data": {
      "image/png": "[encoded data removed]",
      "text/plain": [
       "<Figure size 432x288 with 1 Axes>"
      ]
     },
     "metadata": {
      "needs_background": "light"
     },
     "output_type": "display_data"
    }
   ],
   "source": [
    "vector = np.array([1, 2, 3])\n",
    "fig = plt.figure()\n",
    "ax = plt.axes(projection =\"3d\")\n",
    "ax.scatter(vector[0], vector[1], vector[2], s=200, color=\"red\");"
   ]
  },
  {
   "cell_type": "markdown",
   "metadata": {
    "slideshow": {
     "slide_type": "slide"
    }
   },
   "source": [
    "# 2. Operations on Vectors"
   ]
  },
  {
   "cell_type": "markdown",
   "metadata": {
    "slideshow": {
     "slide_type": "slide"
    }
   },
   "source": [
    "## Vector Addition and Subtraction\n",
    "\n",
    "$\\color{#EF5645}{\\text{Definition}}$: Two vectors a and b can be added/subtracted:\n",
    "- Addition is denoted a + b; subtraction is denoted a - b.\n",
    "- Addition/subtraction is computed by adding/subtracting vector elements."
   ]
  },
  {
   "cell_type": "markdown",
   "metadata": {
    "slideshow": {
     "slide_type": "slide"
    }
   },
   "source": [
    "$\\color{#047C91}{\\text{Exercise}}$: Compute:\n",
    "<center><img src=\"figs/01_add.png\" alt=\"default\" width=160px/></center>"
   ]
  },
  {
   "cell_type": "code",
   "execution_count": 117,
   "metadata": {},
   "outputs": [
    {
     "name": "stdout",
     "output_type": "stream",
     "text": [
      "[-1  5  3]\n"
     ]
    }
   ],
   "source": [
    "a = np.array([0, 7, 3])\n",
    "b = np.array([1, 2, 0])\n",
    "c = a + b\n",
    "print(c)\n",
    "\n",
    "# # If we use lists, it does not give the expected result\n",
    "# a = [0, 7, 3]\n",
    "# b = [1, 2, 0]\n",
    "# c = a + b\n",
    "# print(c)"
   ]
  },
  {
   "cell_type": "markdown",
   "metadata": {
    "slideshow": {
     "slide_type": "slide"
    }
   },
   "source": [
    "$\\color{#047C91}{\\text{Exercise}}$: Given a vector $a = [1,4,9,20]$ compute $a + 0$"
   ]
  },
  {
   "cell_type": "code",
   "execution_count": 86,
   "metadata": {},
   "outputs": [
    {
     "name": "stdout",
     "output_type": "stream",
     "text": [
      "[ 1.  4.  9. 20.]\n"
     ]
    }
   ],
   "source": [
    "a = np.array([1, 4, 9, 20])\n",
    "b = np.zeros(np.size(a))\n",
    "c = a + b\n",
    "print(c)"
   ]
  },
  {
   "cell_type": "markdown",
   "metadata": {
    "slideshow": {
     "slide_type": "slide"
    }
   },
   "source": [
    "### Properties of Vector Addition\n",
    "\n",
    "$\\color{#6D7D33}{\\text{Properties}}$: For any two vectors $a, b$:\n",
    "- commutativity: a + b = b + a\n",
    "- associativity: (a + b) + c = a + (b + c) = a + b + c\n",
    "- additive identity: $a + 0 = a$\n",
    "- additive inverse: $a - a = 0$"
   ]
  },
  {
   "cell_type": "markdown",
   "metadata": {
    "slideshow": {
     "slide_type": "slide"
    }
   },
   "source": [
    "### Interpretation: Adding displacement vectors\n",
    "\n",
    "If vectors a and b are displacements: \n",
    "- a + b is the sum displacement\n",
    "\n",
    "<center><img src=\"figs/01_sumvectors.jpg\" alt=\"Drawing\" width=450px /></center>"
   ]
  },
  {
   "cell_type": "markdown",
   "metadata": {
    "slideshow": {
     "slide_type": "slide"
    }
   },
   "source": [
    "### Interpretation: Displacement from a point to another\n",
    "\n",
    "If vectors p and q are points:\n",
    "- p − q is the displacement from q to p\n",
    "\n",
    "\n",
    "<center><img src=\"figs/01_subpoints.jpg\" width=450px alt=\"default\"/></center>"
   ]
  },
  {
   "cell_type": "markdown",
   "metadata": {
    "slideshow": {
     "slide_type": "slide"
    }
   },
   "source": [
    "## Scalar-vector multiplication\n",
    "\n",
    "$\\color{#EF5645}{\\text{Definition}}$: A scalar β and an $n$-vector a can be multiplied to give a new vector: \n",
    "$$βa = ( βa_1, . . . , β a_n).$$"
   ]
  },
  {
   "cell_type": "markdown",
   "metadata": {
    "slideshow": {
     "slide_type": "slide"
    }
   },
   "source": [
    "$\\color{#047C91}{\\text{Exercise}}$: Compute:\n",
    "\n",
    "<center><img src=\"figs/01_scalar.png\" alt=\"default\" width=160px/></center>\n",
    "\n",
    "\n"
   ]
  },
  {
   "cell_type": "code",
   "execution_count": 96,
   "metadata": {},
   "outputs": [
    {
     "name": "stdout",
     "output_type": "stream",
     "text": [
      "[1, 9, 6, 1, 9, 6]\n"
     ]
    }
   ],
   "source": [
    "a = np.array([1, 9, 6])\n",
    "beta = -2\n",
    "print(beta * a)\n",
    "\n",
    "# # Using lists does not give the expected result\n",
    "# l = [1, 9, 6]\n",
    "# print(2 * l)"
   ]
  },
  {
   "cell_type": "markdown",
   "metadata": {
    "slideshow": {
     "slide_type": "slide"
    }
   },
   "source": [
    "### Properties of scalar-vector multiplication\n",
    "\n",
    "$\\color{#6D7D33}{\\text{Properties}}$: For scalars  $\\beta, \\gamma$ and $n$-vectors $a, b$: \n",
    "- associativity: $( βγ)a = β(γa)$\n",
    "- multiplicative identity: $1(a) = a$\n",
    "- left distributivity: $( \\beta + \\gamma)a = \\beta a + \\gamma a$\n",
    "- right distributivity: $β(a + b) = βa + βb$"
   ]
  },
  {
   "cell_type": "markdown",
   "metadata": {
    "slideshow": {
     "slide_type": "slide"
    }
   },
   "source": [
    "$\\color{#047C91}{\\text{Exercise}}$: Compute the _average_ of two vectors $a$ and $b$?"
   ]
  },
  {
   "cell_type": "code",
   "execution_count": 97,
   "metadata": {
    "scrolled": true
   },
   "outputs": [
    {
     "name": "stdout",
     "output_type": "stream",
     "text": [
      "[ 1.   2.  -0.5]\n"
     ]
    }
   ],
   "source": [
    "\"\"\"Compute the inner product between a vector and ones vector.\"\"\"\n",
    "a = np.array([1,0,2])\n",
    "b = np.array([1,4,-3])\n",
    "average = (a + b) / 2\n",
    "print(average)"
   ]
  },
  {
   "cell_type": "markdown",
   "metadata": {
    "slideshow": {
     "slide_type": "slide"
    }
   },
   "source": [
    "## Elementwise-multiplication (Hadamard Product)\n",
    "\n",
    "$\\color{#EF5645}{\\text{Definition}}$: Two $n$-vectors $a$ amd $b$ can be multiplied to give a new vector: \n",
    "$$a \\odot b = ( a_1b_1, . . . , a_nb_n).$$\n",
    "\n",
    "$\\color{#047C91}{\\text{Exercise}}$: Compute the hadamard product of $a = (1, 0, 2)$ and $b = (-1, 1, 2)$."
   ]
  },
  {
   "cell_type": "code",
   "execution_count": 98,
   "metadata": {},
   "outputs": [
    {
     "name": "stdout",
     "output_type": "stream",
     "text": [
      "[-1  0  4]\n",
      "[-1  0  4]\n"
     ]
    }
   ],
   "source": [
    "\"\"\"Compute the hadamard product of two vectors.\"\"\"\n",
    "a = np.array([1,0,2])\n",
    "b = np.array([-1,1,2])\n",
    "\n",
    "print(a * b)\n",
    "print(np.multiply(a, b))"
   ]
  },
  {
   "cell_type": "markdown",
   "metadata": {
    "slideshow": {
     "slide_type": "slide"
    }
   },
   "source": [
    "## Inner Product\n",
    "\n",
    "$\\color{#EF5645}{\\text{Definition}}$: The inner product (or dot product) of n-vectors a and b is the scalar:\n",
    "$$a^T b = a_1b_1 + a_2b_2 + · · · + a_nb_n.$$\n",
    "- Other notations: $〈a, b〉, 〈a|b〉, (a, b), a · b.$\n",
    "- $\\color{#003660}{\\text{In Python}}$, we use `inner` or `dot` (from `numpy`)."
   ]
  },
  {
   "cell_type": "markdown",
   "metadata": {
    "slideshow": {
     "slide_type": "slide"
    }
   },
   "source": [
    "$\\color{#047C91}{\\text{Exercise}}$: Compute the inner product of $a = (1, 0, 2)$ and $b = (-1, 1, 2)$."
   ]
  },
  {
   "cell_type": "code",
   "execution_count": 100,
   "metadata": {},
   "outputs": [
    {
     "name": "stdout",
     "output_type": "stream",
     "text": [
      "3\n",
      "3\n",
      "3\n"
     ]
    }
   ],
   "source": [
    "\"\"\"Compute the inner product of two vectors.\"\"\"\n",
    "a = np.array([1,0,2])\n",
    "b = np.array([-1,1,2])\n",
    "\n",
    "print(np.sum(a * b))\n",
    "print(np.inner(a, b))\n",
    "print(np.dot(a,b))"
   ]
  },
  {
   "cell_type": "markdown",
   "metadata": {
    "slideshow": {
     "slide_type": "slide"
    }
   },
   "source": [
    "$\\color{#047C91}{\\text{Exercise}}$: What is the inner product between a vector $a$ and the zero vector?\n",
    "\n",
    "$$a^T \\vec{0} = $$"
   ]
  },
  {
   "cell_type": "code",
   "execution_count": 28,
   "metadata": {},
   "outputs": [
    {
     "data": {
      "text/plain": [
       "0.0"
      ]
     },
     "execution_count": 28,
     "metadata": {},
     "output_type": "execute_result"
    }
   ],
   "source": [
    "\"\"\"Compute the inner product between a vector and zero vector.\"\"\"\n",
    "a = np.array([1,0,2])\n",
    "b = np.zeros(3)\n",
    "np.inner(a, b)"
   ]
  },
  {
   "cell_type": "markdown",
   "metadata": {
    "slideshow": {
     "slide_type": "slide"
    }
   },
   "source": [
    "$\\color{#047C91}{\\text{Exercise}}$: What is the inner product between a vector $a$ and the ones vector?\n",
    "\n",
    "$$a^T \\vec{1} = $$"
   ]
  },
  {
   "cell_type": "code",
   "execution_count": 101,
   "metadata": {
    "scrolled": true
   },
   "outputs": [
    {
     "name": "stdout",
     "output_type": "stream",
     "text": [
      "15.0\n",
      "15\n"
     ]
    }
   ],
   "source": [
    "\"\"\"Compute the inner product between a vector and ones vector.\"\"\"\n",
    "a = np.array([1,0,2, 4, 2, 4, 2])\n",
    "b = np.ones(len(a))\n",
    "print(np.inner(a, b))\n",
    "print(np.sum(a))"
   ]
  },
  {
   "cell_type": "markdown",
   "metadata": {
    "slideshow": {
     "slide_type": "slide"
    }
   },
   "source": [
    "$\\color{#047C91}{\\text{Exercise}}$: What is the inner product between a vector $a$ and a one-hot vector?\n",
    "\n",
    "$$a^T \\vec{e_i} = $$"
   ]
  },
  {
   "cell_type": "code",
   "execution_count": 99,
   "metadata": {
    "scrolled": true
   },
   "outputs": [
    {
     "data": {
      "text/plain": [
       "1.0"
      ]
     },
     "execution_count": 99,
     "metadata": {},
     "output_type": "execute_result"
    }
   ],
   "source": [
    "\"\"\"Compute the inner product between a vector and ones vector.\"\"\"\n",
    "a = np.array([1,0,2])\n",
    "e1 = np.zeros(3)\n",
    "e1[0] = 1\n",
    "np.inner(a, e1)"
   ]
  },
  {
   "cell_type": "markdown",
   "metadata": {
    "slideshow": {
     "slide_type": "slide"
    }
   },
   "source": [
    "### Properties of inner product\n",
    "\n",
    "$\\color{#6D7D33}{\\text{Properties}}$: For $n$-vectors $a, b, c$ and scalars $\\gamma$:\n",
    "- $a^T b = b^T a$\n",
    "- $(γa)^T b = γ(a^T b)$\n",
    "- $(a + b)^T c = a^T c + b^T c$"
   ]
  },
  {
   "cell_type": "markdown",
   "metadata": {
    "slideshow": {
     "slide_type": "slide"
    }
   },
   "source": [
    "$\\color{#047C91}{\\text{Exercise}}$: Write a function that computes the output of the following polynomial using the inner product function:\n",
    "\n",
    "$$f(x) = 0.1x^5 + 0.8 x^4 - 1.3 x^3 + 1.1 x^2 - 3 x + 5$$"
   ]
  },
  {
   "cell_type": "code",
   "execution_count": 103,
   "metadata": {},
   "outputs": [
    {
     "name": "stdout",
     "output_type": "stream",
     "text": [
      "15.0\n"
     ]
    }
   ],
   "source": [
    "def polynomial(x):\n",
    "    output = 0.1 * x**5 + 0.8 * x**4\n",
    "    \n",
    "    coef = np.array([0.1, 0.8])\n",
    "    X = np.array([x**5, x**4])\n",
    "    output = np.dot(a,b)\n",
    "    return output\n",
    "\n",
    "print(polynomial(1))"
   ]
  },
  {
   "cell_type": "code",
   "execution_count": 106,
   "metadata": {
    "scrolled": true,
    "slideshow": {
     "slide_type": "slide"
    }
   },
   "outputs": [
    {
     "data": {
      "image/png": "[encoded data removed]",
      "text/plain": [
       "<Figure size 432x288 with 1 Axes>"
      ]
     },
     "metadata": {
      "needs_background": "light"
     },
     "output_type": "display_data"
    }
   ],
   "source": [
    "beta = np.array([3,0,4,0.1,-3])\n",
    "degree = np.size(beta)\n",
    "\n",
    "def vander(x, degree):\n",
    "    return np.array([x**p for p in range(degree)])\n",
    "\n",
    "plt.figure()\n",
    "xrange = np.linspace(-1,1,100)\n",
    "for xi in xrange:\n",
    "    X = vander(xi, 5)\n",
    "    plt.scatter(xi, np.dot(beta, X), c='k')\n",
    "plt.grid()\n",
    "plt.show()"
   ]
  },
  {
   "cell_type": "markdown",
   "metadata": {
    "slideshow": {
     "slide_type": "slide"
    }
   },
   "source": [
    "## Norm\n",
    "\n",
    "$\\color{#EF5645}{\\text{Definition}}$: The *Euclidean norm*, or just *norm*, of an $n$-vector $x$ is:\n",
    "$$||x|| = \\sqrt{x_1^2 + ... + x_n^2}.$$ \n",
    "\n",
    "<!-- = \\sqrt{x^Tx} -->\n",
    "\n",
    "$\\color{#EF5645}{\\text{Remark}}$: The norm is equal to the absolute value for $n=1$."
   ]
  },
  {
   "cell_type": "markdown",
   "metadata": {
    "slideshow": {
     "slide_type": "slide"
    }
   },
   "source": [
    "$\\color{#003660}{\\text{In Python}}$, the module `linalg` from the package `numpy` has a function called `norm`."
   ]
  },
  {
   "cell_type": "code",
   "execution_count": 2,
   "metadata": {
    "scrolled": true
   },
   "outputs": [
    {
     "name": "stdout",
     "output_type": "stream",
     "text": [
      "3.0\n"
     ]
    }
   ],
   "source": [
    "x = np.array([2, -1, 2])\n",
    "\n",
    "print(np.linalg.norm(x))"
   ]
  },
  {
   "cell_type": "markdown",
   "metadata": {
    "slideshow": {
     "slide_type": "slide"
    }
   },
   "source": [
    "$\\color{#047C91}{\\text{Exercise}}$: Can you write a function that computes the norm using the vector operators we have already seen?."
   ]
  },
  {
   "cell_type": "code",
   "execution_count": 107,
   "metadata": {
    "scrolled": true
   },
   "outputs": [
    {
     "name": "stdout",
     "output_type": "stream",
     "text": [
      "3.0\n",
      "3.0\n"
     ]
    }
   ],
   "source": [
    "def norm(a):\n",
    "    return np.sqrt(np.dot(a,a))\n",
    "\n",
    "x = np.array([2, -1, 2])\n",
    "print(norm(x))\n",
    "print(np.linalg.norm(x))"
   ]
  },
  {
   "cell_type": "markdown",
   "metadata": {
    "slideshow": {
     "slide_type": "slide"
    }
   },
   "source": [
    "### Properties of the Norm\n",
    "\n",
    "$\\color{#6D7D33}{\\text{Properties}}$: For any scalar $\\beta$ and any $n$-vectors $x, y$:\n",
    "1. Homogeneity: $||\\beta x|| = |\\beta|||x||$\n",
    "2. Triangle inequality: $||x+y|| \\leq ||x|| + ||y||$\n",
    "3. Nonnegative: $||x|| \\geq 0$\n",
    "4. Definite: $||x|| = 0$ if and only if $x = 0$"
   ]
  },
  {
   "cell_type": "markdown",
   "metadata": {
    "slideshow": {
     "slide_type": "slide"
    }
   },
   "source": [
    "### Triangle Inequality\n",
    "\n",
    "$\\color{#6D7D33}{\\text{Theorem}}$: For any two $n$-vectors $x$ and $y$, we have the triangle inequality:\n",
    "$$\\|x + y\\| \\leq \\|x\\| + \\|y\\|.$$\n",
    "\n",
    "$\\color{#047C91}{\\text{Exercise}}$: Can you prove this inequality using geometrically? \n",
    "\n",
    "*hint:* Think about this in 2D."
   ]
  },
  {
   "cell_type": "markdown",
   "metadata": {
    "slideshow": {
     "slide_type": "slide"
    }
   },
   "source": [
    "Notice that given two n-vectors $x$ and $y$ we can make a 2D triangle by connecting these points with the origin and themselves.\n",
    "\n",
    "<center><img src=\"figs/01_triangle_inequality.png\" alt=\"Drawing\" width=350px/></center>"
   ]
  },
  {
   "cell_type": "markdown",
   "metadata": {
    "slideshow": {
     "slide_type": "slide"
    }
   },
   "source": [
    "## Distance\n",
    "\n",
    "$\\color{#EF5645}{\\text{Definition}}$: The *Euclidean distance*, or just *distance*, between $n$-vectors $a$ and $b$ is:\n",
    "$$dist(a, b) = ||a - b||.$$\n",
    "\n",
    "$\\color{#EF5645}{\\text{Remark}}$: This definition agrees with ordinary distance for $n = 1, 2, 3.$"
   ]
  },
  {
   "cell_type": "markdown",
   "metadata": {
    "slideshow": {
     "slide_type": "slide"
    }
   },
   "source": [
    "## Angle\n",
    "\n",
    "$\\color{#EF5645}{\\text{Definition}}$: The _angle_ between two non-zeros $n$-vectors $a$ and $b$ is:\n",
    "$$\\angle(a, b) = arccos\\left( \\frac{a^Tb}{||a||||b||} \\right).$$\n",
    "\n",
    "$\\color{#EF5645}{\\text{Remark}}$: It coincides with the ordinary angle in 2D and 3D."
   ]
  },
  {
   "cell_type": "code",
   "execution_count": 115,
   "metadata": {
    "slideshow": {
     "slide_type": "slide"
    }
   },
   "outputs": [
    {
     "name": "stdout",
     "output_type": "stream",
     "text": [
      "2.256525837701183\n",
      "1.5707963267948966\n"
     ]
    }
   ],
   "source": [
    "import numpy as np\n",
    "def angle(a, b):\n",
    "    product = np.linalg.norm(a)* np.linalg.norm(b)\n",
    "    fraction = np.inner(a, b) / (product)\n",
    "    return np.arccos(fraction)\n",
    "\n",
    "a = [1, -1]\n",
    "b = [0.1, 1]\n",
    "\n",
    "print(angle(a, b))\n",
    "print(np.pi / 2)"
   ]
  },
  {
   "cell_type": "markdown",
   "metadata": {
    "slideshow": {
     "slide_type": "slide"
    }
   },
   "source": [
    "Write: $\\theta = \\angle(a, b)$ \n",
    "- $θ = π/2 = 90^\\circ$: a, b are *orthogonal*: $a ⊥ b$ ($a^T b = 0$) \n",
    "- $θ = 0$: a, b are _aligned_ ($a^T b = ‖a‖ ‖b‖$) \n",
    "- $θ = π = 180^\\circ$: a, b are _anti-aligned_ ($a^T b = −‖a‖ ‖b‖$)\n",
    "- $θ ≤ π/2 = 90^\\circ$: a, b make an _acute angle_ ($a^T b ≥ 0$)\n",
    "- $θ ≥ π/2 = 90^\\circ$: a, b make an _obtuse angle_ ($a^T b ≤ 0$)\n",
    "\n",
    "<center><img src=\"figs/03_angles.jpg\" alt=\"default\"/></center>"
   ]
  },
  {
   "cell_type": "markdown",
   "metadata": {
    "slideshow": {
     "slide_type": "slide"
    }
   },
   "source": [
    "$\\color{#047C91}{\\text{Exercise}}$: Can you prove why the angle between two vectors takes the form above?\n",
    "\n",
    "*hint:* remeber the *law of cosines* $c = \\sqrt{a^2 + b^2 - 2ab\\cos(\\gamma)}$\n",
    "\n",
    "<center><img src=\"figs/01_law_of_cosines.png\" alt=\"default\"/></center>"
   ]
  },
  {
   "cell_type": "markdown",
   "metadata": {
    "slideshow": {
     "slide_type": "slide"
    }
   },
   "source": [
    "Again, notice that given two n-vectors $\\vec{a}$ and $\\vec{b}$ we can make a 2D triangle by connecting these points with the origin and themselves.  Let $A = \\vec{a}$, $B = \\vec{b}$, and $C = 0$. Now we can apply the law of cosines.  \n",
    "\n",
    "- $a = \\|\\vec{b}\\|$\n",
    "- $b = \\|\\vec{a}\\|$\n",
    "- $c = \\|\\vec{b} - \\vec{a}\\| = \\sqrt{\\|a\\|^2 + \\|b\\|^2 + 2 a^\\intercal b}$\n",
    "\n",
    "Plugging into the expression for the law of cosines and rearannging we get\n",
    "$$\\cos(\\gamma) = \\frac{a^\\intercal b}{\\|a\\|\\|b\\|}$$"
   ]
  },
  {
   "cell_type": "markdown",
   "metadata": {
    "slideshow": {
     "slide_type": "slide"
    }
   },
   "source": [
    "### Cauchy-Schwarz Inequality\n",
    "\n",
    "$\\color{#6D7D33}{\\text{Theorem}}$: For any two $n$-vectors $a$ and $b$, we have the Cauchy-Schwarz inequality:\n",
    "$$|a^Tb| \\leq ||a||||b||.$$\n",
    "\n",
    "$\\color{#047C91}{\\text{Exercise}}$: Can you prove this inequality using our definiton of the angle between two vectors? "
   ]
  },
  {
   "cell_type": "markdown",
   "metadata": {
    "slideshow": {
     "slide_type": "slide"
    }
   },
   "source": [
    "## Some Terminology of Vectors\n",
    "\n",
    "\n",
    "### Unit Vector or Normalized Vector\n",
    "\n",
    "$\\color{#EF5645}{\\text{Definition}}$: An $n$-vector $a$ is a *unit vector* or *normalized* if and only if,\n",
    "$$\\|a\\| = 1$$"
   ]
  },
  {
   "cell_type": "markdown",
   "metadata": {
    "slideshow": {
     "slide_type": "fragment"
    }
   },
   "source": [
    "### Orthogonal\n",
    "\n",
    "$\\color{#EF5645}{\\text{Definition}}$: If the _angle_ between two non-zeros $n$-vectors $a$ and $b$ is $\\frac{\\pi}{2}$, then we call these vectors *orthogonal*.  This is true if and only if,\n",
    "$$a^\\intercal b = a \\centerdot b = 0.$$"
   ]
  },
  {
   "cell_type": "markdown",
   "metadata": {
    "slideshow": {
     "slide_type": "fragment"
    }
   },
   "source": [
    "### Orthonormal\n",
    "\n",
    "$\\color{#EF5645}{\\text{Definition}}$: Two $n$-vectors $a$ and $b$ are *orthonormal* if and only if they are orthogonal unit vectors,\n",
    "$$\\|a\\| = \\|b\\| = 1 \\qquad\\text{and}\\qquad a \\centerdot b = 0.$$"
   ]
  },
  {
   "cell_type": "markdown",
   "metadata": {
    "slideshow": {
     "slide_type": "slide"
    }
   },
   "source": [
    "$\\color{#047C91}{\\text{Exercise}}$: Which of the following pairs of vectors are orthonormal?\n",
    "\n",
    "- $a = [1,1,1,0]$ and $b = [0,1,1,1]$\n",
    "- $a = [1,1,0,0]$ and $b = [0,0,1,1]$\n",
    "- $a = [1,0,0,0]$ and $b = [0,0,0,1]$"
   ]
  },
  {
   "cell_type": "code",
   "execution_count": 41,
   "metadata": {
    "slideshow": {
     "slide_type": "-"
    }
   },
   "outputs": [
    {
     "name": "stdout",
     "output_type": "stream",
     "text": [
      "True\n",
      "True\n",
      "True\n"
     ]
    }
   ],
   "source": [
    "a = np.array([1,0,0,0])\n",
    "b = np.array([0,0,0,1])\n",
    "\n",
    "# Check that a and b are unit vectors\n",
    "print(np.linalg.norm(a) == 1)\n",
    "print(np.linalg.norm(b) == 1)\n",
    "\n",
    "# Check that a and b are orthgonal\n",
    "print(np.dot(a,b) == 0)"
   ]
  }
 ],
 "metadata": {
  "celltoolbar": "Slideshow",
  "kernelspec": {
   "display_name": "Python 3 (ipykernel)",
   "language": "python",
   "name": "python3"
  },
  "language_info": {
   "codemirror_mode": {
    "name": "ipython",
    "version": 3
   },
   "file_extension": ".py",
   "mimetype": "text/x-python",
   "name": "python",
   "nbconvert_exporter": "python",
   "pygments_lexer": "ipython3",
   "version": "3.12.11"
  }
 },
 "nbformat": 4,
 "nbformat_minor": 2
}
