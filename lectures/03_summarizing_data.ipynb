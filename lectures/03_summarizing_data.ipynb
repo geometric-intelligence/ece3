{
 "cells": [
  {
   "cell_type": "markdown",
   "metadata": {
    "slideshow": {
     "slide_type": "slide"
    },
    "tags": []
   },
   "source": [
    "# 03 Summarizing Data"
   ]
  },
  {
   "cell_type": "markdown",
   "metadata": {
    "slideshow": {
     "slide_type": "slide"
    }
   },
   "source": [
    "# Outline of ECE 3\n",
    "\n",
    "- 01: Welcome to Python\n",
    "- 02: Computing with Data in Python\n",
    "- **03: Summarizing Data in Python**\n",
    "- 04: Predicting from Data with Machine Learning in Python\n",
    "  - A. Clustering\n",
    "  - B. Linear regression"
   ]
  },
  {
   "cell_type": "markdown",
   "metadata": {
    "slideshow": {
     "slide_type": "slide"
    }
   },
   "source": [
    "<h1>Learn Python Pandas, Packages, and Modules</h1>\n",
    "\n",
    "\n",
    "<b>Web Resources</b>\n",
    "<br> <a href='https://docs.python.org/3/tutorial/modules.html#packages'>Docs.python.org - Packages</a>\n",
    "\n",
    "\n",
    "#### <b>What are Python Modules?</b>\n",
    "\n",
    "Modules are simply python files (.py) which contain python code. This code can define functions, classes, variables etc.\n",
    "\n",
    "\n",
    "#### <b>Why do we use Modules?</b>\n",
    "\n",
    "Modules allow us to organize our code by grouping related functionalities, which makes it easier to use and understand. Writing code into smaller, more manageable pieces will help you 1) debug easier, 2) create reusable code and 3) make the code more understandable to the end user.\n"
   ]
  },
  {
   "cell_type": "markdown",
   "metadata": {
    "slideshow": {
     "slide_type": "slide"
    }
   },
   "source": [
    "#### <b>How do we use Modules?</b>\n",
    "\n",
    "We can use the code in a module by using the <b>import</b> function. For example, let's say we created a .py file called 'Square.py'. Inside this file we defined a function called <b>calculateSquare</b>. \n",
    "```python\n",
    "def calculateSquare(x):\n",
    "    return x**2\n",
    "```"
   ]
  },
  {
   "cell_type": "markdown",
   "metadata": {
    "slideshow": {
     "slide_type": "slide"
    }
   },
   "source": [
    "We can use the <b>calculateSquare</b> function by using either of the following commands:\n",
    "\n",
    "```python\n",
    "import Square \n",
    "x = 2\n",
    "print(Square.calculateSquare(x))\n",
    "\n",
    "#Output: 4\n",
    "\n",
    "from Square import calculateSquare\n",
    "x = 2\n",
    "print(calculateSquare(x))\n",
    "\n",
    "#Output: 4\n",
    "\n",
    "from Square import * #The asterisk imports all functions in the module [not always best practice]\n",
    "x = 2\n",
    "print(calculateSquare(x))\n",
    "\n",
    "#Output: 4\n",
    "```"
   ]
  },
  {
   "cell_type": "markdown",
   "metadata": {
    "slideshow": {
     "slide_type": "slide"
    }
   },
   "source": [
    "#### <b>Where can I find more information on Modules?</b>\n",
    "\n",
    "[Official python documentation on modules](https://docs.python.org/3.7/tutorial/modules.html)\n",
    "\n",
    "<h1>Packages</h1>\n",
    "\n",
    "#### <b>What are Python Packages?</b>\n",
    "\n",
    "Python packages are an organized collection of related python modules in a single directory. \n",
    "\n",
    "#### <b>How do we use Packages?</b>\n",
    "\n",
    "Packages are used exactly like modules (see the Modules section above)."
   ]
  },
  {
   "cell_type": "markdown",
   "metadata": {
    "slideshow": {
     "slide_type": "slide"
    }
   },
   "source": [
    "#### <b>What are some common Packages?</b>\n",
    "\n",
    "Below are some of the most widely used modules in finance and data science for data analysis:\n",
    "- Pandas\n",
    "- Numpy\n",
    "- Scipy\n",
    "- Scikit-Learn\n",
    "\n",
    "Visualizations and dashboard creation:\n",
    "- Matplotlib\n",
    "- ipywidgets"
   ]
  },
  {
   "cell_type": "code",
   "execution_count": 1,
   "metadata": {
    "slideshow": {
     "slide_type": "slide"
    }
   },
   "outputs": [
    {
     "name": "stdout",
     "output_type": "stream",
     "text": [
      "[1, 2, 3, 1, 2, 3]\n"
     ]
    }
   ],
   "source": [
    "###IMPORT PANDAS AND NUMPY PACKAGES###\n",
    "import numpy as np\n",
    "import pandas as pd\n",
    "\n",
    "###CREATING A SERIES###\n",
    "a = [1,2,3]\n",
    "b = [1,2,3]\n",
    "print(a + b)"
   ]
  },
  {
   "cell_type": "code",
   "execution_count": 5,
   "metadata": {
    "slideshow": {
     "slide_type": "slide"
    }
   },
   "outputs": [
    {
     "data": {
      "text/html": [
       "<div>\n",
       "<style scoped>\n",
       "    .dataframe tbody tr th:only-of-type {\n",
       "        vertical-align: middle;\n",
       "    }\n",
       "\n",
       "    .dataframe tbody tr th {\n",
       "        vertical-align: top;\n",
       "    }\n",
       "\n",
       "    .dataframe thead th {\n",
       "        text-align: right;\n",
       "    }\n",
       "</style>\n",
       "<table border=\"1\" class=\"dataframe\">\n",
       "  <thead>\n",
       "    <tr style=\"text-align: right;\">\n",
       "      <th></th>\n",
       "      <th>A</th>\n",
       "      <th>B</th>\n",
       "      <th>C</th>\n",
       "    </tr>\n",
       "  </thead>\n",
       "  <tbody>\n",
       "    <tr>\n",
       "      <th>2013-01-01</th>\n",
       "      <td>-0.627123</td>\n",
       "      <td>-0.641234</td>\n",
       "      <td>-0.631471</td>\n",
       "    </tr>\n",
       "    <tr>\n",
       "      <th>2013-01-02</th>\n",
       "      <td>-1.280837</td>\n",
       "      <td>-0.800099</td>\n",
       "      <td>-0.553110</td>\n",
       "    </tr>\n",
       "    <tr>\n",
       "      <th>2013-01-03</th>\n",
       "      <td>0.507407</td>\n",
       "      <td>0.098189</td>\n",
       "      <td>-0.904850</td>\n",
       "    </tr>\n",
       "    <tr>\n",
       "      <th>2013-01-04</th>\n",
       "      <td>0.835642</td>\n",
       "      <td>-0.258219</td>\n",
       "      <td>0.071001</td>\n",
       "    </tr>\n",
       "    <tr>\n",
       "      <th>2013-01-05</th>\n",
       "      <td>-0.281536</td>\n",
       "      <td>-0.200655</td>\n",
       "      <td>-0.646016</td>\n",
       "    </tr>\n",
       "    <tr>\n",
       "      <th>2013-01-06</th>\n",
       "      <td>0.506187</td>\n",
       "      <td>0.112514</td>\n",
       "      <td>-0.256587</td>\n",
       "    </tr>\n",
       "  </tbody>\n",
       "</table>\n",
       "</div>"
      ],
      "text/plain": [
       "                   A         B         C\n",
       "2013-01-01 -0.627123 -0.641234 -0.631471\n",
       "2013-01-02 -1.280837 -0.800099 -0.553110\n",
       "2013-01-03  0.507407  0.098189 -0.904850\n",
       "2013-01-04  0.835642 -0.258219  0.071001\n",
       "2013-01-05 -0.281536 -0.200655 -0.646016\n",
       "2013-01-06  0.506187  0.112514 -0.256587"
      ]
     },
     "execution_count": 5,
     "metadata": {},
     "output_type": "execute_result"
    }
   ],
   "source": [
    "###CREATING A TIMESERIES BASED DATAFRAME###\n",
    "dates = pd.date_range('20130101', periods=6)\n",
    "df = pd.DataFrame(np.random.randn(6, 3), index=dates, columns=list('ABC'))\n",
    "df"
   ]
  },
  {
   "cell_type": "code",
   "execution_count": 6,
   "metadata": {
    "slideshow": {
     "slide_type": "slide"
    }
   },
   "outputs": [
    {
     "data": {
      "text/plain": [
       "2013-01-01   -0.627123\n",
       "2013-01-02   -1.280837\n",
       "2013-01-03    0.507407\n",
       "2013-01-04    0.835642\n",
       "2013-01-05   -0.281536\n",
       "2013-01-06    0.506187\n",
       "Freq: D, Name: A, dtype: float64"
      ]
     },
     "execution_count": 6,
     "metadata": {},
     "output_type": "execute_result"
    }
   ],
   "source": [
    "###GET DATA FOR A SINGLE COLUMN###\n",
    "df['A']"
   ]
  },
  {
   "cell_type": "code",
   "execution_count": 7,
   "metadata": {
    "slideshow": {
     "slide_type": "slide"
    }
   },
   "outputs": [
    {
     "data": {
      "text/html": [
       "<div>\n",
       "<style scoped>\n",
       "    .dataframe tbody tr th:only-of-type {\n",
       "        vertical-align: middle;\n",
       "    }\n",
       "\n",
       "    .dataframe tbody tr th {\n",
       "        vertical-align: top;\n",
       "    }\n",
       "\n",
       "    .dataframe thead th {\n",
       "        text-align: right;\n",
       "    }\n",
       "</style>\n",
       "<table border=\"1\" class=\"dataframe\">\n",
       "  <thead>\n",
       "    <tr style=\"text-align: right;\">\n",
       "      <th></th>\n",
       "      <th>A</th>\n",
       "      <th>B</th>\n",
       "      <th>C</th>\n",
       "    </tr>\n",
       "  </thead>\n",
       "  <tbody>\n",
       "    <tr>\n",
       "      <th>count</th>\n",
       "      <td>6.000000</td>\n",
       "      <td>6.000000</td>\n",
       "      <td>6.000000</td>\n",
       "    </tr>\n",
       "    <tr>\n",
       "      <th>mean</th>\n",
       "      <td>-0.056710</td>\n",
       "      <td>-0.281584</td>\n",
       "      <td>-0.486839</td>\n",
       "    </tr>\n",
       "    <tr>\n",
       "      <th>std</th>\n",
       "      <td>0.813115</td>\n",
       "      <td>0.375457</td>\n",
       "      <td>0.343390</td>\n",
       "    </tr>\n",
       "    <tr>\n",
       "      <th>min</th>\n",
       "      <td>-1.280837</td>\n",
       "      <td>-0.800099</td>\n",
       "      <td>-0.904850</td>\n",
       "    </tr>\n",
       "    <tr>\n",
       "      <th>25%</th>\n",
       "      <td>-0.540727</td>\n",
       "      <td>-0.545481</td>\n",
       "      <td>-0.642380</td>\n",
       "    </tr>\n",
       "    <tr>\n",
       "      <th>50%</th>\n",
       "      <td>0.112325</td>\n",
       "      <td>-0.229437</td>\n",
       "      <td>-0.592291</td>\n",
       "    </tr>\n",
       "    <tr>\n",
       "      <th>75%</th>\n",
       "      <td>0.507102</td>\n",
       "      <td>0.023478</td>\n",
       "      <td>-0.330718</td>\n",
       "    </tr>\n",
       "    <tr>\n",
       "      <th>max</th>\n",
       "      <td>0.835642</td>\n",
       "      <td>0.112514</td>\n",
       "      <td>0.071001</td>\n",
       "    </tr>\n",
       "  </tbody>\n",
       "</table>\n",
       "</div>"
      ],
      "text/plain": [
       "              A         B         C\n",
       "count  6.000000  6.000000  6.000000\n",
       "mean  -0.056710 -0.281584 -0.486839\n",
       "std    0.813115  0.375457  0.343390\n",
       "min   -1.280837 -0.800099 -0.904850\n",
       "25%   -0.540727 -0.545481 -0.642380\n",
       "50%    0.112325 -0.229437 -0.592291\n",
       "75%    0.507102  0.023478 -0.330718\n",
       "max    0.835642  0.112514  0.071001"
      ]
     },
     "execution_count": 7,
     "metadata": {},
     "output_type": "execute_result"
    }
   ],
   "source": [
    "###CALCULATE SUMMARY STATISTICS###\n",
    "df.describe()"
   ]
  },
  {
   "cell_type": "code",
   "execution_count": 8,
   "metadata": {
    "slideshow": {
     "slide_type": "slide"
    }
   },
   "outputs": [
    {
     "data": {
      "text/plain": [
       "(6, 3)"
      ]
     },
     "execution_count": 8,
     "metadata": {},
     "output_type": "execute_result"
    }
   ],
   "source": [
    "###GET THE NUMBER OF ROWS AND COLUMNS###\n",
    "df.shape"
   ]
  },
  {
   "cell_type": "code",
   "execution_count": 9,
   "metadata": {
    "slideshow": {
     "slide_type": "slide"
    }
   },
   "outputs": [
    {
     "data": {
      "text/plain": [
       "6"
      ]
     },
     "execution_count": 9,
     "metadata": {},
     "output_type": "execute_result"
    }
   ],
   "source": [
    "###GET THE NUMBER OF ROWS ONLY###\n",
    "len(df)"
   ]
  },
  {
   "cell_type": "code",
   "execution_count": 11,
   "metadata": {
    "slideshow": {
     "slide_type": "slide"
    }
   },
   "outputs": [
    {
     "data": {
      "text/plain": [
       "<AxesSubplot:>"
      ]
     },
     "execution_count": 11,
     "metadata": {},
     "output_type": "execute_result"
    },
    {
     "data": {
      "image/png": "[encoded data removed]",
      "text/plain": [
       "<Figure size 640x480 with 1 Axes>"
      ]
     },
     "metadata": {},
     "output_type": "display_data"
    }
   ],
   "source": [
    "###PLOT THE DATAFRAME###\n",
    "%matplotlib inline\n",
    "df.plot()"
   ]
  },
  {
   "cell_type": "markdown",
   "metadata": {
    "slideshow": {
     "slide_type": "slide"
    }
   },
   "source": [
    "# Learn Python File I/O\n",
    "\n",
    "\n",
    "<b>Web Resources</b>\n",
    "<br> <a href='https://docs.python.org/3/tutorial/inputoutput.html#reading-and-writing-files'>Docs.python.org - Reading and Writing Files</a>\n",
    "\n",
    "\n",
    "#### <b>What is I/O?</b>\n",
    "\n",
    "I/O, or input/output, is communication between a computer and the outside world.\n",
    "\n",
    "Inputs are signals received by the computer. The computer can get inputs from hardware like a keyboard and mouse or from other computers via the internet. Outputs are signals sent by the computer. Your monitor is probably the most obvious output device. An internet modem is an example of a device that both receives inputs (web-pages loading on your browser) and sends outputs (outbound emails)."
   ]
  },
  {
   "cell_type": "markdown",
   "metadata": {
    "slideshow": {
     "slide_type": "slide"
    }
   },
   "source": [
    "#### <b>Why do we use I/O?</b>\n",
    "\n",
    "You can always define data directly in your python code:\n",
    "\n",
    "```python\n",
    "example_data = [1, 2, 3, 4, 5]\n",
    "answer = function(example_data)\n",
    "```\n",
    "\n",
    "This is a great way to test functionality but isn't sustainable in the long term. It would be much easier if we could read in data from a file or API as well as write data down to files. This saves us having to manually define data and scales our solutions to handle arbitrary datasets."
   ]
  },
  {
   "cell_type": "markdown",
   "metadata": {
    "slideshow": {
     "slide_type": "slide"
    }
   },
   "source": [
    "\n",
    "\n",
    "## Files\n",
    "\n",
    "Common file types you likely interact with are CSV and Excel files. The pandas library has a number of convenience functions for reading data from these files and converting them directly into dataframes."
   ]
  },
  {
   "cell_type": "markdown",
   "metadata": {
    "slideshow": {
     "slide_type": "slide"
    }
   },
   "source": [
    "```python\n",
    "import pandas as pd\n",
    "\n",
    "csv_dataframe = pd.read_csv('csv_file.csv')\n",
    "excel_dataframe = pd.read_excel('excel_file.xlsx')\n",
    "```"
   ]
  },
  {
   "cell_type": "markdown",
   "metadata": {
    "slideshow": {
     "slide_type": "slide"
    }
   },
   "source": [
    "Each method accepts the path of the data file as an argument. File paths without a `/` indicate that the data file is in the same directory as the notebook we're writing our code in. If we want to read from a file inside a folder, then we'll need to update the file path, e.g. `folder/csv_file.csv`.\n",
    "\n",
    "Both methods accept a number of different optional parameters for defining more precisely how you want them to read the data. Visit the [I/O section](https://pandas.pydata.org/docs/reference/io.html) of the online pandas documentation to learn more about these functions.\n",
    "\n",
    "We can use the `%pwd` [Jupyter magic command](https://ipython.readthedocs.io/en/stable/interactive/magics.html) to find the local directory. Running the following code snippet in a project cell will print the path of your local directory:\n",
    "\n",
    "```python\n",
    "x = %pwd\n",
    "print(x)\n",
    "```\n",
    "\n",
    "### Resources\n",
    "Python has a rich library of packages and functions for dealing with files. [This online tutorial](https://www.programiz.com/python-programming/file-operation) explains in more detail how to use python to deal with File I/O (input and output)."
   ]
  },
  {
   "cell_type": "markdown",
   "metadata": {
    "slideshow": {
     "slide_type": "slide"
    }
   },
   "source": [
    "### File IO Examples\n",
    "\n",
    "1. You're writing some code inside `notebook.ipynb` and want to read the data from `bonds.csv` which is inside the `data` folder (see below). What file path do you need to specify to read the data into a dataframe: `pd.read_csv(...)`?\n",
    "\n",
    "```\n",
    "notebook.ipynb\n",
    "data/\n",
    "└── bonds.csv\n",
    "```\n",
    "`pd.read_csv('data/bonds.csv')`\n",
    "\n",
    "2. You have a CSV with 3 blank rows at the top of the file. What parameter do you need to pass to the `read_csv` function to ignore these blank rows when reading in the data?\n",
    "\n",
    "`skiprows=3`\n",
    "\n",
    "3. A colleague has sent you some tabular data in a [JSON file](https://www.w3schools.com/js/js_json_intro.asp) that you've moved into the same folder as your notebook. You can use pandas to read this data into a dataframe:\n",
    "\n",
    "`pd.read_json`"
   ]
  },
  {
   "cell_type": "code",
   "execution_count": 12,
   "metadata": {
    "slideshow": {
     "slide_type": "slide"
    }
   },
   "outputs": [
    {
     "data": {
      "text/html": [
       "<div>\n",
       "<style scoped>\n",
       "    .dataframe tbody tr th:only-of-type {\n",
       "        vertical-align: middle;\n",
       "    }\n",
       "\n",
       "    .dataframe tbody tr th {\n",
       "        vertical-align: top;\n",
       "    }\n",
       "\n",
       "    .dataframe thead th {\n",
       "        text-align: right;\n",
       "    }\n",
       "</style>\n",
       "<table border=\"1\" class=\"dataframe\">\n",
       "  <thead>\n",
       "    <tr style=\"text-align: right;\">\n",
       "      <th></th>\n",
       "      <th>X</th>\n",
       "      <th>Y</th>\n",
       "      <th>Z</th>\n",
       "    </tr>\n",
       "  </thead>\n",
       "  <tbody>\n",
       "    <tr>\n",
       "      <th>2013-01-01</th>\n",
       "      <td>-0.627123</td>\n",
       "      <td>-0.641234</td>\n",
       "      <td>-0.631471</td>\n",
       "    </tr>\n",
       "    <tr>\n",
       "      <th>2013-01-02</th>\n",
       "      <td>-1.280837</td>\n",
       "      <td>-0.800099</td>\n",
       "      <td>-0.553110</td>\n",
       "    </tr>\n",
       "    <tr>\n",
       "      <th>2013-01-03</th>\n",
       "      <td>0.507407</td>\n",
       "      <td>0.098189</td>\n",
       "      <td>-0.904850</td>\n",
       "    </tr>\n",
       "    <tr>\n",
       "      <th>2013-01-04</th>\n",
       "      <td>0.835642</td>\n",
       "      <td>-0.258219</td>\n",
       "      <td>0.071001</td>\n",
       "    </tr>\n",
       "    <tr>\n",
       "      <th>2013-01-05</th>\n",
       "      <td>-0.281536</td>\n",
       "      <td>-0.200655</td>\n",
       "      <td>-0.646016</td>\n",
       "    </tr>\n",
       "    <tr>\n",
       "      <th>2013-01-06</th>\n",
       "      <td>0.506187</td>\n",
       "      <td>0.112514</td>\n",
       "      <td>-0.256587</td>\n",
       "    </tr>\n",
       "  </tbody>\n",
       "</table>\n",
       "</div>"
      ],
      "text/plain": [
       "                   X         Y         Z\n",
       "2013-01-01 -0.627123 -0.641234 -0.631471\n",
       "2013-01-02 -1.280837 -0.800099 -0.553110\n",
       "2013-01-03  0.507407  0.098189 -0.904850\n",
       "2013-01-04  0.835642 -0.258219  0.071001\n",
       "2013-01-05 -0.281536 -0.200655 -0.646016\n",
       "2013-01-06  0.506187  0.112514 -0.256587"
      ]
     },
     "execution_count": 12,
     "metadata": {},
     "output_type": "execute_result"
    }
   ],
   "source": [
    "###RENAME COLUMNS###\n",
    "df = df.rename(columns={\"A\":\"X\",\"B\":\"Y\",\"C\":\"Z\"})\n",
    "df"
   ]
  },
  {
   "cell_type": "markdown",
   "metadata": {
    "slideshow": {
     "slide_type": "slide"
    }
   },
   "source": [
    "# Outline of Unit 04\n",
    "\n",
    "- **04: Summarizing Data in Python**\n",
    "  - Histogram\n",
    "  - Mean\n",
    "  - Standard deviation, Variance\n",
    "  - Covariance, Correlation\n",
    "  \n",
    "  Histograms\n",
    "Mean\n",
    "Mean Square\n",
    "Standard deviation\n"
   ]
  },
  {
   "cell_type": "markdown",
   "metadata": {
    "slideshow": {
     "slide_type": "skip"
    }
   },
   "source": [
    "Variance, Standard Deviation, Correlation (David)\n",
    "Homework: Datacamp: Introduction to Statistics in Python (4h)\n",
    "Summary Statistics\n",
    "Random Numbers and Probability\n",
    "More Distributions and the Central Limit Theorem\n",
    "Correlation and Experimental Design\n",
    "\n",
    "\n",
    "For undergrads: aim for 3 min / slide, i.e. 25 slides in 75 min."
   ]
  },
  {
   "cell_type": "markdown",
   "metadata": {
    "slideshow": {
     "slide_type": "slide"
    }
   },
   "source": [
    "### Mean Value\n",
    "\n",
    "$\\color{#EF5645}{\\text{Definition}}$: The _mean value_, or _average_ of an $n$-vector $x$ is:\n",
    "$$\\bar{x} = \\frac{x_1 + ... + x_n}{n}.$$\n",
    "\n",
    "\n",
    "$\\color{#047C91}{\\text{Example}}$: Consider the vector of the blood pressures of a patient recorded every 4 hours during a day $x = (110, 100, 108, 100, 104, 100)$. (in mmHg). Compute the average blood pressure of the patient."
   ]
  },
  {
   "cell_type": "markdown",
   "metadata": {
    "slideshow": {
     "slide_type": "slide"
    }
   },
   "source": [
    "$\\color{#003660}{\\text{In Python}}$, we use the function `average` from `numpy`."
   ]
  },
  {
   "cell_type": "code",
   "execution_count": 26,
   "metadata": {
    "slideshow": {
     "slide_type": "-"
    }
   },
   "outputs": [
    {
     "data": {
      "text/plain": [
       "103.66666666666667"
      ]
     },
     "execution_count": 26,
     "metadata": {},
     "output_type": "execute_result"
    }
   ],
   "source": [
    "x = np.array([110, 100, 108, 100, 104, 100])\n",
    "np.average(x)"
   ]
  },
  {
   "cell_type": "code",
   "execution_count": 35,
   "metadata": {
    "slideshow": {
     "slide_type": "slide"
    }
   },
   "outputs": [
    {
     "data": {
      "image/png": "[encoded data removed]",
      "text/plain": [
       "<Figure size 432x288 with 1 Axes>"
      ]
     },
     "metadata": {
      "needs_background": "light"
     },
     "output_type": "display_data"
    }
   ],
   "source": [
    "import matplotlib.pyplot as plt\n",
    "\n",
    "hours = np.linspace(1, 24, 6)\n",
    "plt.plot(hours, x, label=\"blood pressure\")\n",
    "plt.plot(hours, (np.average(x)) * np.ones(len(x)), label=\"average\")\n",
    "plt.legend();"
   ]
  },
  {
   "cell_type": "markdown",
   "metadata": {
    "slideshow": {
     "slide_type": "slide"
    }
   },
   "source": [
    "##### Outline: 03 Norms and Distances\n",
    "\n",
    "- [Norm](#sec-norm)\n",
    "- [Distance](#sec-distance)\n",
    "- [Angle](#sec-angle)\n",
    "- [Mean](#sec-sd)\n",
    "- **[Mean Square, Root Mean Square](#sec-sd)**\n",
    "- [Standard deviation](#sec-sd)"
   ]
  },
  {
   "cell_type": "markdown",
   "metadata": {
    "slideshow": {
     "slide_type": "slide"
    }
   },
   "source": [
    "### Root Mean Square (RMS) value\n",
    "\n",
    "$\\color{#EF5645}{\\text{Definition}}$: The _mean-square value_ of an $n$-vector $x$ is:\n",
    "$$\\frac{x_1^2 + ... + x_n^2}{n} = \\frac{||x||^2}{n}.$$\n",
    "\n",
    "$\\color{#EF5645}{\\text{Definition}}$: The _root-mean-square (RMS) value_ of an $n$-vector $x$ is:\n",
    "$$\\text{RMS}(x) = \\sqrt{\\frac{x_1^2 + ... + x_n^2}{n}} = \\frac{||x||}{\\sqrt{n}}.$$\n",
    "\n",
    "$\\color{#EF5645}{\\text{Remark}}$: RMS(x) gives \"typical\" values of $|x_i|$."
   ]
  },
  {
   "cell_type": "markdown",
   "metadata": {
    "slideshow": {
     "slide_type": "slide"
    }
   },
   "source": [
    "$\\color{#047C91}{\\text{Exercise}}$: Write a function computing the root-mean-square value in Python."
   ]
  },
  {
   "cell_type": "code",
   "execution_count": 27,
   "metadata": {},
   "outputs": [
    {
     "data": {
      "text/plain": [
       "1.0"
      ]
     },
     "execution_count": 27,
     "metadata": {},
     "output_type": "execute_result"
    }
   ],
   "source": [
    "def rms(x):\n",
    "    return np.linalg.norm(x) / np.sqrt(len(x))\n",
    "\n",
    "# The rms gives typical values:\n",
    "ones = np.ones(4)\n",
    "rms(ones)"
   ]
  },
  {
   "cell_type": "markdown",
   "metadata": {
    "slideshow": {
     "slide_type": "slide"
    }
   },
   "source": [
    "##### Outline: 03 Norms and Distances\n",
    "\n",
    "- [Norm](#sec-norm)\n",
    "- [Distance](#sec-distance)\n",
    "- [Angle](#sec-angle)\n",
    "- [Mean](#sec-sd)\n",
    "- [Mean Square, Root Mean Square](#sec-sd)\n",
    "- **[Standard deviation](#sec-sd)**"
   ]
  },
  {
   "cell_type": "markdown",
   "metadata": {
    "slideshow": {
     "slide_type": "slide"
    }
   },
   "source": [
    "### Standard Deviation\n",
    "\n",
    "$\\color{#EF5645}{\\text{Definition}}$: The _standard deviation_ of the $n$-vector $x$ is:\n",
    "$$std(x) = rms(x - \\bar{x}1) = \\frac{||x - \\bar{x}.1_n ||}{\\sqrt{n}},$$\n",
    "where $\\bar{x}$ is the average of $x$.\n",
    "\n",
    "$\\color{#EF5645}{\\text{Remark:}}$ The standard deviation gives the typical amount that $x_i$ varies around $\\bar{x}.$"
   ]
  },
  {
   "cell_type": "markdown",
   "metadata": {
    "slideshow": {
     "slide_type": "slide"
    }
   },
   "source": [
    "$\\color{#6D7D33}{\\text{Properties}}$:\n",
    "1. $std(x) = 0$ if and only if $x = \\alpha1$ for some scalar $\\alpha$.\n",
    "2. We have: $rms(x)^2 = \\bar{x}^2 + std(x)^2$"
   ]
  },
  {
   "cell_type": "markdown",
   "metadata": {
    "slideshow": {
     "slide_type": "slide"
    }
   },
   "source": [
    "### Linear Correlation\n",
    "\n",
    "$\\color{#EF5645}{\\text{Definition}}$: The _linear correlation_ of the $n$-vector $x$ and the $n$-vector $y$ is:\n",
    "$$corr(x, y) = \\frac{x - \\bar{x}}{||x||}.\\frac{y - \\bar{y}}{||y||},$$\n",
    "where $\\bar{x}$ is the average of $x$ (same for $y$).\n",
    "\n",
    "$\\color{#EF5645}{\\text{Remark:}}$ The correlation gives the typical amount that $y_i$ varies with $x_i$."
   ]
  },
  {
   "cell_type": "markdown",
   "metadata": {
    "slideshow": {
     "slide_type": "slide"
    }
   },
   "source": [
    "### Example: Finance\n",
    "\n",
    "- $x$: timeseries of returns on an investment (say, in %),\n",
    "- $\\bar{x}$: \"mean return\" over the time period,\n",
    "- $std(x)$: how variable is the return = the \"risk\".\n",
    "\n",
    "Multiple investments (with different return timeseries $x$) are:\n",
    "- compared in terms of return and risk.\n"
   ]
  },
  {
   "cell_type": "markdown",
   "metadata": {
    "slideshow": {
     "slide_type": "slide"
    }
   },
   "source": [
    "<center><img src=\"figs/03_finance.jpg\" alt=\"default\" width=900px/></center>"
   ]
  },
  {
   "cell_type": "markdown",
   "metadata": {
    "slideshow": {
     "slide_type": "slide"
    }
   },
   "source": [
    "# Poll\n",
    "\n",
    "https://forms.gle/4pnjXT8d9sYiEaEZA"
   ]
  },
  {
   "cell_type": "markdown",
   "metadata": {
    "slideshow": {
     "slide_type": "slide"
    }
   },
   "source": [
    "## Now let's analyse the student poll data!\n",
    "\n",
    "### But first, let's remember something important about software engineering.\n",
    "\n",
    "Source: https://imgs.xkcd.com/comics/is_it_worth_the_time.png"
   ]
  },
  {
   "cell_type": "code",
   "execution_count": 8,
   "metadata": {
    "slideshow": {
     "slide_type": "slide"
    }
   },
   "outputs": [
    {
     "data": {
      "text/html": [
       "<img src=\"https://imgs.xkcd.com/comics/is_it_worth_the_time.png\"/>"
      ],
      "text/plain": [
       "<IPython.core.display.Image object>"
      ]
     },
     "execution_count": 8,
     "metadata": {},
     "output_type": "execute_result"
    }
   ],
   "source": [
    "from IPython.display import Image\n",
    "from IPython.core.display import HTML\n",
    "\n",
    "img_source = \"https://imgs.xkcd.com/comics/is_it_worth_the_time.png\"\n",
    "Image(url=img_source)"
   ]
  },
  {
   "cell_type": "markdown",
   "metadata": {
    "slideshow": {
     "slide_type": "slide"
    }
   },
   "source": [
    "# Analysis\n",
    "\n",
    "TODO: Remove the linear regression from this notebook. Have the notebook /example focus on what has been studied in this unit.\n",
    "\n",
    "https://colab.research.google.com/drive/1aGwvy7Om26DlzGGVXpXf7uNov3PXImz1?usp=sharing"
   ]
  },
  {
   "cell_type": "code",
   "execution_count": null,
   "metadata": {},
   "outputs": [],
   "source": []
  }
 ],
 "metadata": {
  "celltoolbar": "Slideshow",
  "kernelspec": {
   "display_name": "Python (courses)",
   "language": "python",
   "name": "courses"
  },
  "language_info": {
   "codemirror_mode": {
    "name": "ipython",
    "version": 3
   },
   "file_extension": ".py",
   "mimetype": "text/x-python",
   "name": "python",
   "nbconvert_exporter": "python",
   "pygments_lexer": "ipython3",
   "version": "3.12.11"
  }
 },
 "nbformat": 4,
 "nbformat_minor": 4
}
