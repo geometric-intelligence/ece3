{
 "cells": [
  {
   "cell_type": "markdown",
   "id": "b6664954",
   "metadata": {
    "slideshow": {
     "slide_type": "slide"
    }
   },
   "source": [
    "# Unit 02: Computing with Data in Python"
   ]
  },
  {
   "cell_type": "markdown",
   "id": "aef7dd1b",
   "metadata": {
    "slideshow": {
     "slide_type": "slide"
    }
   },
   "source": [
    "# Outline of Unit 02\n",
    "\n",
    "- **02: Computing with Data in Python**\n",
    "  - Vector\n",
    "      - Vectors: assigning, accessing, visualizing\n",
    "      - Vector addition, subtraction, scaling, linear combination\n",
    "      - Inner products, affine function, norm, distance, angle\n",
    "  - Matrix\n",
    "      - Matrices, special matrices\n",
    "      - Matrix transpose, addition, subtraction, scaling\n",
    "      - Matrix-vector multiplication, Matrix-matrix multiplication"
   ]
  },
  {
   "cell_type": "markdown",
   "id": "a9c50620",
   "metadata": {
    "slideshow": {
     "slide_type": "slide"
    }
   },
   "source": [
    "# 1. What is a Matrix"
   ]
  },
  {
   "cell_type": "markdown",
   "id": "b76109c8",
   "metadata": {},
   "source": [
    "<center><img src=\"figs/06_matrix_everywhere.gif\" alt=\"default\", width=1000px/></center>"
   ]
  },
  {
   "cell_type": "markdown",
   "id": "6d0ed96d",
   "metadata": {
    "cell_style": "center",
    "slideshow": {
     "slide_type": "slide"
    }
   },
   "source": [
    "## Definition of a Matrix\n",
    "\n",
    "$\\color{#EF5645}{\\text{Definition}}$: A _matrix_ is a rectangular array of numbers, e.g.:\n",
    "$$A =\\begin{vmatrix}\n",
    "0   & 1  & -2.3  \\\\\n",
    "1.3 & 4  & -0.1 \n",
    "\\end{vmatrix}$$\n",
    "\n",
    "- Its _size_ or _shape_ is: (number of rows) x (number of columns).\n",
    "- Its elements are called: _entries, coefficients_.\n",
    "- $A_{i, j}$ refers to element at ith row and jth column.\n",
    "  - i is the _row index_ and j is the _column index_.\n",
    "  \n",
    "$\\color{#EF5645}{\\text{Remark:}}$ We often denote a matrix with a capital letter such as A and vectors with a lower case letter such as a."
   ]
  },
  {
   "cell_type": "markdown",
   "id": "709021e0",
   "metadata": {
    "slideshow": {
     "slide_type": "fragment"
    }
   },
   "source": [
    "### Examples in ECE and beyond\n",
    "\n",
    "\n",
    "- Weather: $A_{ij}$ is rainfall data at location $i$ on day $j$.\n",
    "- Finances: $A_{ij}$ is the return of asset $i$ in period $j$.\n",
    "- Images: $A_{ij}$ is intensity value at $i, j$."
   ]
  },
  {
   "cell_type": "markdown",
   "id": "a99c1035",
   "metadata": {
    "slideshow": {
     "slide_type": "slide"
    }
   },
   "source": [
    "$\\color{#003660}{\\text{In Python}}$, we use `numpy` and `np.array` to build matrices. We compute its shape with `shape`."
   ]
  },
  {
   "cell_type": "code",
   "execution_count": 128,
   "id": "ed72851d",
   "metadata": {},
   "outputs": [
    {
     "name": "stdout",
     "output_type": "stream",
     "text": [
      "[[ 0.   1.  -2.3]\n",
      " [ 1.3  4.  -0.1]]\n",
      "(2, 3)\n",
      "6\n"
     ]
    }
   ],
   "source": [
    "import numpy as np\n",
    "\n",
    "\n",
    "A = np.array([\n",
    "    [0, 1, -2.3], \n",
    "    [1.3, 4, -0.1]\n",
    "])\n",
    "print(A)\n",
    "print(np.shape(A))\n",
    "print(A.size)"
   ]
  },
  {
   "cell_type": "markdown",
   "id": "27de8324",
   "metadata": {},
   "source": [
    "$\\color{#003660}{\\text{In Python}}$, we can access the elements of the matrix."
   ]
  },
  {
   "cell_type": "code",
   "execution_count": 129,
   "id": "166936f8",
   "metadata": {},
   "outputs": [
    {
     "name": "stdout",
     "output_type": "stream",
     "text": [
      "0.0\n",
      "-2.3\n"
     ]
    }
   ],
   "source": [
    "A = np.array([\n",
    "    [0, 1, -2.3], \n",
    "    [1.3, 4, -0.1]\n",
    "])\n",
    "\n",
    "print(A[0, 0])\n",
    "print(A[0, 2])"
   ]
  },
  {
   "cell_type": "markdown",
   "id": "d255362d",
   "metadata": {
    "slideshow": {
     "slide_type": "slide"
    }
   },
   "source": [
    "## Sizes/Shapes of Matrices\n",
    "\n",
    "$\\color{#EF5645}{\\text{Definitions}}$: A $n \\times m$ matrix $A$ is:\n",
    "- _tall_ if n > m (more rows than columns)\n",
    "- _wide_ if n < m (more columns than rows)\n",
    "- _square_ if n = m (same columns as rows)"
   ]
  },
  {
   "cell_type": "markdown",
   "id": "cf4a5d26",
   "metadata": {
    "slideshow": {
     "slide_type": "fragment"
    }
   },
   "source": [
    "$\\color{#EF5645}{\\text{Special cases}}$:\n",
    "- A 1 x 1 matrix is a number or scalar.\n",
    "- A n x 1 matrix is an $n$-vector.\n",
    "- A 1 x m matrix is a $m$-row-vector. \n",
    "\n",
    "Starting now, we will distinguish vectors and row vectors."
   ]
  },
  {
   "cell_type": "markdown",
   "id": "00e69bf3",
   "metadata": {
    "slideshow": {
     "slide_type": "slide"
    }
   },
   "source": [
    "## Column representation of a matrix\n",
    "\n",
    "An $n \\times m$ matrix $A$ can be repersented an ordered collection of m n-vectors $a_1, ..., a_n$:\n",
    "  $$A = [a_1 ... a_n]$$\n",
    "The jth column of $A$ is the $n$-vector:\n",
    "$$a_j = \\begin{vmatrix}\n",
    "A_{1j} \\\\\n",
    "\\vdots \\\\\n",
    "A_{nj}\n",
    "\\end{vmatrix}$$"
   ]
  },
  {
   "cell_type": "markdown",
   "id": "4261fb3c",
   "metadata": {
    "slideshow": {
     "slide_type": "fragment"
    }
   },
   "source": [
    "## Row representation of a matrix\n",
    "An $n \\times m$ matrix $A$ can be repersented an ordered collection of n m-row-vectors $b_1, ..., b_n$:\n",
    "  $$A = \\begin{vmatrix}\n",
    "  b_1 \\\\\n",
    "  \\vdots \\\\\n",
    "  b_m\n",
    "  \\end{vmatrix}$$\n",
    "The ith row is the $m$-row-vector: \n",
    "$$[A_{i1}, ..., A_{im}]$$"
   ]
  },
  {
   "cell_type": "markdown",
   "id": "2f895ea1",
   "metadata": {
    "slideshow": {
     "slide_type": "slide"
    }
   },
   "source": [
    "## Slices of a matrix\n",
    "\n",
    "$\\color{#EF5645}{\\text{Definition}}$ The slice of matrix $A_{p:q, r:s}$ is the matrix:\n",
    "$$\\begin{vmatrix}\n",
    "A_{pr} & A_{p, r+1} & ... & A_{ps}  \\\\\n",
    "... & ... & ... & ... \\\\\n",
    "A_{qr} & A_{q, r+1} & ... & A_{qs}\n",
    "\\end{vmatrix}.$$\n",
    "\n",
    "$\\color{#003660}{\\text{In Python}}$, we can extract rows, columns and slices:"
   ]
  },
  {
   "cell_type": "code",
   "execution_count": 130,
   "id": "f0ca23c8",
   "metadata": {},
   "outputs": [
    {
     "name": "stdout",
     "output_type": "stream",
     "text": [
      "Matrix:\n",
      "[[1.1 2.2 3.3]\n",
      " [4.4 5.5 6.6]\n",
      " [7.7 8.8 9.9]]\n",
      "Columns:\n",
      "[1.1 4.4 7.7]\n",
      "[2.2 5.5 8.8]\n",
      "[3.3 6.6 9.9]\n",
      "Rows:\n",
      "[1.1 2.2 3.3]\n",
      "[4.4 5.5 6.6]\n",
      "[7.7 8.8 9.9]\n",
      "Matrix Slice:\n"
     ]
    },
    {
     "data": {
      "text/plain": [
       "array([[2.2, 3.3],\n",
       "       [5.5, 6.6]])"
      ]
     },
     "execution_count": 130,
     "metadata": {},
     "output_type": "execute_result"
    }
   ],
   "source": [
    "A = np.array([\n",
    "    [1.1, 2.2, 3.3], \n",
    "    [4.4, 5.5, 6.6], \n",
    "    [7.7, 8.8, 9.9]]) \n",
    "print(\"Matrix:\")\n",
    "print(A)\n",
    "\n",
    "print(\"Columns:\")\n",
    "print(A[:,0]); print(A[:,1]); print(A[:,2])\n",
    "\n",
    "print(\"Rows:\")\n",
    "print(A[0, :]); print(A[1,:]); print(A[2,:])\n",
    "\n",
    "print(\"Matrix Slice:\")\n",
    "A[0:2, 1:3]"
   ]
  },
  {
   "cell_type": "markdown",
   "id": "be14b6fa",
   "metadata": {
    "slideshow": {
     "slide_type": "slide"
    }
   },
   "source": [
    "## Special Matrices"
   ]
  },
  {
   "cell_type": "markdown",
   "id": "065ee1b8",
   "metadata": {
    "slideshow": {
     "slide_type": "fragment"
    }
   },
   "source": [
    "### Zero Matrix\n",
    "\n",
    "$\\color{#EF5645}{\\text{Definition}}$: The $n \\times m$ matrix with all entries 0 is denoted $0_{n \\times m}$ or just $0$ and is called a _zero matrix_. "
   ]
  },
  {
   "cell_type": "markdown",
   "id": "171405ce",
   "metadata": {
    "slideshow": {
     "slide_type": "fragment"
    }
   },
   "source": [
    "### Ones Matrix\n",
    "\n",
    "$\\color{#EF5645}{\\text{Definition}}$: $n \\times m$ matrix with all entries 1 is denoted $1_{n \\times m}$ or just $1$ and is called a _ones matrix_."
   ]
  },
  {
   "cell_type": "markdown",
   "id": "64185ad2",
   "metadata": {
    "slideshow": {
     "slide_type": "fragment"
    }
   },
   "source": [
    "### Identity Matrix\n",
    "\n",
    "$\\color{#EF5645}{\\text{Definition}}$: The $n \\times n$ matrix with all entries 0 except the diagonal elements are 1 is denoted $I_n$ or just $I$ is the _identity matrix_."
   ]
  },
  {
   "cell_type": "markdown",
   "id": "50804aff",
   "metadata": {
    "slideshow": {
     "slide_type": "slide"
    }
   },
   "source": [
    "$\\color{#003660}{\\text{In Python}}$, we use `zeros` , `ones`, and `identity` or `eye` (from `numpy`) to build these vectors."
   ]
  },
  {
   "cell_type": "code",
   "execution_count": 133,
   "id": "a87e390f",
   "metadata": {
    "scrolled": true
   },
   "outputs": [
    {
     "name": "stdout",
     "output_type": "stream",
     "text": [
      "[[0. 0. 0. 0.]\n",
      " [0. 0. 0. 0.]\n",
      " [0. 0. 0. 0.]]\n",
      "[[1. 1. 1. 1.]\n",
      " [1. 1. 1. 1.]\n",
      " [1. 1. 1. 1.]]\n",
      "[[1. 0. 0.]\n",
      " [0. 1. 0.]\n",
      " [0. 0. 1.]]\n"
     ]
    }
   ],
   "source": [
    "n, m = 3, 4\n",
    "\n",
    "zero = np.zeros((n,m))\n",
    "print(zero)\n",
    "\n",
    "ones = np.ones((n,m))\n",
    "print(ones)\n",
    "\n",
    "I = np.eye(n)\n",
    "I = np.identity(n)\n",
    "print(I)"
   ]
  },
  {
   "cell_type": "markdown",
   "id": "9ec973a4",
   "metadata": {
    "slideshow": {
     "slide_type": "slide"
    }
   },
   "source": [
    "$\\color{#047C91}{\\text{Exercise}}$: How many elements of an $n$ identity matrix are zero?"
   ]
  },
  {
   "cell_type": "code",
   "execution_count": 135,
   "id": "fe11696d",
   "metadata": {
    "slideshow": {
     "slide_type": "-"
    }
   },
   "outputs": [
    {
     "name": "stdout",
     "output_type": "stream",
     "text": [
      "1438800\n",
      "1438800\n"
     ]
    }
   ],
   "source": [
    "n = 1200\n",
    "I = np.eye(n)\n",
    "num_zero = np.sum(I == 0)\n",
    "\n",
    "print(num_zero)\n",
    "print(n * (n - 1))"
   ]
  },
  {
   "cell_type": "markdown",
   "id": "b9050cca",
   "metadata": {
    "slideshow": {
     "slide_type": "slide"
    }
   },
   "source": [
    "# Operations on Matrices"
   ]
  },
  {
   "cell_type": "markdown",
   "id": "74bfd903",
   "metadata": {
    "slideshow": {
     "slide_type": "slide"
    }
   },
   "source": [
    "## Operations that directly follow from vector operations"
   ]
  },
  {
   "cell_type": "markdown",
   "id": "77d95a59",
   "metadata": {
    "slideshow": {
     "slide_type": "fragment"
    }
   },
   "source": [
    "### Matrix Addition and Subtraction\n",
    "\n",
    "$\\color{#EF5645}{\\text{Definition}}$: Two $n \\times m$ matrices A and B can be added or subtracted to give a new $n \\times m$ matrix:\n",
    "$$(A + B)_{ij} = A_{ij} + B_{ij}.$$"
   ]
  },
  {
   "cell_type": "markdown",
   "id": "61917add",
   "metadata": {
    "slideshow": {
     "slide_type": "fragment"
    }
   },
   "source": [
    "### Scalar-Matrix multiplication\n",
    "\n",
    "$\\color{#EF5645}{\\text{Definition}}$: A scalar β and an $n \\times m$ matrix a can be multiplied to give a new $n \\times m$ matrix: \n",
    "$$(βA)_{ij} = \\beta A_{ij}.$$"
   ]
  },
  {
   "cell_type": "markdown",
   "id": "6788095d",
   "metadata": {
    "slideshow": {
     "slide_type": "fragment"
    }
   },
   "source": [
    "### Elementwise-multiplication (Hadamard Product)\n",
    "\n",
    "$\\color{#EF5645}{\\text{Definition}}$: Two $n \\times m$ matrices $A$ amd $B$ can be multiplied to give a new $n \\times m$ matrix: \n",
    "$$(A \\odot B)_{ij} = A_{ij}B_{ij}.$$"
   ]
  },
  {
   "cell_type": "markdown",
   "id": "f260356e",
   "metadata": {
    "slideshow": {
     "slide_type": "slide"
    }
   },
   "source": [
    "## Frobenius Norm\n",
    "\n",
    "$\\color{#EF5645}{\\text{Definition}}$: For a $n \\times m$ matrix $A$, we define the _matrix norm_ as:\n",
    "\n",
    "<center>\n",
    "$||A|| = \\sqrt{\\sum_{i=1}^n \\sum_{j=1}^m A_{ij}^2}.$</center>\n",
    "\n",
    "$\\color{#EF5645}{\\text{Remark}}$: This definition agrees with the definition of norm of vectors when $n=1$ or $m=1$.\n",
    "\n",
    "$\\color{#047C91}{\\text{Exercise}}$: Compute the matrix norm of $A = \\begin{vmatrix}\n",
    "1 & 0 & -1\\\\\n",
    "0 & 1 & 1 \\end{vmatrix}.$\n",
    "\n",
    "$\\color{#003660}{\\text{In Python}}$, we use `np.linalg.norm`."
   ]
  },
  {
   "cell_type": "code",
   "execution_count": 27,
   "id": "36284b53",
   "metadata": {},
   "outputs": [
    {
     "name": "stdout",
     "output_type": "stream",
     "text": [
      "2.0\n"
     ]
    }
   ],
   "source": [
    "import numpy as np\n",
    "\n",
    "A = np.array([\n",
    "    [1, 0, -1],\n",
    "    [0, 1, 1]\n",
    "])\n",
    "print(np.linalg.norm(A))"
   ]
  },
  {
   "cell_type": "markdown",
   "id": "d125b471",
   "metadata": {
    "slideshow": {
     "slide_type": "slide"
    }
   },
   "source": [
    "$\\color{#047C91}{\\text{Exercise}}$: Can you write a function that determines the Frobenius norm of a matrix $A$ in terms of the Eulciden norm of its column vectors $a_1, \\dots, a_m$?"
   ]
  },
  {
   "cell_type": "code",
   "execution_count": 136,
   "id": "0c0218e2",
   "metadata": {
    "slideshow": {
     "slide_type": "-"
    }
   },
   "outputs": [
    {
     "name": "stdout",
     "output_type": "stream",
     "text": [
      "2.0\n"
     ]
    }
   ],
   "source": [
    "def frobenius_norm(A):\n",
    "    n, m = np.shape(A)\n",
    "    norm = 0\n",
    "    for j in range(m):\n",
    "        a = A[:,j]\n",
    "        norm += np.dot(a,a)\n",
    "    return np.sqrt(norm)\n",
    "\n",
    "\n",
    "A = np.array([\n",
    "    [1, 0, -1],\n",
    "    [0, 1, 1]\n",
    "])\n",
    "print(frobenius_norm(A))"
   ]
  },
  {
   "cell_type": "markdown",
   "id": "0b51ebc7",
   "metadata": {
    "slideshow": {
     "slide_type": "slide"
    }
   },
   "source": [
    "## Transpose\n",
    "\n",
    "$\\color{#EF5645}{\\text{Definition}}$: The _transpose of an $n \\times m$ matrix_ $A$ is a $m \\times n$ matrix, written $A^T$, and is defined by:\n",
    "$$ (A^T)_{ij} = A_{ji}, \\quad i = 1,...,m \\quad j=1,...,n$$\n",
    "\n",
    "$\\color{#047C91}{\\text{Example}}$: $\\begin{vmatrix}\n",
    "0.2 & 1.2 & 10 \\\\\n",
    "0 & -3 & 0\n",
    "\\end{vmatrix}^T = \\begin{vmatrix}\n",
    "0.2 & 0 \\\\\n",
    "1.2 & -3 \\\\\n",
    "10 & 0\n",
    "\\end{vmatrix}$\n",
    "\n",
    "\n",
    "$\\color{#6D7D33}{\\text{Property}}$: The transpose verifies:\n",
    "- $(A^T)^T = A$\n",
    "- $(A + B)^T = A^T + B^T$\n",
    "\n",
    "_Hint:_ $\\color{#003660}{\\text{In Python}}$, we use `imshow` to plot an image."
   ]
  },
  {
   "cell_type": "code",
   "execution_count": 6,
   "id": "bc7d5890",
   "metadata": {},
   "outputs": [
    {
     "name": "stdout",
     "output_type": "stream",
     "text": [
      "[[ 1  0 -1]\n",
      " [ 0  1  0]]\n",
      "[[ 1  0]\n",
      " [ 0  1]\n",
      " [-1  0]]\n"
     ]
    },
    {
     "data": {
      "text/plain": [
       "<matplotlib.image.AxesImage at 0x7fbe62cfeda0>"
      ]
     },
     "execution_count": 6,
     "metadata": {},
     "output_type": "execute_result"
    },
    {
     "data": {
      "image/png": "[encoded data removed]",
      "text/plain": [
       "<Figure size 640x480 with 1 Axes>"
      ]
     },
     "metadata": {},
     "output_type": "display_data"
    }
   ],
   "source": [
    "A = np.array([\n",
    "    [1, 0, -1],\n",
    "    [0, 1, 0]])\n",
    "\n",
    "print(A)\n",
    "print(A.T)\n",
    "plt.imshow(A)\n",
    "plt.imshow(A.T)"
   ]
  },
  {
   "cell_type": "markdown",
   "id": "43cd5556",
   "metadata": {
    "slideshow": {
     "slide_type": "slide"
    }
   },
   "source": [
    "## Matrix-Vector Multiplication\n",
    "\n",
    "$\\color{#EF5645}{\\text{Definition}}$: If $A$ is an $n \\times m$ matrix and $x$ is an $m$-vector, then the _matrix-vector_ product $y = Ax$ is the $n$-vector with elements: \n",
    "$$y_i = \\sum_{j = 1}^m A_{ij}x_j$$\n",
    "\n",
    "$\\color{#047C91}{\\text{Example}}$: \n",
    "\n",
    "$$\\begin{vmatrix}\n",
    "0 & 2 & -1 \\\\\n",
    "-2 & 1 & 1\n",
    "\\end{vmatrix} \n",
    "\\begin{vmatrix}\n",
    "2 \\\\\n",
    "1 \\\\\n",
    "-1\n",
    "\\end{vmatrix} = \n",
    "\\begin{vmatrix}\n",
    "3 \\\\\n",
    "-4\n",
    "\\end{vmatrix}$$"
   ]
  },
  {
   "cell_type": "code",
   "execution_count": 143,
   "id": "aef4c6f3",
   "metadata": {},
   "outputs": [
    {
     "name": "stdout",
     "output_type": "stream",
     "text": [
      "[ 3 -4]\n"
     ]
    }
   ],
   "source": [
    "A = np.array([\n",
    "    [0, 2, -1],\n",
    "    [-2, 1, 1]])\n",
    "x = np.array([2, 1, -1])\n",
    "\n",
    "y = A @ x\n",
    "y = A.dot(x)\n",
    "\n",
    "print(y)"
   ]
  },
  {
   "cell_type": "markdown",
   "id": "59899c65",
   "metadata": {
    "slideshow": {
     "slide_type": "slide"
    }
   },
   "source": [
    "$\\color{#047C91}{\\text{Exercise}}$: Can you write a function that computes the matrix-vector product only using dot products?"
   ]
  },
  {
   "cell_type": "code",
   "execution_count": 144,
   "id": "c6bec1f2",
   "metadata": {},
   "outputs": [
    {
     "name": "stdout",
     "output_type": "stream",
     "text": [
      "[ 3. -4.]\n"
     ]
    }
   ],
   "source": [
    "def matrix_vector_dot(A, x):\n",
    "    n, m = np.shape(A)\n",
    "#     if m != np.size(x):\n",
    "#         return False\n",
    "    y = np.zeros(n)\n",
    "    for i in range(n):\n",
    "        a = A[i,:]\n",
    "        y[i] = np.dot(a, x)\n",
    "    return y\n",
    "\n",
    "A = np.array([\n",
    "    [0, 2, -1],\n",
    "    [-2, 1, 1]])\n",
    "x = np.array([2, 1, -1])\n",
    "y = matrix_vector_dot(A, x)\n",
    "print(y)"
   ]
  },
  {
   "cell_type": "markdown",
   "id": "12209667",
   "metadata": {
    "slideshow": {
     "slide_type": "slide"
    }
   },
   "source": [
    "$\\color{#047C91}{\\text{Exercise}}$: Can you write a function that computes the matrix-vector product only using linear combinations?"
   ]
  },
  {
   "cell_type": "code",
   "execution_count": 145,
   "id": "4dd49f69",
   "metadata": {},
   "outputs": [
    {
     "name": "stdout",
     "output_type": "stream",
     "text": [
      "[ 3. -4.]\n"
     ]
    }
   ],
   "source": [
    "def matrix_vector_linear_comb(A, x):\n",
    "    n, m = np.shape(A)\n",
    "    y = np.zeros(n)\n",
    "    for j in range(m):\n",
    "        a = A[:,j]\n",
    "        y += x[j] * a\n",
    "    return y\n",
    "\n",
    "A = np.array([\n",
    "    [0, 2, -1],\n",
    "    [-2, 1, 1]])\n",
    "x = np.array([2, 1, -1])\n",
    "y = matrix_vector_linear_comb(A, x)\n",
    "print(y)"
   ]
  },
  {
   "cell_type": "markdown",
   "id": "e012f8c1",
   "metadata": {
    "slideshow": {
     "slide_type": "slide"
    }
   },
   "source": [
    "$\\color{#047C91}{\\text{Exercise}}$: If $a$ and $b$ are $n$-vectors, what is the matrix vector product $a^Tb$?"
   ]
  },
  {
   "cell_type": "code",
   "execution_count": 3,
   "id": "dab587d8",
   "metadata": {
    "scrolled": true
   },
   "outputs": [
    {
     "name": "stdout",
     "output_type": "stream",
     "text": [
      "[[-66]]\n"
     ]
    }
   ],
   "source": [
    "a = np.array([[2, 1, -1, 4, 5, -9]]).T\n",
    "b = np.array([[-1, 1, 4, 4, -1, 8]]).T\n",
    "y = a.T @ b\n",
    "print(y)"
   ]
  },
  {
   "cell_type": "markdown",
   "id": "7bf9edab",
   "metadata": {
    "slideshow": {
     "slide_type": "slide"
    }
   },
   "source": [
    "## Matrix-Matrix Multiplication\n",
    "\n",
    "$\\color{#EF5645}{\\text{Definition}}$: An $n \\times m$ matrix $A$ and a $m \\times k$ matrix $B$ be multiplied to give a new $n \\times k$ matrix C: \n",
    "$$C = AB$$\n",
    "\n",
    "where the jth column vector of $C$ is given by the matrix vector product $Ab_j$ where $b_j$ is the jth column vector of $B$."
   ]
  },
  {
   "cell_type": "code",
   "execution_count": 6,
   "id": "77b58bfc",
   "metadata": {
    "scrolled": true
   },
   "outputs": [
    {
     "name": "stdout",
     "output_type": "stream",
     "text": [
      "[[ -2   2   8   8  -2  16]\n",
      " [ -1   1   4   4  -1   8]\n",
      " [  1  -1  -4  -4   1  -8]\n",
      " [ -4   4  16  16  -4  32]\n",
      " [ -5   5  20  20  -5  40]\n",
      " [  9  -9 -36 -36   9 -72]]\n"
     ]
    }
   ],
   "source": [
    "# TODO: Write an example of A B matrix multiplication.\n",
    "# A = ..\n",
    "# B = \n",
    "# C = "
   ]
  },
  {
   "cell_type": "markdown",
   "id": "4a0a0c68",
   "metadata": {
    "slideshow": {
     "slide_type": "slide"
    }
   },
   "source": [
    "# Recap of Unit 02\n",
    "\n",
    "- **02: Computing with Data in Python**\n",
    "  - Vector\n",
    "      - Vectors: assigning, accessing, visualizing\n",
    "      - Vector addition, subtraction, scaling, linear combination\n",
    "      - Inner products, affine function, norm, distance, angle\n",
    "      - Orthogonality and linear independence\n",
    "  - Matrix\n",
    "      - Matrices, special matrices\n",
    "      - Matrix transpose, addition, subtraction, scaling\n",
    "      - Matrix-vector multiplication, Matrix-matrix multiplication"
   ]
  },
  {
   "cell_type": "markdown",
   "id": "38ae45b0",
   "metadata": {
    "slideshow": {
     "slide_type": "slide"
    }
   },
   "source": [
    "# Next week with David!\n",
    "\n",
    "The course ECE 3 is organized into 4 units.\n",
    "\n",
    "- Unit 01: Welcome to Python\n",
    "- Unit 02: Computing with Data in Python\n",
    "- **Unit 03: Summarizing Data in Python**\n",
    "- Unit 04: Predicting from Data with Machine Learning in Python"
   ]
  }
 ],
 "metadata": {
  "celltoolbar": "Slideshow",
  "kernelspec": {
   "display_name": "Python (courses)",
   "language": "python",
   "name": "courses"
  },
  "language_info": {
   "codemirror_mode": {
    "name": "ipython",
    "version": 3
   },
   "file_extension": ".py",
   "mimetype": "text/x-python",
   "name": "python",
   "nbconvert_exporter": "python",
   "pygments_lexer": "ipython3",
   "version": "3.12.11"
  }
 },
 "nbformat": 4,
 "nbformat_minor": 5
}
