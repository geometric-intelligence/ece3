{
 "cells": [
  {
   "cell_type": "markdown",
   "id": "70b42794",
   "metadata": {
    "id": "JvIq7JZynMq5",
    "slideshow": {
     "slide_type": "slide"
    }
   },
   "source": [
    "# 05: Predicting from Data: Linear Regression"
   ]
  },
  {
   "cell_type": "markdown",
   "id": "5162f676",
   "metadata": {
    "cell_style": "center",
    "id": "TAfIeb4ynMq9"
   },
   "source": [
    "<center><img src=\"figs/02_regression.png\" alt=\"Drawing\" width=450px/></center>\n",
    "<center>Want to know if a house/car/bicycle/computer is a good deal? Linear functions can help.</center>\n"
   ]
  },
  {
   "cell_type": "markdown",
   "id": "b3a3a37e",
   "metadata": {
    "slideshow": {
     "slide_type": "slide"
    }
   },
   "source": [
    "# Outline of ECE 3\n",
    "\n",
    "- 01: Welcome to Python\n",
    "- 02: Computing with Data in Python\n",
    "- 03: Summarizing and Visualizing Data in Python\n",
    "- **04: Predicting from Data with Machine Learning in Python**\n",
    "  - A. Clustering\n",
    "  - **B. Linear regression**"
   ]
  },
  {
   "cell_type": "markdown",
   "id": "f2cde284",
   "metadata": {
    "slideshow": {
     "slide_type": "slide"
    }
   },
   "source": [
    "# Outline of Linear Regression\n",
    "\n",
    "  - **B. Linear regression**\n",
    "      - Matrix inverse\n",
    "      - Linear and affine functions\n",
    "      - Regression and linear regression\n",
    "      - Fitting linear regression\n",
    "      \n",
    "For undergrads: aim for 3 min / slide, i.e. 25 slides in 75 min."
   ]
  },
  {
   "cell_type": "markdown",
   "id": "ef4b67fa",
   "metadata": {},
   "source": [
    "# TODO: define R^n and R^m"
   ]
  },
  {
   "cell_type": "code",
   "execution_count": 8,
   "id": "e41a7420",
   "metadata": {},
   "outputs": [
    {
     "name": "stdout",
     "output_type": "stream",
     "text": [
      "[[ 9.8 20.1]\n",
      " [15.  37.9]]\n"
     ]
    },
    {
     "data": {
      "text/plain": [
       "array([[ 8.9, 13.5],\n",
       "       [20.4, 38.8]])"
      ]
     },
     "execution_count": 8,
     "metadata": {},
     "output_type": "execute_result"
    }
   ],
   "source": [
    "import numpy as np\n",
    "A = np.array([[1., 3.],[3., 5.]])\n",
    "B = np.array([[-1., 3.3],[3.6, 5.6]])\n",
    "C = A @ B; print(C) #np.matmul(A, B)\n",
    "B @ A"
   ]
  },
  {
   "cell_type": "markdown",
   "id": "0d8e31b8",
   "metadata": {
    "slideshow": {
     "slide_type": "slide"
    }
   },
   "source": [
    "### Inverse\n",
    "\n",
    "$\\color{#EF5645}{\\text{Definition}}$: If ...\n",
    "\n",
    "We say that $A$ is invertible. \n",
    "\n",
    "We denote $A^{-1}$ the (unique) inverse of $A$.\n",
    "\n"
   ]
  },
  {
   "cell_type": "markdown",
   "id": "aef54e93",
   "metadata": {
    "slideshow": {
     "slide_type": "slide"
    }
   },
   "source": [
    "$\\color{#6D7D33}{\\text{Properties}}$:\n",
    "- If $A$ is invertible then $A$ is square.\n",
    "- The inverse of the inverse is: $(A^{-1})^{-1} = A$.\n",
    "\n",
    "$\\color{#047C91}{\\text{Exercise}}$: Prove the above statements."
   ]
  },
  {
   "cell_type": "markdown",
   "id": "c1fe1931",
   "metadata": {
    "slideshow": {
     "slide_type": "slide"
    }
   },
   "source": [
    "### Which Matrices are Invertible?\n",
    "\n",
    "$\\color{#6D7D33}{\\text{Properties}}$: These matrices are always invertible:\n",
    "- Any lower triangular matrix $L$ with nonzero diagonal entries is invertible. \n",
    "- Any upper triangular $R$ with nonzero diagonal entries is invertible.\n",
    "\n",
    "$\\color{#047C91}{\\text{Exercise}}$: Give examples of invertible matrices."
   ]
  },
  {
   "cell_type": "markdown",
   "id": "479c1dc6",
   "metadata": {
    "slideshow": {
     "slide_type": "slide"
    }
   },
   "source": [
    "### Computing Inverses: $2 \\times 2$ matrices\n",
    "\n",
    "$\\color{#6D7D33}{\\text{Properties}}$: Consider $A$ is a $2 \\times 2$ matrix:\n",
    "- $A$ is invertible if and only if $A_{11}A_{22} \\neq A_{12}A_{21}$.\n",
    "- In this case:\n",
    "\n",
    "<center><img src=\"figs/lec10_2by2_inverse.png\" width=400px alt=\"default\"/></center>\n",
    "\n",
    "\n",
    "$\\color{#047C91}{\\text{Exercise}}$: Compute the inverse of:\n",
    "\n",
    "<center><img src=\"figs/lec10_exercise_2by2_inverse.png\" width=100px alt=\"default\"/></center>\n"
   ]
  },
  {
   "cell_type": "markdown",
   "id": "2bee1cf4",
   "metadata": {
    "slideshow": {
     "slide_type": "slide"
    }
   },
   "source": [
    "###  Computing Inverses\n",
    "\n",
    "$\\color{#6D7D33}{\\text{Properties}}$: Some matrices have \"easy\" inverses:\n",
    "- The identity matrix: \n",
    "  - Then $I^{-1} = I$\n",
    "- A square $Q$ matrix that verifies $Q^TQ = I$:\n",
    "  - Then $Q^{-1} = Q^T$.\n",
    "- A diagonal matrix $D = diag(a_1, ..., a_n)$ with nonzero elements:\n",
    "  - Then $D^{-1} = diag(\\frac{1}{a_1}, ..., \\frac{1}{a_n}).$"
   ]
  },
  {
   "cell_type": "markdown",
   "id": "ff351212",
   "metadata": {
    "slideshow": {
     "slide_type": "slide"
    }
   },
   "source": [
    "### Computing Inverses\n",
    "\n",
    "$\\color{#6D7D33}{\\text{Properties}}$: Consider invertible square matrices $A, B$ with known inverses $A^{-1}, B^{-1}$.\n",
    "- $(AB)^{-1} = B^{-1}A^{-1}$\n",
    "- $(A^T)^{-1} = (A^{-1})^T$\n",
    "\n",
    "$\\color{#047C91}{\\text{Exercise}}$: Prove the two first bullet points.\n",
    "\n",
    "\n",
    "$\\color{#EF5645}{\\text{Notation}}$: Negative powers! $A^{-k} = (A^{k})^{-1}$"
   ]
  },
  {
   "cell_type": "markdown",
   "id": "7a8c8d58",
   "metadata": {
    "slideshow": {
     "slide_type": "slide"
    }
   },
   "source": [
    "### Computing Inverses in Python\n",
    "\n",
    "$\\color{#003660}{\\text{In Python}}$, we use `np.linalg.inv` to compute the inverse."
   ]
  },
  {
   "cell_type": "code",
   "execution_count": 7,
   "id": "15de41a1",
   "metadata": {},
   "outputs": [
    {
     "name": "stdout",
     "output_type": "stream",
     "text": [
      "[[ 1.   -0.5 ]\n",
      " [ 0.    0.25]]\n"
     ]
    }
   ],
   "source": [
    "import numpy as np\n",
    "\n",
    "A = np.array([\n",
    "    [1, 2],\n",
    "    [0, 4]\n",
    "])\n",
    "print(np.linalg.inv(A))"
   ]
  },
  {
   "cell_type": "markdown",
   "id": "a405fee4",
   "metadata": {
    "slideshow": {
     "slide_type": "slide"
    }
   },
   "source": [
    "$\\color{#047C91}{\\text{Exercise}}$: Give an idea on how to prove the six degrees separation theory.\n",
    "\n",
    "<center><img src=\"figs/09_six_degrees.png\" alt=\"default\" width=350px/></center>\n",
    "\n",
    "This is the theory that any person on the planet can be connected to any other person on the planet through a chain of acquaintances that has no more than five intermediaries."
   ]
  },
  {
   "cell_type": "markdown",
   "id": "9914ca55",
   "metadata": {},
   "source": [
    "$\\color{#047C91}{\\text{Exercise}}$: Take $m\\times n$ matrix $A$, and ones vector $1_n$. Compute $A1_n$."
   ]
  },
  {
   "cell_type": "markdown",
   "id": "5d996449",
   "metadata": {
    "slideshow": {
     "slide_type": "slide"
    }
   },
   "source": [
    "### Function $f:\\mathbb{R}^n \\rightarrow \\mathbb{R}$\n",
    "\n",
    "$\\color{#EF5645}{\\text{Definition}}$: A _function_ $f$ from $\\mathbb{R}^n$ to $\\mathbb{R}$ assigns to each $n$-vector exactly one scalar. \n",
    "- We denote $f:\\mathbb{R}^n \\rightarrow \\mathbb{R}$ such a function. \n",
    "- $\\mathbb{R}^n$ is the _input space, or domain_, of $f$.\n",
    "- $\\mathbb{R}$ is its _output space_.\n",
    "\n",
    "$\\color{#047C91}{\\text{Exercise}}$: \n",
    "- Give an example of function going from $\\mathbb{R}^3$ to $\\mathbb{R}$.\n"
   ]
  },
  {
   "cell_type": "markdown",
   "id": "6450a09f",
   "metadata": {
    "slideshow": {
     "slide_type": "slide"
    }
   },
   "source": [
    "### Graph of a function $f:\\mathbb{R}^n \\rightarrow \\mathbb{R}$\n",
    "\n",
    "When $n=1$ or $n=2$, the function $f: \\mathbb{R}^n \\rightarrow$ can be visually represented by a graph.\n",
    "\n",
    "$\\color{#047C91}{\\text{Exercise}}$: Give input/output spaces of the functions below."
   ]
  },
  {
   "cell_type": "markdown",
   "id": "9c39786b",
   "metadata": {
    "cell_style": "split"
   },
   "source": [
    "<center><img src=\"figs/02_affine_only.png\" width=250px alt=\"default\"/></center>"
   ]
  },
  {
   "cell_type": "markdown",
   "id": "1586238b",
   "metadata": {
    "cell_style": "split"
   },
   "source": [
    "<center><img src=\"figs/02_graph.png\" width=250px alt=\"default\"/></center>"
   ]
  },
  {
   "cell_type": "markdown",
   "id": "ae7c5271",
   "metadata": {
    "id": "YygrvCKJnMrA",
    "slideshow": {
     "slide_type": "slide"
    }
   },
   "source": [
    "### Linear Function $f:\\mathbb{R}^n \\rightarrow \\mathbb{R}$\n",
    "\n",
    "$\\color{#EF5645}{\\text{Definition}}$: A function $f: \\mathbb{R}^n \\rightarrow \\mathbb{R}$ is called _linear_, if it write $f(x) = a^T.x$.\n",
    "\n",
    "$\\color{#047C91}{\\text{Example}}$: The function $f: \\mathbb{R}^2 \\rightarrow \\mathbb{R}$ defined by:\n",
    "$$f(x) = x_1 + 2 x_2,$$\n",
    "for all possible 2-vectors $x = (x_1, x_2)$ is linear."
   ]
  },
  {
   "cell_type": "markdown",
   "id": "b7a15ace",
   "metadata": {
    "id": "rtdM80NKnMrB",
    "slideshow": {
     "slide_type": "slide"
    }
   },
   "source": [
    "### Example: the inner product function\n",
    "\n",
    "$\\color{#047C91}{\\text{Exercise}}$: Consider the function $f: \\mathbb{R}^3 \\rightarrow \\mathbb{R}$ defined as:\n",
    "$$f(x) = - x_3 + 2 x_2.$$\n",
    "Is it an inner-product function? If so, what is its vector $a$?"
   ]
  },
  {
   "cell_type": "markdown",
   "id": "b47d19e7",
   "metadata": {
    "id": "mMD3jCSTnMrB",
    "slideshow": {
     "slide_type": "slide"
    }
   },
   "source": [
    "$\\color{#003660}{\\text{In Python}}$, we can code the inner-product function $f_a$ associated to a vector $a$:"
   ]
  },
  {
   "cell_type": "code",
   "execution_count": 1,
   "id": "ad8a24a7",
   "metadata": {
    "colab": {
     "base_uri": "https://localhost:8080/"
    },
    "executionInfo": {
     "elapsed": 131,
     "status": "ok",
     "timestamp": 1633389897467,
     "user": {
      "displayName": "Monsij Biswal",
      "photoUrl": "https://lh3.googleusercontent.com/a-/AOh14Gjl96gx16jagPbL1zN0Qi6PY4NLXcBngP97LkRzsA=s64",
      "userId": "05860698453444933805"
     },
     "user_tz": 420
    },
    "id": "-ZRBNV0AnMrC",
    "outputId": "885ff96e-7db8-4499-8837-45811acf6422",
    "scrolled": true
   },
   "outputs": [],
   "source": [
    "import numpy as np\n",
    "\n",
    "a = np.array([-2, 0, 1, -3])\n",
    "def f_a(x):\n",
    "    return np.inner(a, x)"
   ]
  },
  {
   "cell_type": "markdown",
   "id": "1e72cb81",
   "metadata": {
    "id": "48QUC4btnMrE",
    "slideshow": {
     "slide_type": "slide"
    }
   },
   "source": [
    "$\\color{#003660}{\\text{In Python}}$:"
   ]
  },
  {
   "cell_type": "code",
   "execution_count": 2,
   "id": "b610e62e",
   "metadata": {
    "id": "cS4d76cgnMrE",
    "outputId": "987ce390-b5a0-412b-f0f1-f4d1cd06db59"
   },
   "outputs": [
    {
     "data": {
      "text/plain": [
       "-2"
      ]
     },
     "execution_count": 2,
     "metadata": {},
     "output_type": "execute_result"
    }
   ],
   "source": [
    "a = np.array([-2, 0, 1, -3])\n",
    "def f_a(x):\n",
    "    return np.inner(a, x)\n",
    "\n",
    "e0 = np.array([1, 0, 0, 0])\n",
    "f_a(e0)"
   ]
  },
  {
   "cell_type": "markdown",
   "id": "a18a9c82",
   "metadata": {
    "slideshow": {
     "slide_type": "slide"
    }
   },
   "source": [
    "### Linear Function $f:\\mathbb{R}^n \\rightarrow \\mathbb{R}^m$\n",
    "\n",
    "$\\color{#EF5645}{\\text{Definition}}$: A function $f: \\mathbb{R}^n \\rightarrow \\mathbb{R}^m$ is called _linear_, if it write $f(x) = A.x$.\n",
    "\n",
    "$\\color{#047C91}{\\text{Example}}$: TODO."
   ]
  },
  {
   "cell_type": "markdown",
   "id": "df24c96b",
   "metadata": {
    "id": "cIo-QWOtnMrF",
    "slideshow": {
     "slide_type": "slide"
    }
   },
   "source": [
    "### Affine function $f:\\mathbb{R}^n \\rightarrow \\mathbb{R}$ \n",
    "\n",
    "$\\color{#EF5645}{\\text{Definition}}$: A function $f:\\mathbb{R}^n \\rightarrow \\mathbb{R}$ that is linear plus a constant is called _affine_. Its general form is:\n",
    "\n",
    "$$f(x) = a^Tx+b \\quad \\text{with $a$ an $n$-vector and $b$ a scalar}$$\n",
    "\n",
    "\n",
    "$\\color{#047C91}{\\text{Example}}$: The function $f:\\mathbb{R}^4 \\rightarrow \\mathbb{R}$ defined as $f(x) = x_2 + 5$ is affine."
   ]
  },
  {
   "cell_type": "markdown",
   "id": "bf2c84ec",
   "metadata": {
    "id": "anIx-7eVnMrF",
    "slideshow": {
     "slide_type": "slide"
    }
   },
   "source": [
    "### Linear versus affine functions\n",
    "\n",
    "In this plot, $f$ is linear and $g$ is affine, not linear\n",
    "<center><img src=\"figs/02_linear_vs_affine.jpg\" alt=\"Drawing\" width=750px/></center>\n",
    "😱 Sometimes people refer to affine functions as linear."
   ]
  },
  {
   "cell_type": "markdown",
   "id": "ec4c5f42",
   "metadata": {
    "slideshow": {
     "slide_type": "slide"
    }
   },
   "source": [
    "### Regression\n",
    "\n",
    "$\\color{#EF5645}{\\text{Definition}}$: A _regression_ is an algorithm that can predict a continuous _outcome_, usually denoted y, based on the value of one or more _regressors_, usually collectively denoted x.\n",
    "- A regression is a function $f:\\mathbb{R}^n \\rightarrow \\mathbb{R}$, that assigns $y$ to a given $n$-vector of regressors $x$.\n",
    "\n",
    "$\\color{#047C91}{\\text{Example}}$: You want to predict the price of a house $y$, given its area and number of bedrooms, collectively denoted $x$.\n",
    "- What is the domain of the function of the regression?"
   ]
  },
  {
   "cell_type": "markdown",
   "id": "4596a06c",
   "metadata": {
    "slideshow": {
     "slide_type": "slide"
    }
   },
   "source": [
    "### Machine Learning\n",
    "\n",
    "How to find the \"magic\" function $f$ that makes predictions?\n",
    "- Teach machine to learn it from data:  _machine learning_.\n",
    "\n",
    "Here, we assume that $f$ is already learned and is given to us.\n",
    "- Later in class, we will see how to learn $f$."
   ]
  },
  {
   "cell_type": "markdown",
   "id": "6f700c4c",
   "metadata": {
    "id": "MTmG6Mf1nMrI",
    "slideshow": {
     "slide_type": "slide"
    }
   },
   "source": [
    "### Linear Regression Model\n",
    "\n",
    "$\\color{#EF5645}{\\text{Definition}}$: A _linear regression model_ is the affine function:\n",
    "$$\\hat{y} = x^Tw + b$$\n",
    "where:\n",
    "- the $n$-vector $x$ is called a _feature_ or _input_ vector,\n",
    "  - its elements $x_i$'s are called _regressors_,\n",
    "- the $n$-vector $w$ is called _weight vector_,\n",
    "- the scalar $b$ is called _offset_ or _intercept_ or _bias_,\n",
    "- the scalar $\\hat y$ is called _prediction_ of an actual _outcome_ $y$."
   ]
  },
  {
   "cell_type": "markdown",
   "id": "82fbc444",
   "metadata": {
    "id": "1hBJg5mWnMrI",
    "slideshow": {
     "slide_type": "slide"
    }
   },
   "source": [
    "### Example: House prices\n",
    "\n",
    "- Outcome $y$: price of house in \\$1000.\n",
    "- Regressors $x$: (area, # bedrooms), area in 1000 sq.ft.\n",
    "\n",
    "We are given a regression model with weight vector and offset as:\n",
    "\n",
    "$$w = (148.73, −18.85), b = 54.40$$\n",
    "\n",
    "$\\color{#047C91}{\\text{Exercise}}$: From this trained regression model, what is the predicted price of a house with 2000 sq.ft and 3 bedrooms?"
   ]
  },
  {
   "cell_type": "markdown",
   "id": "1dd96fa2",
   "metadata": {
    "id": "QQDxD5c0nMrI",
    "slideshow": {
     "slide_type": "slide"
    }
   },
   "source": [
    "$\\color{#003660}{\\text{In Python}}$:"
   ]
  },
  {
   "cell_type": "code",
   "execution_count": 3,
   "id": "73ab6107",
   "metadata": {
    "id": "kJ3mjvRgnMrI",
    "outputId": "de253491-8ecf-439a-e69d-3980abaca48e"
   },
   "outputs": [
    {
     "data": {
      "text/plain": [
       "295.30999999999995"
      ]
     },
     "execution_count": 3,
     "metadata": {},
     "output_type": "execute_result"
    }
   ],
   "source": [
    "w = np.array([148.73, -18.85])\n",
    "b = 54.40\n",
    "def y_hat(x):\n",
    "    return np.inner(x, w) + b\n",
    "\n",
    "x_area = 2\n",
    "x_beds = 3\n",
    "x = np.array([x_area, x_beds])\n",
    "predicted_price = y_hat(x)\n",
    "predicted_price"
   ]
  },
  {
   "cell_type": "markdown",
   "id": "dd3a1633",
   "metadata": {
    "id": "ZeMhpZXRnMrJ",
    "slideshow": {
     "slide_type": "slide"
    }
   },
   "source": [
    "$\\color{#003660}{\\text{In Python}}$, we check how our model compares to real data. \n",
    "\n",
    "We import the package `pandas` to load data from a `.csv`, using its function `read_csv`."
   ]
  },
  {
   "cell_type": "code",
   "execution_count": 1,
   "id": "665c4aa8",
   "metadata": {
    "id": "7K4mnu7bnMrJ"
   },
   "outputs": [
    {
     "data": {
      "text/html": [
       "<div>\n",
       "<style scoped>\n",
       "    .dataframe tbody tr th:only-of-type {\n",
       "        vertical-align: middle;\n",
       "    }\n",
       "\n",
       "    .dataframe tbody tr th {\n",
       "        vertical-align: top;\n",
       "    }\n",
       "\n",
       "    .dataframe thead th {\n",
       "        text-align: right;\n",
       "    }\n",
       "</style>\n",
       "<table border=\"1\" class=\"dataframe\">\n",
       "  <thead>\n",
       "    <tr style=\"text-align: right;\">\n",
       "      <th></th>\n",
       "      <th>Unnamed: 0</th>\n",
       "      <th>baths</th>\n",
       "      <th>location</th>\n",
       "      <th>price</th>\n",
       "      <th>beds</th>\n",
       "      <th>area</th>\n",
       "      <th>condo</th>\n",
       "    </tr>\n",
       "  </thead>\n",
       "  <tbody>\n",
       "    <tr>\n",
       "      <th>0</th>\n",
       "      <td>0</td>\n",
       "      <td>2</td>\n",
       "      <td>2</td>\n",
       "      <td>94.905</td>\n",
       "      <td>2</td>\n",
       "      <td>0.941</td>\n",
       "      <td>1</td>\n",
       "    </tr>\n",
       "    <tr>\n",
       "      <th>1</th>\n",
       "      <td>1</td>\n",
       "      <td>2</td>\n",
       "      <td>2</td>\n",
       "      <td>98.937</td>\n",
       "      <td>3</td>\n",
       "      <td>1.146</td>\n",
       "      <td>0</td>\n",
       "    </tr>\n",
       "    <tr>\n",
       "      <th>2</th>\n",
       "      <td>2</td>\n",
       "      <td>2</td>\n",
       "      <td>2</td>\n",
       "      <td>100.309</td>\n",
       "      <td>3</td>\n",
       "      <td>0.909</td>\n",
       "      <td>0</td>\n",
       "    </tr>\n",
       "    <tr>\n",
       "      <th>3</th>\n",
       "      <td>3</td>\n",
       "      <td>2</td>\n",
       "      <td>3</td>\n",
       "      <td>106.250</td>\n",
       "      <td>3</td>\n",
       "      <td>1.289</td>\n",
       "      <td>0</td>\n",
       "    </tr>\n",
       "    <tr>\n",
       "      <th>4</th>\n",
       "      <td>4</td>\n",
       "      <td>1</td>\n",
       "      <td>3</td>\n",
       "      <td>107.502</td>\n",
       "      <td>3</td>\n",
       "      <td>1.020</td>\n",
       "      <td>0</td>\n",
       "    </tr>\n",
       "    <tr>\n",
       "      <th>...</th>\n",
       "      <td>...</td>\n",
       "      <td>...</td>\n",
       "      <td>...</td>\n",
       "      <td>...</td>\n",
       "      <td>...</td>\n",
       "      <td>...</td>\n",
       "      <td>...</td>\n",
       "    </tr>\n",
       "    <tr>\n",
       "      <th>769</th>\n",
       "      <td>769</td>\n",
       "      <td>3</td>\n",
       "      <td>3</td>\n",
       "      <td>232.425</td>\n",
       "      <td>4</td>\n",
       "      <td>2.280</td>\n",
       "      <td>0</td>\n",
       "    </tr>\n",
       "    <tr>\n",
       "      <th>770</th>\n",
       "      <td>770</td>\n",
       "      <td>2</td>\n",
       "      <td>3</td>\n",
       "      <td>234.000</td>\n",
       "      <td>3</td>\n",
       "      <td>1.477</td>\n",
       "      <td>0</td>\n",
       "    </tr>\n",
       "    <tr>\n",
       "      <th>771</th>\n",
       "      <td>771</td>\n",
       "      <td>2</td>\n",
       "      <td>2</td>\n",
       "      <td>235.000</td>\n",
       "      <td>3</td>\n",
       "      <td>1.216</td>\n",
       "      <td>0</td>\n",
       "    </tr>\n",
       "    <tr>\n",
       "      <th>772</th>\n",
       "      <td>772</td>\n",
       "      <td>2</td>\n",
       "      <td>3</td>\n",
       "      <td>235.301</td>\n",
       "      <td>4</td>\n",
       "      <td>1.685</td>\n",
       "      <td>0</td>\n",
       "    </tr>\n",
       "    <tr>\n",
       "      <th>773</th>\n",
       "      <td>773</td>\n",
       "      <td>2</td>\n",
       "      <td>4</td>\n",
       "      <td>235.738</td>\n",
       "      <td>3</td>\n",
       "      <td>1.362</td>\n",
       "      <td>0</td>\n",
       "    </tr>\n",
       "  </tbody>\n",
       "</table>\n",
       "<p>774 rows × 7 columns</p>\n",
       "</div>"
      ],
      "text/plain": [
       "     Unnamed: 0  baths  location    price  beds   area  condo\n",
       "0             0      2         2   94.905     2  0.941      1\n",
       "1             1      2         2   98.937     3  1.146      0\n",
       "2             2      2         2  100.309     3  0.909      0\n",
       "3             3      2         3  106.250     3  1.289      0\n",
       "4             4      1         3  107.502     3  1.020      0\n",
       "..          ...    ...       ...      ...   ...    ...    ...\n",
       "769         769      3         3  232.425     4  2.280      0\n",
       "770         770      2         3  234.000     3  1.477      0\n",
       "771         771      2         2  235.000     3  1.216      0\n",
       "772         772      2         3  235.301     4  1.685      0\n",
       "773         773      2         4  235.738     3  1.362      0\n",
       "\n",
       "[774 rows x 7 columns]"
      ]
     },
     "execution_count": 1,
     "metadata": {},
     "output_type": "execute_result"
    }
   ],
   "source": [
    "import pandas as pd\n",
    "import matplotlib.pyplot as plt\n",
    "import numpy as np\n",
    "data = pd.read_csv(\"../data/02_houses.csv\"); data"
   ]
  },
  {
   "cell_type": "markdown",
   "id": "b8b466c6",
   "metadata": {
    "slideshow": {
     "slide_type": "slide"
    }
   },
   "source": [
    "$\\color{#003660}{\\text{In Python}}$, this code extracts data from the columns."
   ]
  },
  {
   "cell_type": "code",
   "execution_count": 7,
   "id": "dbf23731",
   "metadata": {
    "id": "NI3bVSqGnMrJ"
   },
   "outputs": [
    {
     "name": "stdout",
     "output_type": "stream",
     "text": [
      "(774,)\n",
      "(774,)\n",
      "(774, 2)\n"
     ]
    },
    {
     "data": {
      "text/plain": [
       "array([156.65493, 168.29458, 133.04557, 189.56297, 149.5546 , 168.70206,\n",
       "       185.35982, 142.22812, 134.94035, 104.15324, 199.52788, 164.13014,\n",
       "       176.66217, 163.4252 , 235.96673, 131.85573, 159.66824, 141.07699,\n",
       "       164.27887, 184.2474 , 183.46504, 171.23047, 169.18696, 203.0974 ,\n",
       "       163.83268, 171.23047, 208.74914, 158.77586, 197.93056, 149.44458,\n",
       "       148.5848 , 210.64392, 177.36711, 154.90888, 171.82539, 215.03451,\n",
       "       145.5776 , 213.9934 , 269.76715, 225.29688, 217.52421, 174.54124,\n",
       "       215.4807 , 215.44199, 233.92322, 174.09505, 206.96438, 172.16156,\n",
       "       169.18696, 254.29923, 178.55695, 165.9149 , 217.41419, 217.82167,\n",
       "       209.0466 , 188.2244 , 233.73578, 200.42026, 186.14218, 234.07195,\n",
       "       268.5386 , 137.06128, 222.58103, 215.4807 , 216.37308, 216.14693,\n",
       "       277.83728, 219.34768, 217.67294, 189.26551, 168.92821, 194.36104,\n",
       "       311.41155, 309.14189, 175.28489, 319.55299, 186.58837, 140.33334,\n",
       "       333.16484, 191.94265, 215.62943, 213.91598, 271.95939, 264.71033,\n",
       "       375.1067 , 227.04293, 149.25714, 246.52656, 142.86175, 331.78756,\n",
       "       212.91358, 426.52857, 284.78888, 275.41889, 274.04161, 184.16998,\n",
       "       331.08262, 271.95939, 242.7696 , 376.594  , 322.41757, 312.19391,\n",
       "       483.08468, 263.66922, 268.0537 , 403.13925, 329.11042, 322.82505,\n",
       "       246.86273, 289.50953, 445.11982, 263.81795, 385.62782, 311.6703 ,\n",
       "       430.73172, 495.42927, 284.49142, 251.1759 , 239.83371, 490.6312 ,\n",
       "       421.13558, 329.85407, 303.04396, 470.74009, 497.80895, 359.78751,\n",
       "       384.14052, 490.6312 , 481.89484, 345.17326, 343.64725, 134.94035,\n",
       "       142.45427, 141.6332 , 135.684  , 127.65258, 156.54491, 174.72868,\n",
       "       196.70201, 145.79764, 135.27652, 107.4253 , 198.1506 , 142.93306,\n",
       "       242.21339, 142.93306, 158.4784 , 152.38047, 154.16523, 160.52191,\n",
       "       161.15554, 154.0165 , 162.9403 , 129.92224, 164.4276 , 158.4784 ,\n",
       "       140.18461, 158.29096, 177.96203, 185.84472, 158.4784 , 186.14218,\n",
       "       164.53762, 176.62346, 124.08306, 194.36104, 174.54124, 154.94759,\n",
       "       194.1736 , 163.98141, 200.71772, 173.8363 , 166.32238, 162.04792,\n",
       "       137.1713 , 183.72379, 151.15192, 169.78188, 213.17233, 204.88216,\n",
       "       211.87247, 170.22807, 246.37783, 256.6402 , 185.99345, 166.47111,\n",
       "       253.07068, 229.61005, 251.02717, 229.12515, 145.5776 , 166.95601,\n",
       "       172.45902, 205.03089, 189.56297, 246.56527, 269.46969, 124.23179,\n",
       "       213.69594, 193.72741, 200.1228 , 224.21706, 239.42623, 215.73945,\n",
       "       217.71165, 198.37675, 178.70568, 212.27995, 230.90991, 261.99448,\n",
       "       323.12251, 189.86043, 221.39119, 349.48643, 205.43837, 172.75648,\n",
       "       195.55088, 220.64754, 231.95102, 320.5941 , 216.22435, 230.90991,\n",
       "       165.35869, 241.95464, 280.9219 , 225.55563, 224.85069, 284.78888,\n",
       "       349.93262, 213.5085 , 301.59537, 212.0212 , 224.96071, 206.22073,\n",
       "       207.70803, 188.81932, 322.12011, 263.0743 , 292.48413, 306.94965,\n",
       "       232.20977, 184.95234, 380.82975,  96.86547, 307.39584, 162.64284,\n",
       "       216.22435, 300.10807, 271.21574, 261.587  , 234.51814, 464.19597,\n",
       "       445.0098 , 297.68968, 366.73911, 384.14052, 517.29258, 453.74616,\n",
       "       202.16631, 362.87213, 305.42364, 572.73016, 484.23581, 537.37113,\n",
       "       254.37054, 435.6011 , 552.69032, 309.47806, 549.82574, 383.43558,\n",
       "       329.59532, 142.1181 , 109.35879, 155.31636, 135.08908, 140.74082,\n",
       "       140.74082, 154.12652, 134.94035, 183.7625 , 163.05032, 148.51349,\n",
       "       148.36476, 134.94035, 153.23414, 158.77586, 160.07572, 128.50625,\n",
       "       148.77224, 145.5776 , 195.80963, 148.66222, 194.36104, 141.52318,\n",
       "       132.56067, 141.03828, 180.303  , 172.45902, 177.36711, 136.27892,\n",
       "       159.18334, 201.01518, 150.70573, 101.36608, 158.4784 , 162.04792,\n",
       "       161.26556, 185.7347 , 180.38042, 134.94035, 132.7094 , 215.03451,\n",
       "       177.66457, 186.10347, 268.0537 , 183.01885, 208.45168, 191.199  ,\n",
       "       164.4276 , 215.4807 , 207.11311, 185.62468, 242.65958, 247.12148,\n",
       "       201.6101 , 201.6101 , 179.93423, 169.18696, 213.80596, 163.9427 ,\n",
       "       189.52426, 173.64886, 182.08776, 161.453  , 169.3744 , 169.3744 ,\n",
       "       152.38047, 170.22807, 264.11541, 223.9196 , 176.92092, 164.4276 ,\n",
       "       211.42628, 213.65723, 222.61974, 165.43   , 169.18696, 169.48442,\n",
       "       199.08169, 195.51217, 199.52788, 221.68865, 147.91857, 167.99712,\n",
       "       155.0189 , 241.65718, 267.5362 , 243.14448, 184.95234, 257.42256,\n",
       "       182.08776, 255.04288, 267.38747, 146.28254, 259.31734, 316.42966,\n",
       "       157.9935 , 237.64147, 223.32468, 144.79524, 210.27515, 178.11076,\n",
       "       257.27383, 191.49646, 129.13988, 280.32698, 202.35375, 202.6125 ,\n",
       "       155.20634, 174.39251, 213.61852, 266.94128, 210.08771, 247.41894,\n",
       "       246.41654, 373.43196, 249.09368, 417.64348, 253.25812, 192.09138,\n",
       "       342.94231, 153.90648, 154.79886, 170.3768 , 209.64152, 213.10102,\n",
       "       270.0259 , 235.41052, 203.35615, 302.48775, 262.18192, 247.90384,\n",
       "       382.20703, 252.62449, 214.54961, 384.14052, 216.18564, 358.2615 ,\n",
       "       265.75144, 283.70906, 197.59439, 222.4323 , 210.87007, 405.15016,\n",
       "       292.67157, 205.66452, 183.46504, 258.01748, 254.29923, 308.88314,\n",
       "       205.17962, 207.5593 , 475.94564, 309.07058, 309.21931, 225.74307,\n",
       "       361.04866, 299.51315, 267.0513 , 393.80797, 217.86038, 301.14918,\n",
       "       257.27383, 265.564  , 248.16259, 254.07308, 173.20267, 241.61847,\n",
       "       448.13313, 250.24481, 289.10205, 267.38747, 282.62924, 249.35243,\n",
       "       276.75746, 618.98519, 591.65758, 336.06202, 433.51888, 370.12119,\n",
       "       281.18065, 194.1736 , 430.69301, 516.54893, 374.6218 , 478.28661,\n",
       "       390.87208, 523.53924, 141.33574, 151.15192, 170.18936, 151.15192,\n",
       "       177.3284 , 163.9427 , 150.557  , 144.75653, 151.44938, 167.06603,\n",
       "       159.81697, 140.44336, 135.684  , 171.15916, 137.1713 , 137.24872,\n",
       "       152.19303, 161.37558, 194.1736 , 207.5593 , 163.68395, 171.71537,\n",
       "       170.97172, 178.44693, 179.15187, 146.61871, 187.03456, 165.35869,\n",
       "       164.4276 , 182.98014, 260.0997 , 185.2498 , 206.072  , 185.84472,\n",
       "       155.5038 , 185.06236, 215.88818, 160.26316, 221.13244, 140.6308 ,\n",
       "       157.73475, 210.23644, 180.97534, 207.5593 , 252.32703, 199.56659,\n",
       "       167.4022 , 209.38277, 207.5593 , 182.2752 , 214.77576, 213.9934 ,\n",
       "       246.08037, 150.89317, 161.89919, 319.25553, 243.2545 , 176.326  ,\n",
       "       171.8641 , 176.17727, 231.09735, 169.93061, 207.5593 , 172.45902,\n",
       "       234.77689, 160.41189, 261.1021 , 192.57628, 165.02252, 148.40347,\n",
       "       241.46974, 195.36344, 187.18329, 158.77586, 213.69594, 135.08908,\n",
       "       203.98978, 213.80596, 222.87849, 213.69594, 237.19528, 216.92929,\n",
       "       168.8895 , 165.46871, 167.99712, 142.41556, 321.97138, 217.82167,\n",
       "       210.5339 , 246.714  , 269.46969, 164.4276 , 181.08536, 181.90032,\n",
       "       325.39217, 198.78423, 183.65248, 211.91118, 182.53395, 170.18936,\n",
       "       190.04787, 185.39853, 260.17101, 196.85074, 295.38742, 212.16993,\n",
       "       275.12143, 295.19998, 160.56062, 215.29326, 295.98234, 157.58602,\n",
       "       292.96903, 248.60878, 263.81795, 331.04391, 289.65826, 225.81438,\n",
       "       263.92797, 258.01748, 181.53155, 351.41992, 247.12148, 201.16391,\n",
       "       261.43827, 241.17228, 269.72844, 192.87374, 213.65723, 223.9196 ,\n",
       "       221.83738, 366.44165, 175.73108, 238.94133, 267.20003, 226.8942 ,\n",
       "       227.34039, 331.08262, 243.2545 , 308.28822, 299.2544 , 212.46739,\n",
       "       214.29086, 274.04161, 255.89655, 290.73808, 253.6656 , 300.2568 ,\n",
       "       184.54486, 234.96433, 176.51344, 273.78286, 186.84712, 258.08879,\n",
       "       214.54961, 321.30515, 232.39721, 345.65816, 206.22073, 221.24246,\n",
       "       195.21471, 246.714  , 301.59537, 325.57961, 277.05492, 307.99076,\n",
       "       426.26982, 200.1228 , 187.62948, 419.53826, 259.80224, 228.08404,\n",
       "       292.67157, 348.44532, 314.83234, 326.84076, 238.19768, 331.78756,\n",
       "       347.74038, 388.04621, 438.0908 , 320.89156, 310.183  , 264.82035,\n",
       "       320.33535, 362.27721, 254.70671, 218.71405, 243.99815, 302.59777,\n",
       "       387.74875, 306.05727, 210.64392, 344.98582, 317.80694, 219.90389,\n",
       "       374.66051, 380.16352, 464.00853, 284.34269, 332.82867, 469.77029,\n",
       "       198.33804, 202.90996, 459.24917, 534.69399, 329.40788, 492.45467,\n",
       "       203.87976, 126.42403, 146.98748, 155.46509, 145.20272, 167.06603,\n",
       "       151.22934, 160.26316, 158.88588, 186.10347, 155.20634, 152.5292 ,\n",
       "       199.23042, 154.16523, 136.98386, 170.52553, 147.17492, 180.63917,\n",
       "       183.61377, 170.52553, 148.0673 , 196.44326, 186.58837, 193.39124,\n",
       "       212.5061 , 160.41189, 140.92826, 159.81697, 165.46871, 173.68757,\n",
       "       160.9681 , 167.99712, 146.58   , 177.21838, 188.96805, 227.34039,\n",
       "       148.17732, 149.40587, 186.03216, 154.12652, 178.85441, 246.2291 ,\n",
       "       191.49646, 219.16024, 202.05629, 184.39613, 185.99345, 147.73113,\n",
       "       218.15784, 197.74312, 176.62346, 162.04792, 181.08536, 241.46974,\n",
       "       191.75521, 233.14086, 151.15192, 197.1482 , 176.92092, 198.67421,\n",
       "       201.64881, 140.6308 , 210.23644, 152.38047, 225.25817, 260.39716,\n",
       "       259.65351, 190.30662, 241.46974, 247.27021, 157.43729, 180.93663,\n",
       "       172.60775, 208.45168, 199.82534, 218.30657, 271.70064, 178.66697,\n",
       "       190.60408, 193.53997, 134.94035, 201.75883, 192.6863 , 185.54726,\n",
       "       237.7902 , 223.47341, 213.5085 , 208.45168, 129.92224, 277.75986,\n",
       "       191.49646, 208.74914, 175.17487, 242.2521 , 220.98371, 152.5292 ,\n",
       "       140.6308 , 214.40088, 213.5085 , 199.82534, 176.66217, 234.07195,\n",
       "       185.54726, 318.1044 , 217.52421, 178.70568, 229.61005, 200.42026])"
      ]
     },
     "execution_count": 7,
     "metadata": {},
     "output_type": "execute_result"
    }
   ],
   "source": [
    "real_price = data[\"price\"]\n",
    "x_area = data[\"area\"]\n",
    "x_beds = data[\"beds\"]\n",
    "x = np.array([x_area, x_beds]).T\n",
    "print(x_area.shape)\n",
    "print(x_beds.shape)\n",
    "\n",
    "print(x.shape)\n",
    "\n",
    "predicted_price = np.inner(w, x) + b\n",
    "predicted_price"
   ]
  },
  {
   "cell_type": "code",
   "execution_count": 8,
   "id": "ef91edef",
   "metadata": {
    "id": "VlnbFxLbnMrJ",
    "outputId": "787d8535-2569-48be-ff1d-7ca734cedddb",
    "slideshow": {
     "slide_type": "slide"
    }
   },
   "outputs": [
    {
     "data": {
      "image/png": "[encoded data removed]",
      "text/plain": [
       "<Figure size 500x500 with 1 Axes>"
      ]
     },
     "metadata": {},
     "output_type": "display_data"
    }
   ],
   "source": [
    "# No need to understand the following code.\n",
    "fg = plt.figure(figsize=(5, 5)); ax = fg.add_subplot(projection='3d')\n",
    "ax.scatter(x_area, x_beds, real_price, c=x_beds, s=50); ax.set_xlabel(\"Area (1000 sq. feet)\", fontsize=20); ax.set_ylabel(\"Number of Beds\", fontsize=20); ax.set_zlabel(\"Price (k$)\", fontsize=20);\n",
    "\n",
    "x_beds_grid = np.arange(0, 6, 0.5); x_area_grid = np.arange(0, 4, 0.5)\n",
    "X, Y = np.meshgrid(x_beds_grid, x_area_grid)\n",
    "zs = np.array(y_hat(np.array([np.ravel(X), np.ravel(Y)]).T)); Z = zs.reshape(X.shape)\n",
    "ax.plot_surface(X, Y, Z, alpha=0.2, color=\"blue\"); plt.show();"
   ]
  },
  {
   "cell_type": "markdown",
   "id": "3248e44a",
   "metadata": {
    "slideshow": {
     "slide_type": "slide"
    }
   },
   "source": [
    "### Least Squares Problem"
   ]
  },
  {
   "cell_type": "markdown",
   "id": "44efa1e0",
   "metadata": {},
   "source": [
    "$\\color{#EF5645}{\\text{Definition}}$: Let be given a $m \\times n$ matrix $A$ and $m$-vector $b$. The least squares problem is the problem of choosing an $n$-vector $x$ to minimize: \n",
    "$$\\text{Obj}(x) = ‖Ax − b‖^2.$$\n",
    "\n",
    "- $‖Ax − b‖^2$ is called the objective function $\\text{Obj}$.\n"
   ]
  },
  {
   "cell_type": "markdown",
   "id": "e37a8821",
   "metadata": {
    "slideshow": {
     "slide_type": "slide"
    }
   },
   "source": [
    "$\\color{#6D7D33}{\\text{Properties}}$:\n",
    "- If $x^*$ is a solution of $Ax = b$, then $x^*$ is a solution of the least square problem. \n",
    "- The following is **not** true: if $x^*$ is a solution of the least square problem, then $x^*$ is the solution of $Ax=b$.\n",
    "- $x^*$ is a solution of least squares problem if $‖A x^* − b‖^2 ≤ ‖Ax − b‖^2$ for any other $n$-vector $x$."
   ]
  },
  {
   "cell_type": "markdown",
   "id": "a9c74618",
   "metadata": {
    "slideshow": {
     "slide_type": "slide"
    }
   },
   "source": [
    "$\\color{#047C91}{\\text{Exercise}}$: Consider the matrix $A$ and vector $b$ as:\n",
    "\n",
    "<center><img src=\"figs/lec11_Ab.png\" width=400px alt=\"default\"/></center>\n",
    "\n",
    "Write the objective function associated to the least square problem defined by $A$ and $b$ in terms of entries of $x$."
   ]
  },
  {
   "cell_type": "code",
   "execution_count": 9,
   "id": "296a7348",
   "metadata": {
    "scrolled": true,
    "slideshow": {
     "slide_type": "slide"
    }
   },
   "outputs": [
    {
     "data": {
      "image/png": "[encoded data removed]",
      "text/plain": [
       "<Figure size 640x480 with 2 Axes>"
      ]
     },
     "metadata": {},
     "output_type": "display_data"
    }
   ],
   "source": [
    "# No need to understand this code\n",
    "import numpy as np; import matplotlib.pyplot as plt\n",
    "objective = lambda x : (2 * x[0] - 1) ** 2 + (- x[0] + x[1]) ** 2 + (2 * x[1] + 1) ** 2\n",
    "n_points, xmin, xmax, ymin, ymax = 20, -2, 2, -2, 2\n",
    "x = np.arange(xmin, xmax, (xmax-xmin)/(n_points)); y = np.arange(ymin, ymax, (ymax-ymin)/(n_points)); xx = np.dstack(np.meshgrid(x, y)); Z = np.zeros((n_points, n_points))\n",
    "for i in range(n_points):\n",
    "    for j in range(n_points):\n",
    "        Z[i, j] = objective(xx[i, j])\n",
    "plt.imshow(Z, extent=[xmin, xmax, ymin, ymax]); plt.colorbar(); plt.xlabel(\"x1\"); plt.ylabel(\"x2\"); plt.title(\"Objective ||Ax - b||^2\");"
   ]
  },
  {
   "cell_type": "markdown",
   "id": "820d8f78",
   "metadata": {
    "slideshow": {
     "slide_type": "slide"
    }
   },
   "source": [
    "##### Outline: 11 Least Squares\n",
    "\n",
    "- [Least Square Problem](#sec)\n",
    "- **[Solution of Least Square Problem](#sec)**\n",
    "- [Examples](#sec)"
   ]
  },
  {
   "cell_type": "markdown",
   "id": "9fcd3183",
   "metadata": {
    "slideshow": {
     "slide_type": "slide"
    }
   },
   "source": [
    "### Least Square Solution\n",
    "\n",
    "$\\color{#EF5645}{\\text{Proposition}}$: \n",
    "- Consider a least square problem $||Ax - b||^2$ for matrix $A$ and vector $b$. \n",
    "- Assume that $A$ has linearly independent columns. \n",
    "\n",
    "Then, there is a unique solution $x^*$ defined as:\n",
    "$$x^* = (A^T A)^{-1} A^Tb = A^\\dagger b.$$\n",
    "where $A^\\dagger = (A^T A)^{-1} A^T$ is called the pseudo-inverse of $A$."
   ]
  },
  {
   "cell_type": "markdown",
   "id": "b23f0e06",
   "metadata": {
    "slideshow": {
     "slide_type": "slide"
    }
   },
   "source": [
    "$\\color{#003660}{\\text{In Python}}$, we use either:\n",
    "-  `np.linalg.lstsq`: returns the solution as the first element of the returned tuple\n",
    "- or formula of solution using transpose `.T`,  `np.linalg.inv` and `@`."
   ]
  },
  {
   "cell_type": "code",
   "execution_count": 6,
   "id": "efc65722",
   "metadata": {},
   "outputs": [
    {
     "name": "stdout",
     "output_type": "stream",
     "text": [
      "[ 0.33333333 -0.33333333]\n"
     ]
    }
   ],
   "source": [
    "import numpy as np\n",
    "A = np.array([[2, 0], [-1, 1], [0, 2]]); b = np.array([1, 0, -1]); \n",
    "#x_star = np.linalg.lstsq(A, b)[0]; print(x_star)\n",
    "x_star_2 = np.linalg.inv(A.T @ A) @ A.T @ b; print(x_star_2)"
   ]
  },
  {
   "cell_type": "markdown",
   "id": "b3796889",
   "metadata": {
    "slideshow": {
     "slide_type": "slide"
    }
   },
   "source": [
    "### True relationship: $f$\n",
    "\n",
    "\n",
    "$\\color{#EF5645}{\\text{Definition}}$: When we believe that a scalar $y$ and an $n$-vector $x$ are related by model:\n",
    "$$y ≈ f (x),$$\n",
    "we use the following vocabulary:\n",
    "- $x$ is called the feature or input vector,\n",
    "- $y$ is called the actual outcome or response variable,\n",
    "- $f : \\mathbb{R}^n \\rightarrow \\mathbb{R}$ represents the \"true\" relationship between x and y.\n",
    "\n",
    "Generally, we do not know $f$, we just assume it exists. Our goal is to learn $f$, or a reasonable approximation of it, using data."
   ]
  },
  {
   "cell_type": "markdown",
   "id": "44c15a12",
   "metadata": {
    "slideshow": {
     "slide_type": "slide"
    }
   },
   "source": [
    "### Model: $\\hat{f}$\n",
    "\n",
    "$\\color{#EF5645}{\\text{Definition}}$: Choosing a set of \"basis functions\": $f_j: \\mathbb{R}^n \\rightarrow \\mathbb{R}$, for $j=1...p$, we model a guess or approximation of $f$ as:\n",
    "$$\\hat y = \\hat{f}(x) = \\theta_1 f_1(x) + ... + \\theta_p f_p(x),$$\n",
    "where:\n",
    "- $\\theta_j$ are parameters that we learn from data: $x^{(1)}, ..., x^{(N)},..., y^{(1)},... y^{(N)}$,\n",
    "- $\\hat{y}^{(i)} = \\hat{f}(x^{(i)})$ is the prediction of $y^{(i)}$, for $i=1, ..., N$.\n",
    "\n",
    "$\\color{#047C91}{\\text{Exercise}}$: What are the basis functions in linear regression? What are the parameters?"
   ]
  },
  {
   "cell_type": "markdown",
   "id": "ac20295c",
   "metadata": {
    "slideshow": {
     "slide_type": "slide"
    }
   },
   "source": [
    "### Prediction Error (Residual)\n",
    "\n",
    "$\\color{#EF5645}{\\text{Remark}}$: Our predictions are $\\hat y_i = \\hat f(x_i)$, for $i=1, ..., N$. If our model is good, then $\\hat{y}^{(i)} ≈ y^{(i)}$ for $i=1, ..., N$.\n",
    "\n",
    "\n",
    "$\\color{#EF5645}{\\text{Definition}}$: We define the _prediction error_, or _residual_ for each $i=1, ..., N$: \n",
    "$$r_i = y^{(i)} - \\hat{y}^{(i)}.$$"
   ]
  },
  {
   "cell_type": "markdown",
   "id": "cd74860a",
   "metadata": {
    "slideshow": {
     "slide_type": "slide"
    }
   },
   "source": [
    "### Least Square Data Fitting\n",
    "\n",
    "\n",
    "$\\color{#EF5645}{\\text{Definition}}$: The Least Square Data Fitting problem is the problem of choosing model's parameters $\\theta_1, ..., \\theta_n$ that minimize:\n",
    "$$\\big(\\frac{r_1^2 + ... + r_N^2}{N}\\big)^{1/2}.$$"
   ]
  },
  {
   "cell_type": "markdown",
   "id": "4bd786b5",
   "metadata": {
    "slideshow": {
     "slide_type": "slide"
    }
   },
   "source": [
    "$\\color{#6D7D33}{\\text{Proposition}}$: Define the $N \\times p$ matrix $A$ with elements $A_{ij} = f_j(x^{(i)})$, such that $\\hat y =A \\theta$, where $y = (y^{(1)}, . . . , y^{(N)})$ is vector of outcomes. \n",
    "\n",
    "The Least Square Data Fitting problem amounts to choose $\\theta$ that minimizes:\n",
    "$$||A\\theta - y||^2,$$\n",
    "which shows that it is effectively a Least Square Problem. \n",
    "\n",
    "$\\color{#6D7D33}{\\text{Proposition}}$: Consider the Least Square Data Fitting Problem. Assuming that the columns of $A$ are independent, the solution is:\n",
    "$$\\hat \\theta = (A^TA)^{-1}A^Ty.$$"
   ]
  },
  {
   "cell_type": "markdown",
   "id": "74e145eb",
   "metadata": {
    "slideshow": {
     "slide_type": "slide"
    }
   },
   "source": [
    "### Regression of House Prices\n",
    "\n",
    "Consider the model: $\\hat f (x) = \\theta_1 f_1(x) + \\theta_2 f_2(x)$ with $f_1(x) = 1$ and $f_2(x) = x$, i.e.:\n",
    "$$\\hat y = \\hat f (x) = \\theta_1 + \\theta_2 x,$$\n",
    "where:\n",
    "- $x$: house's area in 1000 sq feet,\n",
    "- $y$: house's price in k\\$.\n",
    "\n",
    "$\\color{#047C91}{\\text{Example}}$: Write down the LS problem associated to this learning. What are $A$, $y$? Explain how you can find $\\hat \\theta_1$ and $\\hat \\theta_2$ with Python. At home: compute $\\hat \\theta_1$ and $\\hat \\theta_2$ manually (hard)."
   ]
  },
  {
   "cell_type": "code",
   "execution_count": null,
   "id": "c49f21a4",
   "metadata": {},
   "outputs": [],
   "source": []
  }
 ],
 "metadata": {
  "celltoolbar": "Tags",
  "colab": {
   "name": "Lecture 02 - Linear Functions.ipynb",
   "provenance": []
  },
  "kernelspec": {
   "display_name": "Python (courses)",
   "language": "python",
   "name": "courses"
  },
  "language_info": {
   "codemirror_mode": {
    "name": "ipython",
    "version": 3
   },
   "file_extension": ".py",
   "mimetype": "text/x-python",
   "name": "python",
   "nbconvert_exporter": "python",
   "pygments_lexer": "ipython3",
   "version": "3.12.11"
  }
 },
 "nbformat": 4,
 "nbformat_minor": 5
}
